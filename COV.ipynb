{
 "cells": [
  {
   "cell_type": "code",
   "execution_count": 4,
   "metadata": {},
   "outputs": [],
   "source": [
    "import pandas as pd\n",
    "import numpy as np\n",
    "import altair as alt\n",
    "\n"
   ]
  },
  {
   "cell_type": "code",
   "execution_count": 5,
   "metadata": {},
   "outputs": [],
   "source": [
    "data = pd.read_excel('wuhan.xlsx',engine = 'openpyxl')\n",
    "data[\"PATIENT_ID\"] = data[\"PATIENT_ID\"].fillna(method='ffill')\n"
   ]
  },
  {
   "cell_type": "code",
   "execution_count": 6,
   "metadata": {
    "scrolled": true
   },
   "outputs": [
    {
     "data": {
      "text/html": [
       "<div>\n",
       "<style scoped>\n",
       "    .dataframe tbody tr th:only-of-type {\n",
       "        vertical-align: middle;\n",
       "    }\n",
       "\n",
       "    .dataframe tbody tr th {\n",
       "        vertical-align: top;\n",
       "    }\n",
       "\n",
       "    .dataframe thead th {\n",
       "        text-align: right;\n",
       "    }\n",
       "</style>\n",
       "<table border=\"1\" class=\"dataframe\">\n",
       "  <thead>\n",
       "    <tr style=\"text-align: right;\">\n",
       "      <th></th>\n",
       "      <th>PATIENT_ID</th>\n",
       "      <th>RE_DATE</th>\n",
       "      <th>age</th>\n",
       "      <th>gender</th>\n",
       "      <th>Admission time</th>\n",
       "      <th>Discharge time</th>\n",
       "      <th>outcome</th>\n",
       "      <th>Hypersensitive cardiac troponinI</th>\n",
       "      <th>hemoglobin</th>\n",
       "      <th>Serum chloride</th>\n",
       "      <th>...</th>\n",
       "      <th>mean corpuscular hemoglobin</th>\n",
       "      <th>Activation of partial thromboplastin time</th>\n",
       "      <th>High sensitivity C-reactive protein</th>\n",
       "      <th>HIV antibody quantification</th>\n",
       "      <th>serum sodium</th>\n",
       "      <th>thrombocytocrit</th>\n",
       "      <th>ESR</th>\n",
       "      <th>glutamic-pyruvic transaminase</th>\n",
       "      <th>eGFR</th>\n",
       "      <th>creatinine</th>\n",
       "    </tr>\n",
       "  </thead>\n",
       "  <tbody>\n",
       "    <tr>\n",
       "      <th>0</th>\n",
       "      <td>1.0</td>\n",
       "      <td>2020-01-31 01:09:00.000000</td>\n",
       "      <td>73</td>\n",
       "      <td>1</td>\n",
       "      <td>2020-01-30 22:12:47</td>\n",
       "      <td>2020-02-17 12:40:09</td>\n",
       "      <td>0</td>\n",
       "      <td>NaN</td>\n",
       "      <td>NaN</td>\n",
       "      <td>NaN</td>\n",
       "      <td>...</td>\n",
       "      <td>NaN</td>\n",
       "      <td>NaN</td>\n",
       "      <td>NaN</td>\n",
       "      <td>NaN</td>\n",
       "      <td>NaN</td>\n",
       "      <td>NaN</td>\n",
       "      <td>NaN</td>\n",
       "      <td>NaN</td>\n",
       "      <td>NaN</td>\n",
       "      <td>NaN</td>\n",
       "    </tr>\n",
       "    <tr>\n",
       "      <th>1</th>\n",
       "      <td>1.0</td>\n",
       "      <td>2020-01-31 01:25:00.000000</td>\n",
       "      <td>73</td>\n",
       "      <td>1</td>\n",
       "      <td>2020-01-30 22:12:47</td>\n",
       "      <td>2020-02-17 12:40:09</td>\n",
       "      <td>0</td>\n",
       "      <td>NaN</td>\n",
       "      <td>136.0</td>\n",
       "      <td>NaN</td>\n",
       "      <td>...</td>\n",
       "      <td>31.9</td>\n",
       "      <td>NaN</td>\n",
       "      <td>NaN</td>\n",
       "      <td>NaN</td>\n",
       "      <td>NaN</td>\n",
       "      <td>0.12</td>\n",
       "      <td>NaN</td>\n",
       "      <td>NaN</td>\n",
       "      <td>NaN</td>\n",
       "      <td>NaN</td>\n",
       "    </tr>\n",
       "    <tr>\n",
       "      <th>2</th>\n",
       "      <td>1.0</td>\n",
       "      <td>2020-01-31 01:44:00.000000</td>\n",
       "      <td>73</td>\n",
       "      <td>1</td>\n",
       "      <td>2020-01-30 22:12:47</td>\n",
       "      <td>2020-02-17 12:40:09</td>\n",
       "      <td>0</td>\n",
       "      <td>NaN</td>\n",
       "      <td>NaN</td>\n",
       "      <td>103.1</td>\n",
       "      <td>...</td>\n",
       "      <td>NaN</td>\n",
       "      <td>NaN</td>\n",
       "      <td>43.1</td>\n",
       "      <td>NaN</td>\n",
       "      <td>137.7</td>\n",
       "      <td>NaN</td>\n",
       "      <td>NaN</td>\n",
       "      <td>16.0</td>\n",
       "      <td>46.6</td>\n",
       "      <td>130.0</td>\n",
       "    </tr>\n",
       "    <tr>\n",
       "      <th>3</th>\n",
       "      <td>1.0</td>\n",
       "      <td>2020-01-31 01:44:59.999999</td>\n",
       "      <td>73</td>\n",
       "      <td>1</td>\n",
       "      <td>2020-01-30 22:12:47</td>\n",
       "      <td>2020-02-17 12:40:09</td>\n",
       "      <td>0</td>\n",
       "      <td>NaN</td>\n",
       "      <td>NaN</td>\n",
       "      <td>NaN</td>\n",
       "      <td>...</td>\n",
       "      <td>NaN</td>\n",
       "      <td>NaN</td>\n",
       "      <td>NaN</td>\n",
       "      <td>NaN</td>\n",
       "      <td>NaN</td>\n",
       "      <td>NaN</td>\n",
       "      <td>NaN</td>\n",
       "      <td>NaN</td>\n",
       "      <td>NaN</td>\n",
       "      <td>NaN</td>\n",
       "    </tr>\n",
       "    <tr>\n",
       "      <th>4</th>\n",
       "      <td>1.0</td>\n",
       "      <td>2020-01-31 01:56:00.000001</td>\n",
       "      <td>73</td>\n",
       "      <td>1</td>\n",
       "      <td>2020-01-30 22:12:47</td>\n",
       "      <td>2020-02-17 12:40:09</td>\n",
       "      <td>0</td>\n",
       "      <td>19.9</td>\n",
       "      <td>NaN</td>\n",
       "      <td>NaN</td>\n",
       "      <td>...</td>\n",
       "      <td>NaN</td>\n",
       "      <td>NaN</td>\n",
       "      <td>NaN</td>\n",
       "      <td>NaN</td>\n",
       "      <td>NaN</td>\n",
       "      <td>NaN</td>\n",
       "      <td>NaN</td>\n",
       "      <td>NaN</td>\n",
       "      <td>NaN</td>\n",
       "      <td>NaN</td>\n",
       "    </tr>\n",
       "    <tr>\n",
       "      <th>...</th>\n",
       "      <td>...</td>\n",
       "      <td>...</td>\n",
       "      <td>...</td>\n",
       "      <td>...</td>\n",
       "      <td>...</td>\n",
       "      <td>...</td>\n",
       "      <td>...</td>\n",
       "      <td>...</td>\n",
       "      <td>...</td>\n",
       "      <td>...</td>\n",
       "      <td>...</td>\n",
       "      <td>...</td>\n",
       "      <td>...</td>\n",
       "      <td>...</td>\n",
       "      <td>...</td>\n",
       "      <td>...</td>\n",
       "      <td>...</td>\n",
       "      <td>...</td>\n",
       "      <td>...</td>\n",
       "      <td>...</td>\n",
       "      <td>...</td>\n",
       "    </tr>\n",
       "    <tr>\n",
       "      <th>6115</th>\n",
       "      <td>375.0</td>\n",
       "      <td>2020-02-16 11:21:00.000001</td>\n",
       "      <td>68</td>\n",
       "      <td>1</td>\n",
       "      <td>2020-02-08 23:25:01</td>\n",
       "      <td>2020-02-19 01:31:58</td>\n",
       "      <td>1</td>\n",
       "      <td>84.9</td>\n",
       "      <td>NaN</td>\n",
       "      <td>NaN</td>\n",
       "      <td>...</td>\n",
       "      <td>NaN</td>\n",
       "      <td>NaN</td>\n",
       "      <td>NaN</td>\n",
       "      <td>NaN</td>\n",
       "      <td>NaN</td>\n",
       "      <td>NaN</td>\n",
       "      <td>NaN</td>\n",
       "      <td>NaN</td>\n",
       "      <td>NaN</td>\n",
       "      <td>NaN</td>\n",
       "    </tr>\n",
       "    <tr>\n",
       "      <th>6116</th>\n",
       "      <td>375.0</td>\n",
       "      <td>2020-02-16 12:04:00.000000</td>\n",
       "      <td>68</td>\n",
       "      <td>1</td>\n",
       "      <td>2020-02-08 23:25:01</td>\n",
       "      <td>2020-02-19 01:31:58</td>\n",
       "      <td>1</td>\n",
       "      <td>NaN</td>\n",
       "      <td>NaN</td>\n",
       "      <td>NaN</td>\n",
       "      <td>...</td>\n",
       "      <td>NaN</td>\n",
       "      <td>NaN</td>\n",
       "      <td>NaN</td>\n",
       "      <td>NaN</td>\n",
       "      <td>NaN</td>\n",
       "      <td>NaN</td>\n",
       "      <td>NaN</td>\n",
       "      <td>NaN</td>\n",
       "      <td>NaN</td>\n",
       "      <td>NaN</td>\n",
       "    </tr>\n",
       "    <tr>\n",
       "      <th>6117</th>\n",
       "      <td>375.0</td>\n",
       "      <td>2020-02-16 12:14:00.000000</td>\n",
       "      <td>68</td>\n",
       "      <td>1</td>\n",
       "      <td>2020-02-08 23:25:01</td>\n",
       "      <td>2020-02-19 01:31:58</td>\n",
       "      <td>1</td>\n",
       "      <td>NaN</td>\n",
       "      <td>NaN</td>\n",
       "      <td>105.2</td>\n",
       "      <td>...</td>\n",
       "      <td>NaN</td>\n",
       "      <td>NaN</td>\n",
       "      <td>267.0</td>\n",
       "      <td>NaN</td>\n",
       "      <td>139.3</td>\n",
       "      <td>NaN</td>\n",
       "      <td>NaN</td>\n",
       "      <td>17.0</td>\n",
       "      <td>88.6</td>\n",
       "      <td>77.0</td>\n",
       "    </tr>\n",
       "    <tr>\n",
       "      <th>6118</th>\n",
       "      <td>375.0</td>\n",
       "      <td>2020-02-16 14:11:00.000000</td>\n",
       "      <td>68</td>\n",
       "      <td>1</td>\n",
       "      <td>2020-02-08 23:25:01</td>\n",
       "      <td>2020-02-19 01:31:58</td>\n",
       "      <td>1</td>\n",
       "      <td>NaN</td>\n",
       "      <td>155.0</td>\n",
       "      <td>NaN</td>\n",
       "      <td>...</td>\n",
       "      <td>31.6</td>\n",
       "      <td>NaN</td>\n",
       "      <td>NaN</td>\n",
       "      <td>NaN</td>\n",
       "      <td>NaN</td>\n",
       "      <td>NaN</td>\n",
       "      <td>NaN</td>\n",
       "      <td>NaN</td>\n",
       "      <td>NaN</td>\n",
       "      <td>NaN</td>\n",
       "    </tr>\n",
       "    <tr>\n",
       "      <th>6119</th>\n",
       "      <td>375.0</td>\n",
       "      <td>2020-02-16 14:37:00.000000</td>\n",
       "      <td>68</td>\n",
       "      <td>1</td>\n",
       "      <td>2020-02-08 23:25:01</td>\n",
       "      <td>2020-02-19 01:31:58</td>\n",
       "      <td>1</td>\n",
       "      <td>NaN</td>\n",
       "      <td>NaN</td>\n",
       "      <td>NaN</td>\n",
       "      <td>...</td>\n",
       "      <td>NaN</td>\n",
       "      <td>35.8</td>\n",
       "      <td>NaN</td>\n",
       "      <td>NaN</td>\n",
       "      <td>NaN</td>\n",
       "      <td>NaN</td>\n",
       "      <td>NaN</td>\n",
       "      <td>NaN</td>\n",
       "      <td>NaN</td>\n",
       "      <td>NaN</td>\n",
       "    </tr>\n",
       "  </tbody>\n",
       "</table>\n",
       "<p>6120 rows × 81 columns</p>\n",
       "</div>"
      ],
      "text/plain": [
       "      PATIENT_ID                    RE_DATE  age  gender      Admission time  \\\n",
       "0            1.0 2020-01-31 01:09:00.000000   73       1 2020-01-30 22:12:47   \n",
       "1            1.0 2020-01-31 01:25:00.000000   73       1 2020-01-30 22:12:47   \n",
       "2            1.0 2020-01-31 01:44:00.000000   73       1 2020-01-30 22:12:47   \n",
       "3            1.0 2020-01-31 01:44:59.999999   73       1 2020-01-30 22:12:47   \n",
       "4            1.0 2020-01-31 01:56:00.000001   73       1 2020-01-30 22:12:47   \n",
       "...          ...                        ...  ...     ...                 ...   \n",
       "6115       375.0 2020-02-16 11:21:00.000001   68       1 2020-02-08 23:25:01   \n",
       "6116       375.0 2020-02-16 12:04:00.000000   68       1 2020-02-08 23:25:01   \n",
       "6117       375.0 2020-02-16 12:14:00.000000   68       1 2020-02-08 23:25:01   \n",
       "6118       375.0 2020-02-16 14:11:00.000000   68       1 2020-02-08 23:25:01   \n",
       "6119       375.0 2020-02-16 14:37:00.000000   68       1 2020-02-08 23:25:01   \n",
       "\n",
       "          Discharge time  outcome  Hypersensitive cardiac troponinI  \\\n",
       "0    2020-02-17 12:40:09        0                               NaN   \n",
       "1    2020-02-17 12:40:09        0                               NaN   \n",
       "2    2020-02-17 12:40:09        0                               NaN   \n",
       "3    2020-02-17 12:40:09        0                               NaN   \n",
       "4    2020-02-17 12:40:09        0                              19.9   \n",
       "...                  ...      ...                               ...   \n",
       "6115 2020-02-19 01:31:58        1                              84.9   \n",
       "6116 2020-02-19 01:31:58        1                               NaN   \n",
       "6117 2020-02-19 01:31:58        1                               NaN   \n",
       "6118 2020-02-19 01:31:58        1                               NaN   \n",
       "6119 2020-02-19 01:31:58        1                               NaN   \n",
       "\n",
       "      hemoglobin  Serum chloride  ...  mean corpuscular hemoglobin   \\\n",
       "0            NaN             NaN  ...                           NaN   \n",
       "1          136.0             NaN  ...                          31.9   \n",
       "2            NaN           103.1  ...                           NaN   \n",
       "3            NaN             NaN  ...                           NaN   \n",
       "4            NaN             NaN  ...                           NaN   \n",
       "...          ...             ...  ...                           ...   \n",
       "6115         NaN             NaN  ...                           NaN   \n",
       "6116         NaN             NaN  ...                           NaN   \n",
       "6117         NaN           105.2  ...                           NaN   \n",
       "6118       155.0             NaN  ...                          31.6   \n",
       "6119         NaN             NaN  ...                           NaN   \n",
       "\n",
       "      Activation of partial thromboplastin time  \\\n",
       "0                                           NaN   \n",
       "1                                           NaN   \n",
       "2                                           NaN   \n",
       "3                                           NaN   \n",
       "4                                           NaN   \n",
       "...                                         ...   \n",
       "6115                                        NaN   \n",
       "6116                                        NaN   \n",
       "6117                                        NaN   \n",
       "6118                                        NaN   \n",
       "6119                                       35.8   \n",
       "\n",
       "      High sensitivity C-reactive protein  HIV antibody quantification  \\\n",
       "0                                     NaN                          NaN   \n",
       "1                                     NaN                          NaN   \n",
       "2                                    43.1                          NaN   \n",
       "3                                     NaN                          NaN   \n",
       "4                                     NaN                          NaN   \n",
       "...                                   ...                          ...   \n",
       "6115                                  NaN                          NaN   \n",
       "6116                                  NaN                          NaN   \n",
       "6117                                267.0                          NaN   \n",
       "6118                                  NaN                          NaN   \n",
       "6119                                  NaN                          NaN   \n",
       "\n",
       "      serum sodium  thrombocytocrit  ESR  glutamic-pyruvic transaminase  eGFR  \\\n",
       "0              NaN              NaN  NaN                            NaN   NaN   \n",
       "1              NaN             0.12  NaN                            NaN   NaN   \n",
       "2            137.7              NaN  NaN                           16.0  46.6   \n",
       "3              NaN              NaN  NaN                            NaN   NaN   \n",
       "4              NaN              NaN  NaN                            NaN   NaN   \n",
       "...            ...              ...  ...                            ...   ...   \n",
       "6115           NaN              NaN  NaN                            NaN   NaN   \n",
       "6116           NaN              NaN  NaN                            NaN   NaN   \n",
       "6117         139.3              NaN  NaN                           17.0  88.6   \n",
       "6118           NaN              NaN  NaN                            NaN   NaN   \n",
       "6119           NaN              NaN  NaN                            NaN   NaN   \n",
       "\n",
       "      creatinine  \n",
       "0            NaN  \n",
       "1            NaN  \n",
       "2          130.0  \n",
       "3            NaN  \n",
       "4            NaN  \n",
       "...          ...  \n",
       "6115         NaN  \n",
       "6116         NaN  \n",
       "6117        77.0  \n",
       "6118         NaN  \n",
       "6119         NaN  \n",
       "\n",
       "[6120 rows x 81 columns]"
      ]
     },
     "execution_count": 6,
     "metadata": {},
     "output_type": "execute_result"
    }
   ],
   "source": [
    "data.dtypes.head()\n",
    "data"
   ]
  },
  {
   "cell_type": "code",
   "execution_count": null,
   "metadata": {},
   "outputs": [],
   "source": []
  },
  {
   "cell_type": "code",
   "execution_count": 7,
   "metadata": {},
   "outputs": [],
   "source": [
    "data_1 = data.groupby(\"PATIENT_ID\").mean()\n",
    "data_1['gender'].replace(1, 'Female',inplace=True)\n",
    "data_1['gender'].replace(2, 'Male',inplace=True)\n",
    "data_1['outcome'].replace(0, 'Recovered',inplace=True)\n",
    "data_1['outcome'].replace(1, 'Dead',inplace=True)"
   ]
  },
  {
   "cell_type": "code",
   "execution_count": 8,
   "metadata": {},
   "outputs": [
    {
     "data": {
      "text/html": [
       "<div>\n",
       "<style scoped>\n",
       "    .dataframe tbody tr th:only-of-type {\n",
       "        vertical-align: middle;\n",
       "    }\n",
       "\n",
       "    .dataframe tbody tr th {\n",
       "        vertical-align: top;\n",
       "    }\n",
       "\n",
       "    .dataframe thead th {\n",
       "        text-align: right;\n",
       "    }\n",
       "</style>\n",
       "<table border=\"1\" class=\"dataframe\">\n",
       "  <thead>\n",
       "    <tr style=\"text-align: right;\">\n",
       "      <th></th>\n",
       "      <th>age</th>\n",
       "      <th>gender</th>\n",
       "      <th>outcome</th>\n",
       "      <th>Hypersensitive cardiac troponinI</th>\n",
       "      <th>hemoglobin</th>\n",
       "      <th>Serum chloride</th>\n",
       "      <th>Prothrombin time</th>\n",
       "      <th>procalcitonin</th>\n",
       "      <th>eosinophils(%)</th>\n",
       "      <th>Interleukin 2 receptor</th>\n",
       "      <th>...</th>\n",
       "      <th>mean corpuscular hemoglobin</th>\n",
       "      <th>Activation of partial thromboplastin time</th>\n",
       "      <th>High sensitivity C-reactive protein</th>\n",
       "      <th>HIV antibody quantification</th>\n",
       "      <th>serum sodium</th>\n",
       "      <th>thrombocytocrit</th>\n",
       "      <th>ESR</th>\n",
       "      <th>glutamic-pyruvic transaminase</th>\n",
       "      <th>eGFR</th>\n",
       "      <th>creatinine</th>\n",
       "    </tr>\n",
       "    <tr>\n",
       "      <th>PATIENT_ID</th>\n",
       "      <th></th>\n",
       "      <th></th>\n",
       "      <th></th>\n",
       "      <th></th>\n",
       "      <th></th>\n",
       "      <th></th>\n",
       "      <th></th>\n",
       "      <th></th>\n",
       "      <th></th>\n",
       "      <th></th>\n",
       "      <th></th>\n",
       "      <th></th>\n",
       "      <th></th>\n",
       "      <th></th>\n",
       "      <th></th>\n",
       "      <th></th>\n",
       "      <th></th>\n",
       "      <th></th>\n",
       "      <th></th>\n",
       "      <th></th>\n",
       "      <th></th>\n",
       "    </tr>\n",
       "  </thead>\n",
       "  <tbody>\n",
       "    <tr>\n",
       "      <th>202.0</th>\n",
       "      <td>78</td>\n",
       "      <td>Female</td>\n",
       "      <td>Dead</td>\n",
       "      <td>23.100000</td>\n",
       "      <td>160.333333</td>\n",
       "      <td>105.200000</td>\n",
       "      <td>13.600000</td>\n",
       "      <td>0.580</td>\n",
       "      <td>0.133333</td>\n",
       "      <td>NaN</td>\n",
       "      <td>...</td>\n",
       "      <td>33.533333</td>\n",
       "      <td>NaN</td>\n",
       "      <td>70.200000</td>\n",
       "      <td>0.06</td>\n",
       "      <td>142.566667</td>\n",
       "      <td>0.116667</td>\n",
       "      <td>16.0</td>\n",
       "      <td>26.333333</td>\n",
       "      <td>41.400000</td>\n",
       "      <td>146.000000</td>\n",
       "    </tr>\n",
       "    <tr>\n",
       "      <th>203.0</th>\n",
       "      <td>75</td>\n",
       "      <td>Female</td>\n",
       "      <td>Dead</td>\n",
       "      <td>20.300000</td>\n",
       "      <td>125.000000</td>\n",
       "      <td>95.766667</td>\n",
       "      <td>15.766667</td>\n",
       "      <td>0.790</td>\n",
       "      <td>0.966667</td>\n",
       "      <td>1845.0</td>\n",
       "      <td>...</td>\n",
       "      <td>29.700000</td>\n",
       "      <td>42.650000</td>\n",
       "      <td>211.700000</td>\n",
       "      <td>0.06</td>\n",
       "      <td>134.766667</td>\n",
       "      <td>0.236667</td>\n",
       "      <td>47.5</td>\n",
       "      <td>20.333333</td>\n",
       "      <td>79.633333</td>\n",
       "      <td>81.000000</td>\n",
       "    </tr>\n",
       "    <tr>\n",
       "      <th>204.0</th>\n",
       "      <td>73</td>\n",
       "      <td>Female</td>\n",
       "      <td>Dead</td>\n",
       "      <td>46.300000</td>\n",
       "      <td>123.833333</td>\n",
       "      <td>93.060000</td>\n",
       "      <td>17.275000</td>\n",
       "      <td>0.920</td>\n",
       "      <td>0.183333</td>\n",
       "      <td>1853.5</td>\n",
       "      <td>...</td>\n",
       "      <td>29.666667</td>\n",
       "      <td>39.650000</td>\n",
       "      <td>211.950000</td>\n",
       "      <td>0.10</td>\n",
       "      <td>137.300000</td>\n",
       "      <td>0.120000</td>\n",
       "      <td>40.0</td>\n",
       "      <td>66.600000</td>\n",
       "      <td>82.500000</td>\n",
       "      <td>78.200000</td>\n",
       "    </tr>\n",
       "    <tr>\n",
       "      <th>205.0</th>\n",
       "      <td>67</td>\n",
       "      <td>Male</td>\n",
       "      <td>Dead</td>\n",
       "      <td>29.600000</td>\n",
       "      <td>99.000000</td>\n",
       "      <td>102.550000</td>\n",
       "      <td>14.200000</td>\n",
       "      <td>0.600</td>\n",
       "      <td>0.000000</td>\n",
       "      <td>393.0</td>\n",
       "      <td>...</td>\n",
       "      <td>31.766667</td>\n",
       "      <td>33.100000</td>\n",
       "      <td>199.633333</td>\n",
       "      <td>0.17</td>\n",
       "      <td>133.175000</td>\n",
       "      <td>0.160000</td>\n",
       "      <td>NaN</td>\n",
       "      <td>17.333333</td>\n",
       "      <td>14.333333</td>\n",
       "      <td>296.000000</td>\n",
       "    </tr>\n",
       "    <tr>\n",
       "      <th>206.0</th>\n",
       "      <td>65</td>\n",
       "      <td>Female</td>\n",
       "      <td>Dead</td>\n",
       "      <td>31.050000</td>\n",
       "      <td>137.500000</td>\n",
       "      <td>100.050000</td>\n",
       "      <td>14.900000</td>\n",
       "      <td>NaN</td>\n",
       "      <td>0.050000</td>\n",
       "      <td>NaN</td>\n",
       "      <td>...</td>\n",
       "      <td>29.500000</td>\n",
       "      <td>35.450000</td>\n",
       "      <td>127.650000</td>\n",
       "      <td>0.16</td>\n",
       "      <td>139.200000</td>\n",
       "      <td>0.210000</td>\n",
       "      <td>NaN</td>\n",
       "      <td>66.500000</td>\n",
       "      <td>91.050000</td>\n",
       "      <td>76.000000</td>\n",
       "    </tr>\n",
       "    <tr>\n",
       "      <th>...</th>\n",
       "      <td>...</td>\n",
       "      <td>...</td>\n",
       "      <td>...</td>\n",
       "      <td>...</td>\n",
       "      <td>...</td>\n",
       "      <td>...</td>\n",
       "      <td>...</td>\n",
       "      <td>...</td>\n",
       "      <td>...</td>\n",
       "      <td>...</td>\n",
       "      <td>...</td>\n",
       "      <td>...</td>\n",
       "      <td>...</td>\n",
       "      <td>...</td>\n",
       "      <td>...</td>\n",
       "      <td>...</td>\n",
       "      <td>...</td>\n",
       "      <td>...</td>\n",
       "      <td>...</td>\n",
       "      <td>...</td>\n",
       "      <td>...</td>\n",
       "    </tr>\n",
       "    <tr>\n",
       "      <th>371.0</th>\n",
       "      <td>63</td>\n",
       "      <td>Female</td>\n",
       "      <td>Dead</td>\n",
       "      <td>1741.500000</td>\n",
       "      <td>143.000000</td>\n",
       "      <td>95.700000</td>\n",
       "      <td>14.400000</td>\n",
       "      <td>1.510</td>\n",
       "      <td>0.000000</td>\n",
       "      <td>758.0</td>\n",
       "      <td>...</td>\n",
       "      <td>30.400000</td>\n",
       "      <td>43.800000</td>\n",
       "      <td>152.000000</td>\n",
       "      <td>NaN</td>\n",
       "      <td>135.800000</td>\n",
       "      <td>0.160000</td>\n",
       "      <td>19.0</td>\n",
       "      <td>31.000000</td>\n",
       "      <td>88.600000</td>\n",
       "      <td>81.000000</td>\n",
       "    </tr>\n",
       "    <tr>\n",
       "      <th>372.0</th>\n",
       "      <td>79</td>\n",
       "      <td>Female</td>\n",
       "      <td>Dead</td>\n",
       "      <td>30.716667</td>\n",
       "      <td>118.700000</td>\n",
       "      <td>119.609091</td>\n",
       "      <td>17.916667</td>\n",
       "      <td>1.635</td>\n",
       "      <td>0.240000</td>\n",
       "      <td>1833.0</td>\n",
       "      <td>...</td>\n",
       "      <td>30.010000</td>\n",
       "      <td>47.816667</td>\n",
       "      <td>232.187500</td>\n",
       "      <td>0.06</td>\n",
       "      <td>153.636364</td>\n",
       "      <td>0.172000</td>\n",
       "      <td>93.0</td>\n",
       "      <td>82.444444</td>\n",
       "      <td>16.818182</td>\n",
       "      <td>297.363636</td>\n",
       "    </tr>\n",
       "    <tr>\n",
       "      <th>373.0</th>\n",
       "      <td>61</td>\n",
       "      <td>Male</td>\n",
       "      <td>Dead</td>\n",
       "      <td>124.800000</td>\n",
       "      <td>100.000000</td>\n",
       "      <td>102.600000</td>\n",
       "      <td>14.900000</td>\n",
       "      <td>0.560</td>\n",
       "      <td>0.100000</td>\n",
       "      <td>NaN</td>\n",
       "      <td>...</td>\n",
       "      <td>27.600000</td>\n",
       "      <td>36.700000</td>\n",
       "      <td>205.800000</td>\n",
       "      <td>NaN</td>\n",
       "      <td>141.600000</td>\n",
       "      <td>0.180000</td>\n",
       "      <td>NaN</td>\n",
       "      <td>9.000000</td>\n",
       "      <td>101.300000</td>\n",
       "      <td>47.000000</td>\n",
       "    </tr>\n",
       "    <tr>\n",
       "      <th>374.0</th>\n",
       "      <td>33</td>\n",
       "      <td>Female</td>\n",
       "      <td>Dead</td>\n",
       "      <td>372.400000</td>\n",
       "      <td>119.000000</td>\n",
       "      <td>124.033333</td>\n",
       "      <td>23.250000</td>\n",
       "      <td>NaN</td>\n",
       "      <td>0.000000</td>\n",
       "      <td>2634.0</td>\n",
       "      <td>...</td>\n",
       "      <td>30.150000</td>\n",
       "      <td>38.700000</td>\n",
       "      <td>109.800000</td>\n",
       "      <td>0.09</td>\n",
       "      <td>160.400000</td>\n",
       "      <td>0.130000</td>\n",
       "      <td>19.0</td>\n",
       "      <td>1061.000000</td>\n",
       "      <td>80.933333</td>\n",
       "      <td>109.333333</td>\n",
       "    </tr>\n",
       "    <tr>\n",
       "      <th>375.0</th>\n",
       "      <td>68</td>\n",
       "      <td>Female</td>\n",
       "      <td>Dead</td>\n",
       "      <td>48.050000</td>\n",
       "      <td>163.000000</td>\n",
       "      <td>99.725000</td>\n",
       "      <td>14.950000</td>\n",
       "      <td>1.455</td>\n",
       "      <td>0.000000</td>\n",
       "      <td>1524.0</td>\n",
       "      <td>...</td>\n",
       "      <td>31.550000</td>\n",
       "      <td>40.600000</td>\n",
       "      <td>162.750000</td>\n",
       "      <td>0.08</td>\n",
       "      <td>135.600000</td>\n",
       "      <td>0.240000</td>\n",
       "      <td>39.0</td>\n",
       "      <td>17.666667</td>\n",
       "      <td>76.500000</td>\n",
       "      <td>91.000000</td>\n",
       "    </tr>\n",
       "  </tbody>\n",
       "</table>\n",
       "<p>174 rows × 77 columns</p>\n",
       "</div>"
      ],
      "text/plain": [
       "            age  gender outcome  Hypersensitive cardiac troponinI  hemoglobin  \\\n",
       "PATIENT_ID                                                                      \n",
       "202.0        78  Female    Dead                         23.100000  160.333333   \n",
       "203.0        75  Female    Dead                         20.300000  125.000000   \n",
       "204.0        73  Female    Dead                         46.300000  123.833333   \n",
       "205.0        67    Male    Dead                         29.600000   99.000000   \n",
       "206.0        65  Female    Dead                         31.050000  137.500000   \n",
       "...         ...     ...     ...                               ...         ...   \n",
       "371.0        63  Female    Dead                       1741.500000  143.000000   \n",
       "372.0        79  Female    Dead                         30.716667  118.700000   \n",
       "373.0        61    Male    Dead                        124.800000  100.000000   \n",
       "374.0        33  Female    Dead                        372.400000  119.000000   \n",
       "375.0        68  Female    Dead                         48.050000  163.000000   \n",
       "\n",
       "            Serum chloride  Prothrombin time  procalcitonin  eosinophils(%)  \\\n",
       "PATIENT_ID                                                                    \n",
       "202.0           105.200000         13.600000          0.580        0.133333   \n",
       "203.0            95.766667         15.766667          0.790        0.966667   \n",
       "204.0            93.060000         17.275000          0.920        0.183333   \n",
       "205.0           102.550000         14.200000          0.600        0.000000   \n",
       "206.0           100.050000         14.900000            NaN        0.050000   \n",
       "...                    ...               ...            ...             ...   \n",
       "371.0            95.700000         14.400000          1.510        0.000000   \n",
       "372.0           119.609091         17.916667          1.635        0.240000   \n",
       "373.0           102.600000         14.900000          0.560        0.100000   \n",
       "374.0           124.033333         23.250000            NaN        0.000000   \n",
       "375.0            99.725000         14.950000          1.455        0.000000   \n",
       "\n",
       "            Interleukin 2 receptor  ...  mean corpuscular hemoglobin   \\\n",
       "PATIENT_ID                          ...                                 \n",
       "202.0                          NaN  ...                     33.533333   \n",
       "203.0                       1845.0  ...                     29.700000   \n",
       "204.0                       1853.5  ...                     29.666667   \n",
       "205.0                        393.0  ...                     31.766667   \n",
       "206.0                          NaN  ...                     29.500000   \n",
       "...                            ...  ...                           ...   \n",
       "371.0                        758.0  ...                     30.400000   \n",
       "372.0                       1833.0  ...                     30.010000   \n",
       "373.0                          NaN  ...                     27.600000   \n",
       "374.0                       2634.0  ...                     30.150000   \n",
       "375.0                       1524.0  ...                     31.550000   \n",
       "\n",
       "            Activation of partial thromboplastin time  \\\n",
       "PATIENT_ID                                              \n",
       "202.0                                             NaN   \n",
       "203.0                                       42.650000   \n",
       "204.0                                       39.650000   \n",
       "205.0                                       33.100000   \n",
       "206.0                                       35.450000   \n",
       "...                                               ...   \n",
       "371.0                                       43.800000   \n",
       "372.0                                       47.816667   \n",
       "373.0                                       36.700000   \n",
       "374.0                                       38.700000   \n",
       "375.0                                       40.600000   \n",
       "\n",
       "            High sensitivity C-reactive protein  HIV antibody quantification  \\\n",
       "PATIENT_ID                                                                     \n",
       "202.0                                 70.200000                         0.06   \n",
       "203.0                                211.700000                         0.06   \n",
       "204.0                                211.950000                         0.10   \n",
       "205.0                                199.633333                         0.17   \n",
       "206.0                                127.650000                         0.16   \n",
       "...                                         ...                          ...   \n",
       "371.0                                152.000000                          NaN   \n",
       "372.0                                232.187500                         0.06   \n",
       "373.0                                205.800000                          NaN   \n",
       "374.0                                109.800000                         0.09   \n",
       "375.0                                162.750000                         0.08   \n",
       "\n",
       "            serum sodium  thrombocytocrit   ESR  \\\n",
       "PATIENT_ID                                        \n",
       "202.0         142.566667         0.116667  16.0   \n",
       "203.0         134.766667         0.236667  47.5   \n",
       "204.0         137.300000         0.120000  40.0   \n",
       "205.0         133.175000         0.160000   NaN   \n",
       "206.0         139.200000         0.210000   NaN   \n",
       "...                  ...              ...   ...   \n",
       "371.0         135.800000         0.160000  19.0   \n",
       "372.0         153.636364         0.172000  93.0   \n",
       "373.0         141.600000         0.180000   NaN   \n",
       "374.0         160.400000         0.130000  19.0   \n",
       "375.0         135.600000         0.240000  39.0   \n",
       "\n",
       "            glutamic-pyruvic transaminase        eGFR  creatinine  \n",
       "PATIENT_ID                                                         \n",
       "202.0                           26.333333   41.400000  146.000000  \n",
       "203.0                           20.333333   79.633333   81.000000  \n",
       "204.0                           66.600000   82.500000   78.200000  \n",
       "205.0                           17.333333   14.333333  296.000000  \n",
       "206.0                           66.500000   91.050000   76.000000  \n",
       "...                                   ...         ...         ...  \n",
       "371.0                           31.000000   88.600000   81.000000  \n",
       "372.0                           82.444444   16.818182  297.363636  \n",
       "373.0                            9.000000  101.300000   47.000000  \n",
       "374.0                         1061.000000   80.933333  109.333333  \n",
       "375.0                           17.666667   76.500000   91.000000  \n",
       "\n",
       "[174 rows x 77 columns]"
      ]
     },
     "execution_count": 8,
     "metadata": {},
     "output_type": "execute_result"
    }
   ],
   "source": [
    "data_sick = data_1[data_1.outcome == \"Dead\"]\n",
    "data_sick"
   ]
  },
  {
   "cell_type": "code",
   "execution_count": null,
   "metadata": {},
   "outputs": [],
   "source": []
  },
  {
   "cell_type": "code",
   "execution_count": 9,
   "metadata": {},
   "outputs": [
    {
     "data": {
      "text/html": [
       "<div>\n",
       "<style scoped>\n",
       "    .dataframe tbody tr th:only-of-type {\n",
       "        vertical-align: middle;\n",
       "    }\n",
       "\n",
       "    .dataframe tbody tr th {\n",
       "        vertical-align: top;\n",
       "    }\n",
       "\n",
       "    .dataframe thead th {\n",
       "        text-align: right;\n",
       "    }\n",
       "</style>\n",
       "<table border=\"1\" class=\"dataframe\">\n",
       "  <thead>\n",
       "    <tr style=\"text-align: right;\">\n",
       "      <th></th>\n",
       "      <th>age</th>\n",
       "      <th>gender</th>\n",
       "      <th>Lactate dehydrogenase</th>\n",
       "      <th>High sensitivity C-reactive protein</th>\n",
       "      <th>(%)lymphocyte</th>\n",
       "    </tr>\n",
       "    <tr>\n",
       "      <th>PATIENT_ID</th>\n",
       "      <th></th>\n",
       "      <th></th>\n",
       "      <th></th>\n",
       "      <th></th>\n",
       "      <th></th>\n",
       "    </tr>\n",
       "  </thead>\n",
       "  <tbody>\n",
       "    <tr>\n",
       "      <th>202.0</th>\n",
       "      <td>78</td>\n",
       "      <td>Female</td>\n",
       "      <td>961.000000</td>\n",
       "      <td>70.200000</td>\n",
       "      <td>5.966667</td>\n",
       "    </tr>\n",
       "    <tr>\n",
       "      <th>203.0</th>\n",
       "      <td>75</td>\n",
       "      <td>Female</td>\n",
       "      <td>437.000000</td>\n",
       "      <td>211.700000</td>\n",
       "      <td>10.266667</td>\n",
       "    </tr>\n",
       "    <tr>\n",
       "      <th>204.0</th>\n",
       "      <td>73</td>\n",
       "      <td>Female</td>\n",
       "      <td>1201.800000</td>\n",
       "      <td>211.950000</td>\n",
       "      <td>5.150000</td>\n",
       "    </tr>\n",
       "    <tr>\n",
       "      <th>205.0</th>\n",
       "      <td>67</td>\n",
       "      <td>Male</td>\n",
       "      <td>576.666667</td>\n",
       "      <td>199.633333</td>\n",
       "      <td>3.233333</td>\n",
       "    </tr>\n",
       "    <tr>\n",
       "      <th>206.0</th>\n",
       "      <td>65</td>\n",
       "      <td>Female</td>\n",
       "      <td>584.000000</td>\n",
       "      <td>127.650000</td>\n",
       "      <td>6.250000</td>\n",
       "    </tr>\n",
       "    <tr>\n",
       "      <th>...</th>\n",
       "      <td>...</td>\n",
       "      <td>...</td>\n",
       "      <td>...</td>\n",
       "      <td>...</td>\n",
       "      <td>...</td>\n",
       "    </tr>\n",
       "    <tr>\n",
       "      <th>371.0</th>\n",
       "      <td>63</td>\n",
       "      <td>Female</td>\n",
       "      <td>573.000000</td>\n",
       "      <td>152.000000</td>\n",
       "      <td>15.000000</td>\n",
       "    </tr>\n",
       "    <tr>\n",
       "      <th>372.0</th>\n",
       "      <td>79</td>\n",
       "      <td>Female</td>\n",
       "      <td>383.666667</td>\n",
       "      <td>232.187500</td>\n",
       "      <td>1.650000</td>\n",
       "    </tr>\n",
       "    <tr>\n",
       "      <th>373.0</th>\n",
       "      <td>61</td>\n",
       "      <td>Male</td>\n",
       "      <td>702.000000</td>\n",
       "      <td>205.800000</td>\n",
       "      <td>6.300000</td>\n",
       "    </tr>\n",
       "    <tr>\n",
       "      <th>374.0</th>\n",
       "      <td>33</td>\n",
       "      <td>Female</td>\n",
       "      <td>1706.333333</td>\n",
       "      <td>109.800000</td>\n",
       "      <td>2.300000</td>\n",
       "    </tr>\n",
       "    <tr>\n",
       "      <th>375.0</th>\n",
       "      <td>68</td>\n",
       "      <td>Female</td>\n",
       "      <td>983.333333</td>\n",
       "      <td>162.750000</td>\n",
       "      <td>8.300000</td>\n",
       "    </tr>\n",
       "  </tbody>\n",
       "</table>\n",
       "<p>174 rows × 5 columns</p>\n",
       "</div>"
      ],
      "text/plain": [
       "            age  gender  Lactate dehydrogenase  \\\n",
       "PATIENT_ID                                       \n",
       "202.0        78  Female             961.000000   \n",
       "203.0        75  Female             437.000000   \n",
       "204.0        73  Female            1201.800000   \n",
       "205.0        67    Male             576.666667   \n",
       "206.0        65  Female             584.000000   \n",
       "...         ...     ...                    ...   \n",
       "371.0        63  Female             573.000000   \n",
       "372.0        79  Female             383.666667   \n",
       "373.0        61    Male             702.000000   \n",
       "374.0        33  Female            1706.333333   \n",
       "375.0        68  Female             983.333333   \n",
       "\n",
       "            High sensitivity C-reactive protein  (%)lymphocyte  \n",
       "PATIENT_ID                                                      \n",
       "202.0                                 70.200000       5.966667  \n",
       "203.0                                211.700000      10.266667  \n",
       "204.0                                211.950000       5.150000  \n",
       "205.0                                199.633333       3.233333  \n",
       "206.0                                127.650000       6.250000  \n",
       "...                                         ...            ...  \n",
       "371.0                                152.000000      15.000000  \n",
       "372.0                                232.187500       1.650000  \n",
       "373.0                                205.800000       6.300000  \n",
       "374.0                                109.800000       2.300000  \n",
       "375.0                                162.750000       8.300000  \n",
       "\n",
       "[174 rows x 5 columns]"
      ]
     },
     "execution_count": 9,
     "metadata": {},
     "output_type": "execute_result"
    }
   ],
   "source": [
    "x = data_sick[[\"age\",\"gender\",\"Lactate dehydrogenase\",\"High sensitivity C-reactive protein\",\"(%)lymphocyte\"]]\n",
    "x"
   ]
  },
  {
   "cell_type": "code",
   "execution_count": 10,
   "metadata": {},
   "outputs": [
    {
     "data": {
      "text/html": [
       "\n",
       "<div id=\"altair-viz-5c6053c12c6940c596713ef091208703\"></div>\n",
       "<script type=\"text/javascript\">\n",
       "  (function(spec, embedOpt){\n",
       "    let outputDiv = document.currentScript.previousElementSibling;\n",
       "    if (outputDiv.id !== \"altair-viz-5c6053c12c6940c596713ef091208703\") {\n",
       "      outputDiv = document.getElementById(\"altair-viz-5c6053c12c6940c596713ef091208703\");\n",
       "    }\n",
       "    const paths = {\n",
       "      \"vega\": \"https://cdn.jsdelivr.net/npm//vega@5?noext\",\n",
       "      \"vega-lib\": \"https://cdn.jsdelivr.net/npm//vega-lib?noext\",\n",
       "      \"vega-lite\": \"https://cdn.jsdelivr.net/npm//vega-lite@4.8.1?noext\",\n",
       "      \"vega-embed\": \"https://cdn.jsdelivr.net/npm//vega-embed@6?noext\",\n",
       "    };\n",
       "\n",
       "    function loadScript(lib) {\n",
       "      return new Promise(function(resolve, reject) {\n",
       "        var s = document.createElement('script');\n",
       "        s.src = paths[lib];\n",
       "        s.async = true;\n",
       "        s.onload = () => resolve(paths[lib]);\n",
       "        s.onerror = () => reject(`Error loading script: ${paths[lib]}`);\n",
       "        document.getElementsByTagName(\"head\")[0].appendChild(s);\n",
       "      });\n",
       "    }\n",
       "\n",
       "    function showError(err) {\n",
       "      outputDiv.innerHTML = `<div class=\"error\" style=\"color:red;\">${err}</div>`;\n",
       "      throw err;\n",
       "    }\n",
       "\n",
       "    function displayChart(vegaEmbed) {\n",
       "      vegaEmbed(outputDiv, spec, embedOpt)\n",
       "        .catch(err => showError(`Javascript Error: ${err.message}<br>This usually means there's a typo in your chart specification. See the javascript console for the full traceback.`));\n",
       "    }\n",
       "\n",
       "    if(typeof define === \"function\" && define.amd) {\n",
       "      requirejs.config({paths});\n",
       "      require([\"vega-embed\"], displayChart, err => showError(`Error loading script: ${err.message}`));\n",
       "    } else if (typeof vegaEmbed === \"function\") {\n",
       "      displayChart(vegaEmbed);\n",
       "    } else {\n",
       "      loadScript(\"vega\")\n",
       "        .then(() => loadScript(\"vega-lite\"))\n",
       "        .then(() => loadScript(\"vega-embed\"))\n",
       "        .catch(showError)\n",
       "        .then(() => displayChart(vegaEmbed));\n",
       "    }\n",
       "  })({\"config\": {\"view\": {\"continuousWidth\": 400, \"continuousHeight\": 300}}, \"hconcat\": [{\"vconcat\": [{\"mark\": \"point\", \"encoding\": {\"color\": {\"type\": \"nominal\", \"field\": \"gender\", \"title\": \"Gender\"}, \"x\": {\"type\": \"quantitative\", \"field\": \"Lactate dehydrogenase\"}, \"y\": {\"type\": \"quantitative\", \"field\": \"age\"}}, \"height\": 250, \"selection\": {\"selector001\": {\"type\": \"interval\"}}, \"width\": 250}, {\"mark\": \"bar\", \"encoding\": {\"color\": {\"type\": \"nominal\", \"field\": \"gender\"}, \"x\": {\"type\": \"quantitative\", \"aggregate\": \"count\", \"field\": \"age\"}, \"y\": {\"type\": \"nominal\", \"field\": \"gender\"}}, \"transform\": [{\"filter\": {\"selection\": \"selector001\"}}], \"width\": 250}]}, {\"vconcat\": [{\"mark\": \"point\", \"encoding\": {\"color\": {\"type\": \"nominal\", \"field\": \"gender\", \"title\": \"Gender\"}, \"x\": {\"type\": \"quantitative\", \"field\": \"High sensitivity C-reactive protein\"}, \"y\": {\"type\": \"quantitative\", \"field\": \"age\"}}, \"height\": 250, \"selection\": {\"selector001\": {\"type\": \"interval\"}}, \"width\": 250}, {\"mark\": \"bar\", \"encoding\": {\"color\": {\"type\": \"nominal\", \"field\": \"gender\"}, \"x\": {\"type\": \"quantitative\", \"aggregate\": \"count\", \"field\": \"age\"}, \"y\": {\"type\": \"nominal\", \"field\": \"gender\"}}, \"transform\": [{\"filter\": {\"selection\": \"selector001\"}}], \"width\": 250}]}, {\"vconcat\": [{\"mark\": \"point\", \"encoding\": {\"color\": {\"type\": \"nominal\", \"field\": \"gender\", \"title\": \"Gender\"}, \"x\": {\"type\": \"quantitative\", \"field\": \"(%)lymphocyte\"}, \"y\": {\"type\": \"quantitative\", \"field\": \"age\"}}, \"height\": 250, \"selection\": {\"selector001\": {\"type\": \"interval\"}}, \"width\": 250}, {\"mark\": \"bar\", \"encoding\": {\"color\": {\"type\": \"nominal\", \"field\": \"gender\"}, \"x\": {\"type\": \"quantitative\", \"aggregate\": \"count\", \"field\": \"age\"}, \"y\": {\"type\": \"nominal\", \"field\": \"gender\"}}, \"transform\": [{\"filter\": {\"selection\": \"selector001\"}}], \"width\": 250}]}], \"data\": {\"name\": \"data-5a54815163bf876c261dbd0a9c99aeea\"}, \"$schema\": \"https://vega.github.io/schema/vega-lite/v4.8.1.json\", \"datasets\": {\"data-5a54815163bf876c261dbd0a9c99aeea\": [{\"age\": 78, \"gender\": \"Female\", \"Lactate dehydrogenase\": 961.0, \"High sensitivity C-reactive protein\": 70.2, \"(%)lymphocyte\": 5.966666666666666}, {\"age\": 75, \"gender\": \"Female\", \"Lactate dehydrogenase\": 437.0, \"High sensitivity C-reactive protein\": 211.70000000000002, \"(%)lymphocyte\": 10.266666666666667}, {\"age\": 73, \"gender\": \"Female\", \"Lactate dehydrogenase\": 1201.8, \"High sensitivity C-reactive protein\": 211.95000000000002, \"(%)lymphocyte\": 5.1499999999999995}, {\"age\": 67, \"gender\": \"Male\", \"Lactate dehydrogenase\": 576.6666666666666, \"High sensitivity C-reactive protein\": 199.63333333333333, \"(%)lymphocyte\": 3.233333333333333}, {\"age\": 65, \"gender\": \"Female\", \"Lactate dehydrogenase\": 584.0, \"High sensitivity C-reactive protein\": 127.65, \"(%)lymphocyte\": 6.25}, {\"age\": 69, \"gender\": \"Male\", \"Lactate dehydrogenase\": 566.0, \"High sensitivity C-reactive protein\": 62.4, \"(%)lymphocyte\": 7.1499999999999995}, {\"age\": 79, \"gender\": \"Female\", \"Lactate dehydrogenase\": 504.0, \"High sensitivity C-reactive protein\": 277.8, \"(%)lymphocyte\": 7.7}, {\"age\": 54, \"gender\": \"Female\", \"Lactate dehydrogenase\": 639.0, \"High sensitivity C-reactive protein\": 118.1, \"(%)lymphocyte\": 12.7}, {\"age\": 73, \"gender\": \"Male\", \"Lactate dehydrogenase\": 590.4, \"High sensitivity C-reactive protein\": 124.05999999999999, \"(%)lymphocyte\": 2.88}, {\"age\": 61, \"gender\": \"Male\", \"Lactate dehydrogenase\": 877.0, \"High sensitivity C-reactive protein\": 264.5, \"(%)lymphocyte\": 9.2}, {\"age\": 95, \"gender\": \"Female\", \"Lactate dehydrogenase\": 363.0, \"High sensitivity C-reactive protein\": 78.0, \"(%)lymphocyte\": 15.2}, {\"age\": 19, \"gender\": \"Female\", \"Lactate dehydrogenase\": 1548.0, \"High sensitivity C-reactive protein\": 51.9, \"(%)lymphocyte\": 44.3}, {\"age\": 68, \"gender\": \"Female\", \"Lactate dehydrogenase\": 858.0, \"High sensitivity C-reactive protein\": 151.0, \"(%)lymphocyte\": 2.1}, {\"age\": 70, \"gender\": \"Female\", \"Lactate dehydrogenase\": 964.0, \"High sensitivity C-reactive protein\": 200.3, \"(%)lymphocyte\": 2.3}, {\"age\": 68, \"gender\": \"Female\", \"Lactate dehydrogenase\": 890.0, \"High sensitivity C-reactive protein\": 86.1, \"(%)lymphocyte\": 2.0}, {\"age\": 51, \"gender\": \"Female\", \"Lactate dehydrogenase\": 354.8, \"High sensitivity C-reactive protein\": 142.2, \"(%)lymphocyte\": 3.9200000000000004}, {\"age\": 74, \"gender\": \"Female\", \"Lactate dehydrogenase\": 361.0, \"High sensitivity C-reactive protein\": 149.93333333333334, \"(%)lymphocyte\": 5.385714285714285}, {\"age\": 65, \"gender\": \"Female\", \"Lactate dehydrogenase\": 1184.0, \"High sensitivity C-reactive protein\": 183.03333333333333, \"(%)lymphocyte\": 1.35}, {\"age\": 70, \"gender\": \"Female\", \"Lactate dehydrogenase\": 944.75, \"High sensitivity C-reactive protein\": 37.199999999999996, \"(%)lymphocyte\": 4.075}, {\"age\": 88, \"gender\": \"Male\", \"Lactate dehydrogenase\": 714.75, \"High sensitivity C-reactive protein\": 87.25, \"(%)lymphocyte\": 2.1999999999999997}, {\"age\": 41, \"gender\": \"Female\", \"Lactate dehydrogenase\": 937.0, \"High sensitivity C-reactive protein\": 74.13333333333334, \"(%)lymphocyte\": 22.580000000000002}, {\"age\": 82, \"gender\": \"Female\", \"Lactate dehydrogenase\": 472.0, \"High sensitivity C-reactive protein\": 94.55, \"(%)lymphocyte\": 3.6999999999999997}, {\"age\": 78, \"gender\": \"Male\", \"Lactate dehydrogenase\": 343.1666666666667, \"High sensitivity C-reactive protein\": 82.75, \"(%)lymphocyte\": 6.683333333333334}, {\"age\": 71, \"gender\": \"Male\", \"Lactate dehydrogenase\": 824.0, \"High sensitivity C-reactive protein\": 71.89999999999999, \"(%)lymphocyte\": 4.7}, {\"age\": 64, \"gender\": \"Male\", \"Lactate dehydrogenase\": 737.0, \"High sensitivity C-reactive protein\": 169.95, \"(%)lymphocyte\": 4.7}, {\"age\": 83, \"gender\": \"Female\", \"Lactate dehydrogenase\": 297.0, \"High sensitivity C-reactive protein\": 155.2, \"(%)lymphocyte\": 8.6}, {\"age\": 77, \"gender\": \"Male\", \"Lactate dehydrogenase\": 417.3333333333333, \"High sensitivity C-reactive protein\": 78.46666666666668, \"(%)lymphocyte\": 4.1}, {\"age\": 65, \"gender\": \"Female\", \"Lactate dehydrogenase\": 1314.8333333333333, \"High sensitivity C-reactive protein\": 108.25, \"(%)lymphocyte\": 3.62}, {\"age\": 73, \"gender\": \"Male\", \"Lactate dehydrogenase\": 608.0, \"High sensitivity C-reactive protein\": 144.5, \"(%)lymphocyte\": 8.8}, {\"age\": 57, \"gender\": \"Female\", \"Lactate dehydrogenase\": 1029.2857142857142, \"High sensitivity C-reactive protein\": 118.93333333333332, \"(%)lymphocyte\": 2.657142857142857}, {\"age\": 87, \"gender\": \"Male\", \"Lactate dehydrogenase\": 544.5, \"High sensitivity C-reactive protein\": 75.5, \"(%)lymphocyte\": 16.75}, {\"age\": 64, \"gender\": \"Female\", \"Lactate dehydrogenase\": 779.1111111111111, \"High sensitivity C-reactive protein\": 150.63333333333335, \"(%)lymphocyte\": 2.8777777777777778}, {\"age\": 87, \"gender\": \"Female\", \"Lactate dehydrogenase\": 444.2, \"High sensitivity C-reactive protein\": 72.47500000000001, \"(%)lymphocyte\": 4.85}, {\"age\": 63, \"gender\": \"Male\", \"Lactate dehydrogenase\": 454.6666666666667, \"High sensitivity C-reactive protein\": 129.1, \"(%)lymphocyte\": 5.333333333333333}, {\"age\": 71, \"gender\": \"Male\", \"Lactate dehydrogenase\": 432.0, \"High sensitivity C-reactive protein\": 119.1, \"(%)lymphocyte\": 10.0}, {\"age\": 69, \"gender\": \"Female\", \"Lactate dehydrogenase\": 1730.0, \"High sensitivity C-reactive protein\": 113.1, \"(%)lymphocyte\": 1.5799999999999998}, {\"age\": 57, \"gender\": \"Female\", \"Lactate dehydrogenase\": 462.6666666666667, \"High sensitivity C-reactive protein\": 124.96666666666668, \"(%)lymphocyte\": 4.575}, {\"age\": 76, \"gender\": \"Male\", \"Lactate dehydrogenase\": 637.8333333333334, \"High sensitivity C-reactive protein\": 121.725, \"(%)lymphocyte\": 5.68}, {\"age\": 70, \"gender\": \"Female\", \"Lactate dehydrogenase\": 858.8, \"High sensitivity C-reactive protein\": 138.225, \"(%)lymphocyte\": 1.4666666666666668}, {\"age\": 70, \"gender\": \"Male\", \"Lactate dehydrogenase\": 540.0, \"High sensitivity C-reactive protein\": 26.3, \"(%)lymphocyte\": 6.124999999999999}, {\"age\": 66, \"gender\": \"Female\", \"Lactate dehydrogenase\": 1190.25, \"High sensitivity C-reactive protein\": 81.33333333333333, \"(%)lymphocyte\": 7.880000000000001}, {\"age\": 71, \"gender\": \"Female\", \"Lactate dehydrogenase\": 749.0, \"High sensitivity C-reactive protein\": 178.29999999999998, \"(%)lymphocyte\": 3.6571428571428575}, {\"age\": 82, \"gender\": \"Male\", \"Lactate dehydrogenase\": 726.0, \"High sensitivity C-reactive protein\": 139.0, \"(%)lymphocyte\": 3.1666666666666665}, {\"age\": 61, \"gender\": \"Female\", \"Lactate dehydrogenase\": 1022.0, \"High sensitivity C-reactive protein\": 28.4, \"(%)lymphocyte\": 12.2}, {\"age\": 57, \"gender\": \"Female\", \"Lactate dehydrogenase\": 377.25, \"High sensitivity C-reactive protein\": 183.5666666666667, \"(%)lymphocyte\": 5.0}, {\"age\": 90, \"gender\": \"Female\", \"Lactate dehydrogenase\": 372.3333333333333, \"High sensitivity C-reactive protein\": 79.15, \"(%)lymphocyte\": 13.325}, {\"age\": 69, \"gender\": \"Female\", \"Lactate dehydrogenase\": 821.3333333333334, \"High sensitivity C-reactive protein\": 265.05, \"(%)lymphocyte\": 6.5}, {\"age\": 83, \"gender\": \"Female\", \"Lactate dehydrogenase\": 881.0, \"High sensitivity C-reactive protein\": null, \"(%)lymphocyte\": null}, {\"age\": 54, \"gender\": \"Female\", \"Lactate dehydrogenase\": 646.0, \"High sensitivity C-reactive protein\": 107.94999999999999, \"(%)lymphocyte\": 14.625}, {\"age\": 74, \"gender\": \"Female\", \"Lactate dehydrogenase\": 515.5, \"High sensitivity C-reactive protein\": 57.1, \"(%)lymphocyte\": 1.95}, {\"age\": 83, \"gender\": \"Female\", \"Lactate dehydrogenase\": 552.7777777777778, \"High sensitivity C-reactive protein\": 60.46666666666667, \"(%)lymphocyte\": 6.655555555555555}, {\"age\": 51, \"gender\": \"Female\", \"Lactate dehydrogenase\": null, \"High sensitivity C-reactive protein\": null, \"(%)lymphocyte\": null}, {\"age\": 78, \"gender\": \"Female\", \"Lactate dehydrogenase\": 736.0, \"High sensitivity C-reactive protein\": 237.45, \"(%)lymphocyte\": 1.9500000000000002}, {\"age\": 80, \"gender\": \"Male\", \"Lactate dehydrogenase\": 823.0, \"High sensitivity C-reactive protein\": 119.35000000000001, \"(%)lymphocyte\": 3.9666666666666663}, {\"age\": 80, \"gender\": \"Female\", \"Lactate dehydrogenase\": 224.0, \"High sensitivity C-reactive protein\": 47.3, \"(%)lymphocyte\": 11.025}, {\"age\": 64, \"gender\": \"Female\", \"Lactate dehydrogenase\": 602.75, \"High sensitivity C-reactive protein\": 175.85000000000002, \"(%)lymphocyte\": 5.5}, {\"age\": 65, \"gender\": \"Female\", \"Lactate dehydrogenase\": 664.2307692307693, \"High sensitivity C-reactive protein\": 218.15, \"(%)lymphocyte\": 2.8249999999999997}, {\"age\": 65, \"gender\": \"Female\", \"Lactate dehydrogenase\": 469.0, \"High sensitivity C-reactive protein\": 97.8, \"(%)lymphocyte\": 26.7}, {\"age\": 74, \"gender\": \"Male\", \"Lactate dehydrogenase\": 405.0, \"High sensitivity C-reactive protein\": 32.9, \"(%)lymphocyte\": 12.45}, {\"age\": 77, \"gender\": \"Female\", \"Lactate dehydrogenase\": 572.0, \"High sensitivity C-reactive protein\": 232.8, \"(%)lymphocyte\": 4.1}, {\"age\": 67, \"gender\": \"Female\", \"Lactate dehydrogenase\": 619.6666666666666, \"High sensitivity C-reactive protein\": 55.800000000000004, \"(%)lymphocyte\": 7.266666666666666}, {\"age\": 66, \"gender\": \"Male\", \"Lactate dehydrogenase\": 663.0, \"High sensitivity C-reactive protein\": 102.7, \"(%)lymphocyte\": 4.5}, {\"age\": 75, \"gender\": \"Female\", \"Lactate dehydrogenase\": 430.2, \"High sensitivity C-reactive protein\": 126.75, \"(%)lymphocyte\": 11.98}, {\"age\": 81, \"gender\": \"Male\", \"Lactate dehydrogenase\": null, \"High sensitivity C-reactive protein\": null, \"(%)lymphocyte\": null}, {\"age\": 56, \"gender\": \"Female\", \"Lactate dehydrogenase\": 411.0, \"High sensitivity C-reactive protein\": 42.6, \"(%)lymphocyte\": 4.9}, {\"age\": 77, \"gender\": \"Male\", \"Lactate dehydrogenase\": 1472.6666666666667, \"High sensitivity C-reactive protein\": 165.4, \"(%)lymphocyte\": 3.8333333333333335}, {\"age\": 69, \"gender\": \"Female\", \"Lactate dehydrogenase\": null, \"High sensitivity C-reactive protein\": null, \"(%)lymphocyte\": null}, {\"age\": 79, \"gender\": \"Female\", \"Lactate dehydrogenase\": 589.0, \"High sensitivity C-reactive protein\": 202.7, \"(%)lymphocyte\": 7.1}, {\"age\": 58, \"gender\": \"Female\", \"Lactate dehydrogenase\": 341.0, \"High sensitivity C-reactive protein\": 53.1, \"(%)lymphocyte\": 1.4}, {\"age\": 54, \"gender\": \"Female\", \"Lactate dehydrogenase\": null, \"High sensitivity C-reactive protein\": null, \"(%)lymphocyte\": null}, {\"age\": 73, \"gender\": \"Female\", \"Lactate dehydrogenase\": 489.0, \"High sensitivity C-reactive protein\": 56.0, \"(%)lymphocyte\": 4.7}, {\"age\": 88, \"gender\": \"Male\", \"Lactate dehydrogenase\": 740.25, \"High sensitivity C-reactive protein\": 57.05, \"(%)lymphocyte\": 5.833333333333333}, {\"age\": 61, \"gender\": \"Male\", \"Lactate dehydrogenase\": 344.0, \"High sensitivity C-reactive protein\": 10.2, \"(%)lymphocyte\": 2.25}, {\"age\": 65, \"gender\": \"Female\", \"Lactate dehydrogenase\": null, \"High sensitivity C-reactive protein\": null, \"(%)lymphocyte\": null}, {\"age\": 73, \"gender\": \"Female\", \"Lactate dehydrogenase\": 457.0, \"High sensitivity C-reactive protein\": 96.9, \"(%)lymphocyte\": 4.2}, {\"age\": 57, \"gender\": \"Male\", \"Lactate dehydrogenase\": 688.5, \"High sensitivity C-reactive protein\": 201.25, \"(%)lymphocyte\": 9.600000000000001}, {\"age\": 85, \"gender\": \"Female\", \"Lactate dehydrogenase\": 829.5, \"High sensitivity C-reactive protein\": 165.85, \"(%)lymphocyte\": 3.9}, {\"age\": 70, \"gender\": \"Female\", \"Lactate dehydrogenase\": 1116.0, \"High sensitivity C-reactive protein\": 139.7, \"(%)lymphocyte\": 3.733333333333333}, {\"age\": 62, \"gender\": \"Female\", \"Lactate dehydrogenase\": 1196.0, \"High sensitivity C-reactive protein\": 23.9, \"(%)lymphocyte\": 1.8}, {\"age\": 81, \"gender\": \"Male\", \"Lactate dehydrogenase\": 875.3333333333334, \"High sensitivity C-reactive protein\": 165.4, \"(%)lymphocyte\": 6.5200000000000005}, {\"age\": 53, \"gender\": \"Female\", \"Lactate dehydrogenase\": 1428.5, \"High sensitivity C-reactive protein\": 65.3, \"(%)lymphocyte\": 1.3}, {\"age\": 72, \"gender\": \"Male\", \"Lactate dehydrogenase\": 793.5, \"High sensitivity C-reactive protein\": 70.31666666666666, \"(%)lymphocyte\": 10.48}, {\"age\": 85, \"gender\": \"Female\", \"Lactate dehydrogenase\": 1477.5, \"High sensitivity C-reactive protein\": 36.7, \"(%)lymphocyte\": 1.5}, {\"age\": 63, \"gender\": \"Female\", \"Lactate dehydrogenase\": null, \"High sensitivity C-reactive protein\": null, \"(%)lymphocyte\": null}, {\"age\": 73, \"gender\": \"Female\", \"Lactate dehydrogenase\": 1798.0, \"High sensitivity C-reactive protein\": 211.4, \"(%)lymphocyte\": 9.1}, {\"age\": 51, \"gender\": \"Female\", \"Lactate dehydrogenase\": 343.0, \"High sensitivity C-reactive protein\": 187.0333333333333, \"(%)lymphocyte\": 3.766666666666666}, {\"age\": 62, \"gender\": \"Female\", \"Lactate dehydrogenase\": 469.0, \"High sensitivity C-reactive protein\": 127.0, \"(%)lymphocyte\": 4.5}, {\"age\": 63, \"gender\": \"Female\", \"Lactate dehydrogenase\": null, \"High sensitivity C-reactive protein\": null, \"(%)lymphocyte\": null}, {\"age\": 94, \"gender\": \"Male\", \"Lactate dehydrogenase\": 447.5, \"High sensitivity C-reactive protein\": 83.4, \"(%)lymphocyte\": 9.65}, {\"age\": 47, \"gender\": \"Female\", \"Lactate dehydrogenase\": 617.5, \"High sensitivity C-reactive protein\": 118.6, \"(%)lymphocyte\": 4.2}, {\"age\": 62, \"gender\": \"Male\", \"Lactate dehydrogenase\": 577.0, \"High sensitivity C-reactive protein\": 57.2, \"(%)lymphocyte\": 13.0}, {\"age\": 88, \"gender\": \"Female\", \"Lactate dehydrogenase\": 232.0, \"High sensitivity C-reactive protein\": 141.7, \"(%)lymphocyte\": 4.8}, {\"age\": 57, \"gender\": \"Female\", \"Lactate dehydrogenase\": 439.0, \"High sensitivity C-reactive protein\": 320.0, \"(%)lymphocyte\": 3.2}, {\"age\": 68, \"gender\": \"Female\", \"Lactate dehydrogenase\": 726.0, \"High sensitivity C-reactive protein\": 181.83333333333334, \"(%)lymphocyte\": 5.433333333333334}, {\"age\": 52, \"gender\": \"Female\", \"Lactate dehydrogenase\": 246.0, \"High sensitivity C-reactive protein\": 100.5, \"(%)lymphocyte\": 20.6}, {\"age\": 47, \"gender\": \"Female\", \"Lactate dehydrogenase\": 1259.5, \"High sensitivity C-reactive protein\": 108.5, \"(%)lymphocyte\": 7.1499999999999995}, {\"age\": 65, \"gender\": \"Female\", \"Lactate dehydrogenase\": 591.0, \"High sensitivity C-reactive protein\": 55.9, \"(%)lymphocyte\": 2.7}, {\"age\": 89, \"gender\": \"Female\", \"Lactate dehydrogenase\": 486.0, \"High sensitivity C-reactive protein\": 100.8, \"(%)lymphocyte\": 18.5}, {\"age\": 82, \"gender\": \"Male\", \"Lactate dehydrogenase\": 1138.0, \"High sensitivity C-reactive protein\": 88.3, \"(%)lymphocyte\": 5.3}, {\"age\": 71, \"gender\": \"Male\", \"Lactate dehydrogenase\": 714.0, \"High sensitivity C-reactive protein\": 131.9, \"(%)lymphocyte\": 10.7}, {\"age\": 67, \"gender\": \"Female\", \"Lactate dehydrogenase\": 999.0, \"High sensitivity C-reactive protein\": 7.1, \"(%)lymphocyte\": 2.0500000000000003}, {\"age\": 81, \"gender\": \"Female\", \"Lactate dehydrogenase\": 804.0, \"High sensitivity C-reactive protein\": 110.35, \"(%)lymphocyte\": 6.65}, {\"age\": 67, \"gender\": \"Female\", \"Lactate dehydrogenase\": 745.7142857142857, \"High sensitivity C-reactive protein\": 177.74285714285716, \"(%)lymphocyte\": 3.3333333333333335}, {\"age\": 79, \"gender\": \"Female\", \"Lactate dehydrogenase\": 657.5, \"High sensitivity C-reactive protein\": 108.9, \"(%)lymphocyte\": 2.0666666666666664}, {\"age\": 78, \"gender\": \"Female\", \"Lactate dehydrogenase\": 942.25, \"High sensitivity C-reactive protein\": 136.3, \"(%)lymphocyte\": 1.525}, {\"age\": 44, \"gender\": \"Male\", \"Lactate dehydrogenase\": 568.0, \"High sensitivity C-reactive protein\": 142.7, \"(%)lymphocyte\": 6.1}, {\"age\": 71, \"gender\": \"Female\", \"Lactate dehydrogenase\": 429.1, \"High sensitivity C-reactive protein\": 68.42500000000001, \"(%)lymphocyte\": 2.2}, {\"age\": 92, \"gender\": \"Female\", \"Lactate dehydrogenase\": 716.0, \"High sensitivity C-reactive protein\": 154.63333333333333, \"(%)lymphocyte\": 1.9499999999999997}, {\"age\": 72, \"gender\": \"Male\", \"Lactate dehydrogenase\": 354.3333333333333, \"High sensitivity C-reactive protein\": 114.1, \"(%)lymphocyte\": 7.374999999999999}, {\"age\": 77, \"gender\": \"Male\", \"Lactate dehydrogenase\": null, \"High sensitivity C-reactive protein\": null, \"(%)lymphocyte\": null}, {\"age\": 74, \"gender\": \"Female\", \"Lactate dehydrogenase\": 1867.0, \"High sensitivity C-reactive protein\": null, \"(%)lymphocyte\": 3.0}, {\"age\": 91, \"gender\": \"Female\", \"Lactate dehydrogenase\": 504.6666666666667, \"High sensitivity C-reactive protein\": 140.7, \"(%)lymphocyte\": 15.9}, {\"age\": 67, \"gender\": \"Female\", \"Lactate dehydrogenase\": 807.0, \"High sensitivity C-reactive protein\": 61.0, \"(%)lymphocyte\": 2.7}, {\"age\": 66, \"gender\": \"Female\", \"Lactate dehydrogenase\": 561.0, \"High sensitivity C-reactive protein\": 71.6, \"(%)lymphocyte\": 11.1}, {\"age\": 69, \"gender\": \"Female\", \"Lactate dehydrogenase\": 664.0, \"High sensitivity C-reactive protein\": 166.3, \"(%)lymphocyte\": 25.0}, {\"age\": 43, \"gender\": \"Male\", \"Lactate dehydrogenase\": 401.0, \"High sensitivity C-reactive protein\": 185.1, \"(%)lymphocyte\": 7.5}, {\"age\": 76, \"gender\": \"Female\", \"Lactate dehydrogenase\": 987.0, \"High sensitivity C-reactive protein\": 289.2, \"(%)lymphocyte\": 18.9}, {\"age\": 62, \"gender\": \"Male\", \"Lactate dehydrogenase\": 617.0, \"High sensitivity C-reactive protein\": 91.7, \"(%)lymphocyte\": 3.1}, {\"age\": 59, \"gender\": \"Female\", \"Lactate dehydrogenase\": 748.0, \"High sensitivity C-reactive protein\": 219.3, \"(%)lymphocyte\": 10.912500000000001}, {\"age\": 68, \"gender\": \"Female\", \"Lactate dehydrogenase\": 415.0, \"High sensitivity C-reactive protein\": 112.5, \"(%)lymphocyte\": 4.6}, {\"age\": 80, \"gender\": \"Male\", \"Lactate dehydrogenase\": 495.5, \"High sensitivity C-reactive protein\": 89.35, \"(%)lymphocyte\": 3.6500000000000004}, {\"age\": 64, \"gender\": \"Female\", \"Lactate dehydrogenase\": 669.0, \"High sensitivity C-reactive protein\": null, \"(%)lymphocyte\": 3.6}, {\"age\": 70, \"gender\": \"Female\", \"Lactate dehydrogenase\": 1094.6666666666667, \"High sensitivity C-reactive protein\": 134.25, \"(%)lymphocyte\": 0.15}, {\"age\": 74, \"gender\": \"Male\", \"Lactate dehydrogenase\": 436.0, \"High sensitivity C-reactive protein\": 72.7, \"(%)lymphocyte\": 7.1}, {\"age\": 69, \"gender\": \"Female\", \"Lactate dehydrogenase\": 476.5, \"High sensitivity C-reactive protein\": 132.2, \"(%)lymphocyte\": 2.8499999999999996}, {\"age\": 77, \"gender\": \"Male\", \"Lactate dehydrogenase\": 671.0, \"High sensitivity C-reactive protein\": 8.0, \"(%)lymphocyte\": 2.7}, {\"age\": 63, \"gender\": \"Female\", \"Lactate dehydrogenase\": 233.2, \"High sensitivity C-reactive protein\": 164.4, \"(%)lymphocyte\": 4.74}, {\"age\": 82, \"gender\": \"Female\", \"Lactate dehydrogenase\": 455.0, \"High sensitivity C-reactive protein\": 225.9, \"(%)lymphocyte\": 10.4}, {\"age\": 80, \"gender\": \"Female\", \"Lactate dehydrogenase\": 261.0, \"High sensitivity C-reactive protein\": 200.0, \"(%)lymphocyte\": 5.15}, {\"age\": 49, \"gender\": \"Female\", \"Lactate dehydrogenase\": 578.0, \"High sensitivity C-reactive protein\": 136.9, \"(%)lymphocyte\": 10.3}, {\"age\": 75, \"gender\": \"Female\", \"Lactate dehydrogenase\": 1867.0, \"High sensitivity C-reactive protein\": 240.75, \"(%)lymphocyte\": 3.4000000000000004}, {\"age\": 64, \"gender\": \"Female\", \"Lactate dehydrogenase\": 353.0, \"High sensitivity C-reactive protein\": 69.1, \"(%)lymphocyte\": 3.3}, {\"age\": 66, \"gender\": \"Female\", \"Lactate dehydrogenase\": 536.5, \"High sensitivity C-reactive protein\": 75.35, \"(%)lymphocyte\": 1.9}, {\"age\": 54, \"gender\": \"Male\", \"Lactate dehydrogenase\": 1106.0, \"High sensitivity C-reactive protein\": 210.9, \"(%)lymphocyte\": 6.6}, {\"age\": 64, \"gender\": \"Female\", \"Lactate dehydrogenase\": 544.0, \"High sensitivity C-reactive protein\": 164.1, \"(%)lymphocyte\": 5.35}, {\"age\": 59, \"gender\": \"Female\", \"Lactate dehydrogenase\": 890.3333333333334, \"High sensitivity C-reactive protein\": 75.64, \"(%)lymphocyte\": 7.300000000000001}, {\"age\": 60, \"gender\": \"Female\", \"Lactate dehydrogenase\": 742.0, \"High sensitivity C-reactive protein\": 150.0666666666667, \"(%)lymphocyte\": 3.95}, {\"age\": 68, \"gender\": \"Female\", \"Lactate dehydrogenase\": 887.0, \"High sensitivity C-reactive protein\": 134.6, \"(%)lymphocyte\": 2.1}, {\"age\": 53, \"gender\": \"Female\", \"Lactate dehydrogenase\": 266.0, \"High sensitivity C-reactive protein\": 57.9, \"(%)lymphocyte\": 9.7}, {\"age\": 86, \"gender\": \"Female\", \"Lactate dehydrogenase\": 356.6, \"High sensitivity C-reactive protein\": 133.55, \"(%)lymphocyte\": 4.779999999999999}, {\"age\": 62, \"gender\": \"Male\", \"Lactate dehydrogenase\": 418.85714285714283, \"High sensitivity C-reactive protein\": 54.41428571428571, \"(%)lymphocyte\": 8.1}, {\"age\": 81, \"gender\": \"Male\", \"Lactate dehydrogenase\": 1042.75, \"High sensitivity C-reactive protein\": 166.575, \"(%)lymphocyte\": 4.033333333333333}, {\"age\": 77, \"gender\": \"Female\", \"Lactate dehydrogenase\": 603.5, \"High sensitivity C-reactive protein\": 62.05, \"(%)lymphocyte\": 2.65}, {\"age\": 65, \"gender\": \"Female\", \"Lactate dehydrogenase\": 376.0, \"High sensitivity C-reactive protein\": 143.625, \"(%)lymphocyte\": 3.425}, {\"age\": 66, \"gender\": \"Female\", \"Lactate dehydrogenase\": 1160.0, \"High sensitivity C-reactive protein\": 53.4, \"(%)lymphocyte\": 15.6}, {\"age\": 80, \"gender\": \"Male\", \"Lactate dehydrogenase\": null, \"High sensitivity C-reactive protein\": null, \"(%)lymphocyte\": null}, {\"age\": 68, \"gender\": \"Female\", \"Lactate dehydrogenase\": 574.0, \"High sensitivity C-reactive protein\": 78.3, \"(%)lymphocyte\": 2.0}, {\"age\": 83, \"gender\": \"Female\", \"Lactate dehydrogenase\": 448.0, \"High sensitivity C-reactive protein\": 196.22, \"(%)lymphocyte\": 3.56}, {\"age\": 73, \"gender\": \"Female\", \"Lactate dehydrogenase\": 739.0, \"High sensitivity C-reactive protein\": 247.5, \"(%)lymphocyte\": 3.8}, {\"age\": 41, \"gender\": \"Male\", \"Lactate dehydrogenase\": 801.0, \"High sensitivity C-reactive protein\": 51.3, \"(%)lymphocyte\": 6.2}, {\"age\": 82, \"gender\": \"Female\", \"Lactate dehydrogenase\": 435.0, \"High sensitivity C-reactive protein\": 59.5, \"(%)lymphocyte\": 1.3}, {\"age\": 76, \"gender\": \"Female\", \"Lactate dehydrogenase\": 704.0, \"High sensitivity C-reactive protein\": 120.6, \"(%)lymphocyte\": 2.2}, {\"age\": 57, \"gender\": \"Female\", \"Lactate dehydrogenase\": null, \"High sensitivity C-reactive protein\": null, \"(%)lymphocyte\": null}, {\"age\": 68, \"gender\": \"Female\", \"Lactate dehydrogenase\": 1594.0, \"High sensitivity C-reactive protein\": 198.8, \"(%)lymphocyte\": 11.5}, {\"age\": 74, \"gender\": \"Female\", \"Lactate dehydrogenase\": 392.0, \"High sensitivity C-reactive protein\": 116.5, \"(%)lymphocyte\": 4.8}, {\"age\": 71, \"gender\": \"Female\", \"Lactate dehydrogenase\": 633.0, \"High sensitivity C-reactive protein\": 117.25, \"(%)lymphocyte\": 2.4}, {\"age\": 62, \"gender\": \"Female\", \"Lactate dehydrogenase\": 693.0, \"High sensitivity C-reactive protein\": 120.73333333333333, \"(%)lymphocyte\": 9.566666666666668}, {\"age\": 65, \"gender\": \"Female\", \"Lactate dehydrogenase\": null, \"High sensitivity C-reactive protein\": null, \"(%)lymphocyte\": null}, {\"age\": 74, \"gender\": \"Female\", \"Lactate dehydrogenase\": 1346.0, \"High sensitivity C-reactive protein\": 203.9, \"(%)lymphocyte\": 3.3}, {\"age\": 58, \"gender\": \"Female\", \"Lactate dehydrogenase\": 603.3333333333334, \"High sensitivity C-reactive protein\": 187.8, \"(%)lymphocyte\": 5.8999999999999995}, {\"age\": 69, \"gender\": \"Female\", \"Lactate dehydrogenase\": 809.0, \"High sensitivity C-reactive protein\": 216.23333333333335, \"(%)lymphocyte\": 1.7999999999999998}, {\"age\": 57, \"gender\": \"Male\", \"Lactate dehydrogenase\": 794.0, \"High sensitivity C-reactive protein\": 262.2, \"(%)lymphocyte\": 3.7}, {\"age\": 55, \"gender\": \"Male\", \"Lactate dehydrogenase\": 444.6666666666667, \"High sensitivity C-reactive protein\": 65.36666666666666, \"(%)lymphocyte\": 3.725}, {\"age\": 67, \"gender\": \"Female\", \"Lactate dehydrogenase\": 1867.0, \"High sensitivity C-reactive protein\": 48.7, \"(%)lymphocyte\": 4.4}, {\"age\": 68, \"gender\": \"Male\", \"Lactate dehydrogenase\": 651.5, \"High sensitivity C-reactive protein\": null, \"(%)lymphocyte\": 5.225}, {\"age\": 54, \"gender\": \"Female\", \"Lactate dehydrogenase\": 506.0, \"High sensitivity C-reactive protein\": 232.8, \"(%)lymphocyte\": 3.4}, {\"age\": 64, \"gender\": \"Female\", \"Lactate dehydrogenase\": 1122.4, \"High sensitivity C-reactive protein\": 113.875, \"(%)lymphocyte\": 7.3}, {\"age\": 72, \"gender\": \"Female\", \"Lactate dehydrogenase\": 568.0, \"High sensitivity C-reactive protein\": 220.0, \"(%)lymphocyte\": 5.5}, {\"age\": 78, \"gender\": \"Male\", \"Lactate dehydrogenase\": 812.3333333333334, \"High sensitivity C-reactive protein\": 68.66666666666667, \"(%)lymphocyte\": 4.375}, {\"age\": 63, \"gender\": \"Female\", \"Lactate dehydrogenase\": 573.0, \"High sensitivity C-reactive protein\": 152.0, \"(%)lymphocyte\": 15.0}, {\"age\": 79, \"gender\": \"Female\", \"Lactate dehydrogenase\": 383.6666666666667, \"High sensitivity C-reactive protein\": 232.18749999999997, \"(%)lymphocyte\": 1.65}, {\"age\": 61, \"gender\": \"Male\", \"Lactate dehydrogenase\": 702.0, \"High sensitivity C-reactive protein\": 205.8, \"(%)lymphocyte\": 6.3}, {\"age\": 33, \"gender\": \"Female\", \"Lactate dehydrogenase\": 1706.3333333333333, \"High sensitivity C-reactive protein\": 109.80000000000001, \"(%)lymphocyte\": 2.3}, {\"age\": 68, \"gender\": \"Female\", \"Lactate dehydrogenase\": 983.3333333333334, \"High sensitivity C-reactive protein\": 162.75, \"(%)lymphocyte\": 8.3}]}}, {\"mode\": \"vega-lite\"});\n",
       "</script>"
      ],
      "text/plain": [
       "alt.HConcatChart(...)"
      ]
     },
     "execution_count": 10,
     "metadata": {},
     "output_type": "execute_result"
    }
   ],
   "source": [
    "brush = alt.selection_interval()\n",
    "\n",
    "base = alt.Chart(x).mark_point().encode(\n",
    "    y='age:Q',\n",
    "    color=alt.Color(\"gender:N\",title='Gender'),\n",
    ").add_selection(\n",
    "    brush\n",
    ").properties(\n",
    "    width=250,\n",
    "    height=250\n",
    ")\n",
    "bars = alt.Chart(x).mark_bar().encode(\n",
    "y=\"gender:N\",\n",
    "color=\"gender:N\",\n",
    "x='count(age):Q').transform_filter(brush).properties(\n",
    "    width=250,\n",
    "\n",
    ")\n",
    "base.encode(x='Lactate dehydrogenase') & bars | base.encode(x='High sensitivity C-reactive protein') & bars | base.encode(x='(%)lymphocyte') & bars\n"
   ]
  },
  {
   "cell_type": "code",
   "execution_count": 11,
   "metadata": {},
   "outputs": [
    {
     "data": {
      "text/html": [
       "<div>\n",
       "<style scoped>\n",
       "    .dataframe tbody tr th:only-of-type {\n",
       "        vertical-align: middle;\n",
       "    }\n",
       "\n",
       "    .dataframe tbody tr th {\n",
       "        vertical-align: top;\n",
       "    }\n",
       "\n",
       "    .dataframe thead th {\n",
       "        text-align: right;\n",
       "    }\n",
       "</style>\n",
       "<table border=\"1\" class=\"dataframe\">\n",
       "  <thead>\n",
       "    <tr style=\"text-align: right;\">\n",
       "      <th></th>\n",
       "      <th>age</th>\n",
       "      <th>variable</th>\n",
       "      <th>value</th>\n",
       "    </tr>\n",
       "  </thead>\n",
       "  <tbody>\n",
       "    <tr>\n",
       "      <th>0</th>\n",
       "      <td>67</td>\n",
       "      <td>Lactate dehydrogenase</td>\n",
       "      <td>576.666667</td>\n",
       "    </tr>\n",
       "    <tr>\n",
       "      <th>1</th>\n",
       "      <td>69</td>\n",
       "      <td>Lactate dehydrogenase</td>\n",
       "      <td>566.000000</td>\n",
       "    </tr>\n",
       "    <tr>\n",
       "      <th>2</th>\n",
       "      <td>73</td>\n",
       "      <td>Lactate dehydrogenase</td>\n",
       "      <td>590.400000</td>\n",
       "    </tr>\n",
       "    <tr>\n",
       "      <th>3</th>\n",
       "      <td>61</td>\n",
       "      <td>Lactate dehydrogenase</td>\n",
       "      <td>877.000000</td>\n",
       "    </tr>\n",
       "    <tr>\n",
       "      <th>4</th>\n",
       "      <td>88</td>\n",
       "      <td>Lactate dehydrogenase</td>\n",
       "      <td>714.750000</td>\n",
       "    </tr>\n",
       "    <tr>\n",
       "      <th>...</th>\n",
       "      <td>...</td>\n",
       "      <td>...</td>\n",
       "      <td>...</td>\n",
       "    </tr>\n",
       "    <tr>\n",
       "      <th>139</th>\n",
       "      <td>57</td>\n",
       "      <td>(%)lymphocyte</td>\n",
       "      <td>3.700000</td>\n",
       "    </tr>\n",
       "    <tr>\n",
       "      <th>140</th>\n",
       "      <td>55</td>\n",
       "      <td>(%)lymphocyte</td>\n",
       "      <td>3.725000</td>\n",
       "    </tr>\n",
       "    <tr>\n",
       "      <th>141</th>\n",
       "      <td>68</td>\n",
       "      <td>(%)lymphocyte</td>\n",
       "      <td>5.225000</td>\n",
       "    </tr>\n",
       "    <tr>\n",
       "      <th>142</th>\n",
       "      <td>78</td>\n",
       "      <td>(%)lymphocyte</td>\n",
       "      <td>4.375000</td>\n",
       "    </tr>\n",
       "    <tr>\n",
       "      <th>143</th>\n",
       "      <td>61</td>\n",
       "      <td>(%)lymphocyte</td>\n",
       "      <td>6.300000</td>\n",
       "    </tr>\n",
       "  </tbody>\n",
       "</table>\n",
       "<p>144 rows × 3 columns</p>\n",
       "</div>"
      ],
      "text/plain": [
       "     age               variable       value\n",
       "0     67  Lactate dehydrogenase  576.666667\n",
       "1     69  Lactate dehydrogenase  566.000000\n",
       "2     73  Lactate dehydrogenase  590.400000\n",
       "3     61  Lactate dehydrogenase  877.000000\n",
       "4     88  Lactate dehydrogenase  714.750000\n",
       "..   ...                    ...         ...\n",
       "139   57          (%)lymphocyte    3.700000\n",
       "140   55          (%)lymphocyte    3.725000\n",
       "141   68          (%)lymphocyte    5.225000\n",
       "142   78          (%)lymphocyte    4.375000\n",
       "143   61          (%)lymphocyte    6.300000\n",
       "\n",
       "[144 rows x 3 columns]"
      ]
     },
     "execution_count": 11,
     "metadata": {},
     "output_type": "execute_result"
    }
   ],
   "source": [
    "x_male = x[x.gender==\"Male\"].drop(columns=[\"gender\"])\n",
    "x_male = x_male.melt(id_vars = 'age')\n",
    "x_male"
   ]
  },
  {
   "cell_type": "code",
   "execution_count": 12,
   "metadata": {},
   "outputs": [
    {
     "data": {
      "text/html": [
       "\n",
       "<div id=\"altair-viz-fd26adb59c6d45a0a5ef4675b81eb9f1\"></div>\n",
       "<script type=\"text/javascript\">\n",
       "  (function(spec, embedOpt){\n",
       "    let outputDiv = document.currentScript.previousElementSibling;\n",
       "    if (outputDiv.id !== \"altair-viz-fd26adb59c6d45a0a5ef4675b81eb9f1\") {\n",
       "      outputDiv = document.getElementById(\"altair-viz-fd26adb59c6d45a0a5ef4675b81eb9f1\");\n",
       "    }\n",
       "    const paths = {\n",
       "      \"vega\": \"https://cdn.jsdelivr.net/npm//vega@5?noext\",\n",
       "      \"vega-lib\": \"https://cdn.jsdelivr.net/npm//vega-lib?noext\",\n",
       "      \"vega-lite\": \"https://cdn.jsdelivr.net/npm//vega-lite@4.8.1?noext\",\n",
       "      \"vega-embed\": \"https://cdn.jsdelivr.net/npm//vega-embed@6?noext\",\n",
       "    };\n",
       "\n",
       "    function loadScript(lib) {\n",
       "      return new Promise(function(resolve, reject) {\n",
       "        var s = document.createElement('script');\n",
       "        s.src = paths[lib];\n",
       "        s.async = true;\n",
       "        s.onload = () => resolve(paths[lib]);\n",
       "        s.onerror = () => reject(`Error loading script: ${paths[lib]}`);\n",
       "        document.getElementsByTagName(\"head\")[0].appendChild(s);\n",
       "      });\n",
       "    }\n",
       "\n",
       "    function showError(err) {\n",
       "      outputDiv.innerHTML = `<div class=\"error\" style=\"color:red;\">${err}</div>`;\n",
       "      throw err;\n",
       "    }\n",
       "\n",
       "    function displayChart(vegaEmbed) {\n",
       "      vegaEmbed(outputDiv, spec, embedOpt)\n",
       "        .catch(err => showError(`Javascript Error: ${err.message}<br>This usually means there's a typo in your chart specification. See the javascript console for the full traceback.`));\n",
       "    }\n",
       "\n",
       "    if(typeof define === \"function\" && define.amd) {\n",
       "      requirejs.config({paths});\n",
       "      require([\"vega-embed\"], displayChart, err => showError(`Error loading script: ${err.message}`));\n",
       "    } else if (typeof vegaEmbed === \"function\") {\n",
       "      displayChart(vegaEmbed);\n",
       "    } else {\n",
       "      loadScript(\"vega\")\n",
       "        .then(() => loadScript(\"vega-lite\"))\n",
       "        .then(() => loadScript(\"vega-embed\"))\n",
       "        .catch(showError)\n",
       "        .then(() => displayChart(vegaEmbed));\n",
       "    }\n",
       "  })({\"config\": {\"view\": {\"continuousWidth\": 400, \"continuousHeight\": 300}}, \"layer\": [{\"mark\": {\"type\": \"line\", \"interpolate\": \"basis\"}, \"encoding\": {\"color\": {\"type\": \"nominal\", \"field\": \"variable\"}, \"x\": {\"type\": \"nominal\", \"axis\": {\"title\": \"Age\"}, \"field\": \"age\"}, \"y\": {\"type\": \"quantitative\", \"field\": \"value\", \"scale\": {\"type\": \"log\"}}}}, {\"mark\": \"point\", \"encoding\": {\"opacity\": {\"value\": 0}, \"x\": {\"type\": \"temporal\", \"field\": \"age\"}}, \"selection\": {\"selector002\": {\"type\": \"single\", \"nearest\": true, \"on\": \"mouseover\", \"fields\": [\"age\"], \"empty\": \"none\"}}}, {\"mark\": \"point\", \"encoding\": {\"color\": {\"type\": \"nominal\", \"field\": \"variable\"}, \"opacity\": {\"condition\": {\"value\": 1, \"selection\": \"selector002\"}, \"value\": 0}, \"x\": {\"type\": \"nominal\", \"axis\": {\"title\": \"Age\"}, \"field\": \"age\"}, \"y\": {\"type\": \"quantitative\", \"field\": \"value\", \"scale\": {\"type\": \"log\"}}}}, {\"mark\": {\"type\": \"rule\", \"color\": \"gray\"}, \"encoding\": {\"x\": {\"type\": \"temporal\", \"field\": \"age\"}}, \"transform\": [{\"filter\": {\"selection\": \"selector002\"}}]}, {\"mark\": {\"type\": \"text\", \"align\": \"left\", \"dx\": 5, \"dy\": -5}, \"encoding\": {\"color\": {\"type\": \"nominal\", \"field\": \"variable\"}, \"text\": {\"condition\": {\"type\": \"quantitative\", \"field\": \"value\", \"selection\": \"selector002\"}, \"value\": \" \"}, \"x\": {\"type\": \"nominal\", \"axis\": {\"title\": \"Age\"}, \"field\": \"age\"}, \"y\": {\"type\": \"quantitative\", \"field\": \"value\", \"scale\": {\"type\": \"log\"}}}}], \"data\": {\"name\": \"data-af49e46f17c7e93bafe6d3d3b9bc7444\"}, \"height\": 300, \"title\": \"\", \"width\": 600, \"$schema\": \"https://vega.github.io/schema/vega-lite/v4.8.1.json\", \"datasets\": {\"data-af49e46f17c7e93bafe6d3d3b9bc7444\": [{\"age\": 67, \"variable\": \"Lactate dehydrogenase\", \"value\": 576.6666666666666}, {\"age\": 69, \"variable\": \"Lactate dehydrogenase\", \"value\": 566.0}, {\"age\": 73, \"variable\": \"Lactate dehydrogenase\", \"value\": 590.4}, {\"age\": 61, \"variable\": \"Lactate dehydrogenase\", \"value\": 877.0}, {\"age\": 88, \"variable\": \"Lactate dehydrogenase\", \"value\": 714.75}, {\"age\": 78, \"variable\": \"Lactate dehydrogenase\", \"value\": 343.1666666666667}, {\"age\": 71, \"variable\": \"Lactate dehydrogenase\", \"value\": 824.0}, {\"age\": 64, \"variable\": \"Lactate dehydrogenase\", \"value\": 737.0}, {\"age\": 77, \"variable\": \"Lactate dehydrogenase\", \"value\": 417.3333333333333}, {\"age\": 73, \"variable\": \"Lactate dehydrogenase\", \"value\": 608.0}, {\"age\": 87, \"variable\": \"Lactate dehydrogenase\", \"value\": 544.5}, {\"age\": 63, \"variable\": \"Lactate dehydrogenase\", \"value\": 454.6666666666667}, {\"age\": 71, \"variable\": \"Lactate dehydrogenase\", \"value\": 432.0}, {\"age\": 76, \"variable\": \"Lactate dehydrogenase\", \"value\": 637.8333333333334}, {\"age\": 70, \"variable\": \"Lactate dehydrogenase\", \"value\": 540.0}, {\"age\": 82, \"variable\": \"Lactate dehydrogenase\", \"value\": 726.0}, {\"age\": 80, \"variable\": \"Lactate dehydrogenase\", \"value\": 823.0}, {\"age\": 74, \"variable\": \"Lactate dehydrogenase\", \"value\": 405.0}, {\"age\": 66, \"variable\": \"Lactate dehydrogenase\", \"value\": 663.0}, {\"age\": 81, \"variable\": \"Lactate dehydrogenase\", \"value\": null}, {\"age\": 77, \"variable\": \"Lactate dehydrogenase\", \"value\": 1472.6666666666667}, {\"age\": 88, \"variable\": \"Lactate dehydrogenase\", \"value\": 740.25}, {\"age\": 61, \"variable\": \"Lactate dehydrogenase\", \"value\": 344.0}, {\"age\": 57, \"variable\": \"Lactate dehydrogenase\", \"value\": 688.5}, {\"age\": 81, \"variable\": \"Lactate dehydrogenase\", \"value\": 875.3333333333334}, {\"age\": 72, \"variable\": \"Lactate dehydrogenase\", \"value\": 793.5}, {\"age\": 94, \"variable\": \"Lactate dehydrogenase\", \"value\": 447.5}, {\"age\": 62, \"variable\": \"Lactate dehydrogenase\", \"value\": 577.0}, {\"age\": 82, \"variable\": \"Lactate dehydrogenase\", \"value\": 1138.0}, {\"age\": 71, \"variable\": \"Lactate dehydrogenase\", \"value\": 714.0}, {\"age\": 44, \"variable\": \"Lactate dehydrogenase\", \"value\": 568.0}, {\"age\": 72, \"variable\": \"Lactate dehydrogenase\", \"value\": 354.3333333333333}, {\"age\": 77, \"variable\": \"Lactate dehydrogenase\", \"value\": null}, {\"age\": 43, \"variable\": \"Lactate dehydrogenase\", \"value\": 401.0}, {\"age\": 62, \"variable\": \"Lactate dehydrogenase\", \"value\": 617.0}, {\"age\": 80, \"variable\": \"Lactate dehydrogenase\", \"value\": 495.5}, {\"age\": 74, \"variable\": \"Lactate dehydrogenase\", \"value\": 436.0}, {\"age\": 77, \"variable\": \"Lactate dehydrogenase\", \"value\": 671.0}, {\"age\": 54, \"variable\": \"Lactate dehydrogenase\", \"value\": 1106.0}, {\"age\": 62, \"variable\": \"Lactate dehydrogenase\", \"value\": 418.85714285714283}, {\"age\": 81, \"variable\": \"Lactate dehydrogenase\", \"value\": 1042.75}, {\"age\": 80, \"variable\": \"Lactate dehydrogenase\", \"value\": null}, {\"age\": 41, \"variable\": \"Lactate dehydrogenase\", \"value\": 801.0}, {\"age\": 57, \"variable\": \"Lactate dehydrogenase\", \"value\": 794.0}, {\"age\": 55, \"variable\": \"Lactate dehydrogenase\", \"value\": 444.6666666666667}, {\"age\": 68, \"variable\": \"Lactate dehydrogenase\", \"value\": 651.5}, {\"age\": 78, \"variable\": \"Lactate dehydrogenase\", \"value\": 812.3333333333334}, {\"age\": 61, \"variable\": \"Lactate dehydrogenase\", \"value\": 702.0}, {\"age\": 67, \"variable\": \"High sensitivity C-reactive protein\", \"value\": 199.63333333333333}, {\"age\": 69, \"variable\": \"High sensitivity C-reactive protein\", \"value\": 62.4}, {\"age\": 73, \"variable\": \"High sensitivity C-reactive protein\", \"value\": 124.05999999999999}, {\"age\": 61, \"variable\": \"High sensitivity C-reactive protein\", \"value\": 264.5}, {\"age\": 88, \"variable\": \"High sensitivity C-reactive protein\", \"value\": 87.25}, {\"age\": 78, \"variable\": \"High sensitivity C-reactive protein\", \"value\": 82.75}, {\"age\": 71, \"variable\": \"High sensitivity C-reactive protein\", \"value\": 71.89999999999999}, {\"age\": 64, \"variable\": \"High sensitivity C-reactive protein\", \"value\": 169.95}, {\"age\": 77, \"variable\": \"High sensitivity C-reactive protein\", \"value\": 78.46666666666668}, {\"age\": 73, \"variable\": \"High sensitivity C-reactive protein\", \"value\": 144.5}, {\"age\": 87, \"variable\": \"High sensitivity C-reactive protein\", \"value\": 75.5}, {\"age\": 63, \"variable\": \"High sensitivity C-reactive protein\", \"value\": 129.1}, {\"age\": 71, \"variable\": \"High sensitivity C-reactive protein\", \"value\": 119.1}, {\"age\": 76, \"variable\": \"High sensitivity C-reactive protein\", \"value\": 121.725}, {\"age\": 70, \"variable\": \"High sensitivity C-reactive protein\", \"value\": 26.3}, {\"age\": 82, \"variable\": \"High sensitivity C-reactive protein\", \"value\": 139.0}, {\"age\": 80, \"variable\": \"High sensitivity C-reactive protein\", \"value\": 119.35000000000001}, {\"age\": 74, \"variable\": \"High sensitivity C-reactive protein\", \"value\": 32.9}, {\"age\": 66, \"variable\": \"High sensitivity C-reactive protein\", \"value\": 102.7}, {\"age\": 81, \"variable\": \"High sensitivity C-reactive protein\", \"value\": null}, {\"age\": 77, \"variable\": \"High sensitivity C-reactive protein\", \"value\": 165.4}, {\"age\": 88, \"variable\": \"High sensitivity C-reactive protein\", \"value\": 57.05}, {\"age\": 61, \"variable\": \"High sensitivity C-reactive protein\", \"value\": 10.2}, {\"age\": 57, \"variable\": \"High sensitivity C-reactive protein\", \"value\": 201.25}, {\"age\": 81, \"variable\": \"High sensitivity C-reactive protein\", \"value\": 165.4}, {\"age\": 72, \"variable\": \"High sensitivity C-reactive protein\", \"value\": 70.31666666666666}, {\"age\": 94, \"variable\": \"High sensitivity C-reactive protein\", \"value\": 83.4}, {\"age\": 62, \"variable\": \"High sensitivity C-reactive protein\", \"value\": 57.2}, {\"age\": 82, \"variable\": \"High sensitivity C-reactive protein\", \"value\": 88.3}, {\"age\": 71, \"variable\": \"High sensitivity C-reactive protein\", \"value\": 131.9}, {\"age\": 44, \"variable\": \"High sensitivity C-reactive protein\", \"value\": 142.7}, {\"age\": 72, \"variable\": \"High sensitivity C-reactive protein\", \"value\": 114.1}, {\"age\": 77, \"variable\": \"High sensitivity C-reactive protein\", \"value\": null}, {\"age\": 43, \"variable\": \"High sensitivity C-reactive protein\", \"value\": 185.1}, {\"age\": 62, \"variable\": \"High sensitivity C-reactive protein\", \"value\": 91.7}, {\"age\": 80, \"variable\": \"High sensitivity C-reactive protein\", \"value\": 89.35}, {\"age\": 74, \"variable\": \"High sensitivity C-reactive protein\", \"value\": 72.7}, {\"age\": 77, \"variable\": \"High sensitivity C-reactive protein\", \"value\": 8.0}, {\"age\": 54, \"variable\": \"High sensitivity C-reactive protein\", \"value\": 210.9}, {\"age\": 62, \"variable\": \"High sensitivity C-reactive protein\", \"value\": 54.41428571428571}, {\"age\": 81, \"variable\": \"High sensitivity C-reactive protein\", \"value\": 166.575}, {\"age\": 80, \"variable\": \"High sensitivity C-reactive protein\", \"value\": null}, {\"age\": 41, \"variable\": \"High sensitivity C-reactive protein\", \"value\": 51.3}, {\"age\": 57, \"variable\": \"High sensitivity C-reactive protein\", \"value\": 262.2}, {\"age\": 55, \"variable\": \"High sensitivity C-reactive protein\", \"value\": 65.36666666666666}, {\"age\": 68, \"variable\": \"High sensitivity C-reactive protein\", \"value\": null}, {\"age\": 78, \"variable\": \"High sensitivity C-reactive protein\", \"value\": 68.66666666666667}, {\"age\": 61, \"variable\": \"High sensitivity C-reactive protein\", \"value\": 205.8}, {\"age\": 67, \"variable\": \"(%)lymphocyte\", \"value\": 3.233333333333333}, {\"age\": 69, \"variable\": \"(%)lymphocyte\", \"value\": 7.1499999999999995}, {\"age\": 73, \"variable\": \"(%)lymphocyte\", \"value\": 2.88}, {\"age\": 61, \"variable\": \"(%)lymphocyte\", \"value\": 9.2}, {\"age\": 88, \"variable\": \"(%)lymphocyte\", \"value\": 2.1999999999999997}, {\"age\": 78, \"variable\": \"(%)lymphocyte\", \"value\": 6.683333333333334}, {\"age\": 71, \"variable\": \"(%)lymphocyte\", \"value\": 4.7}, {\"age\": 64, \"variable\": \"(%)lymphocyte\", \"value\": 4.7}, {\"age\": 77, \"variable\": \"(%)lymphocyte\", \"value\": 4.1}, {\"age\": 73, \"variable\": \"(%)lymphocyte\", \"value\": 8.8}, {\"age\": 87, \"variable\": \"(%)lymphocyte\", \"value\": 16.75}, {\"age\": 63, \"variable\": \"(%)lymphocyte\", \"value\": 5.333333333333333}, {\"age\": 71, \"variable\": \"(%)lymphocyte\", \"value\": 10.0}, {\"age\": 76, \"variable\": \"(%)lymphocyte\", \"value\": 5.68}, {\"age\": 70, \"variable\": \"(%)lymphocyte\", \"value\": 6.124999999999999}, {\"age\": 82, \"variable\": \"(%)lymphocyte\", \"value\": 3.1666666666666665}, {\"age\": 80, \"variable\": \"(%)lymphocyte\", \"value\": 3.9666666666666663}, {\"age\": 74, \"variable\": \"(%)lymphocyte\", \"value\": 12.45}, {\"age\": 66, \"variable\": \"(%)lymphocyte\", \"value\": 4.5}, {\"age\": 81, \"variable\": \"(%)lymphocyte\", \"value\": null}, {\"age\": 77, \"variable\": \"(%)lymphocyte\", \"value\": 3.8333333333333335}, {\"age\": 88, \"variable\": \"(%)lymphocyte\", \"value\": 5.833333333333333}, {\"age\": 61, \"variable\": \"(%)lymphocyte\", \"value\": 2.25}, {\"age\": 57, \"variable\": \"(%)lymphocyte\", \"value\": 9.600000000000001}, {\"age\": 81, \"variable\": \"(%)lymphocyte\", \"value\": 6.5200000000000005}, {\"age\": 72, \"variable\": \"(%)lymphocyte\", \"value\": 10.48}, {\"age\": 94, \"variable\": \"(%)lymphocyte\", \"value\": 9.65}, {\"age\": 62, \"variable\": \"(%)lymphocyte\", \"value\": 13.0}, {\"age\": 82, \"variable\": \"(%)lymphocyte\", \"value\": 5.3}, {\"age\": 71, \"variable\": \"(%)lymphocyte\", \"value\": 10.7}, {\"age\": 44, \"variable\": \"(%)lymphocyte\", \"value\": 6.1}, {\"age\": 72, \"variable\": \"(%)lymphocyte\", \"value\": 7.374999999999999}, {\"age\": 77, \"variable\": \"(%)lymphocyte\", \"value\": null}, {\"age\": 43, \"variable\": \"(%)lymphocyte\", \"value\": 7.5}, {\"age\": 62, \"variable\": \"(%)lymphocyte\", \"value\": 3.1}, {\"age\": 80, \"variable\": \"(%)lymphocyte\", \"value\": 3.6500000000000004}, {\"age\": 74, \"variable\": \"(%)lymphocyte\", \"value\": 7.1}, {\"age\": 77, \"variable\": \"(%)lymphocyte\", \"value\": 2.7}, {\"age\": 54, \"variable\": \"(%)lymphocyte\", \"value\": 6.6}, {\"age\": 62, \"variable\": \"(%)lymphocyte\", \"value\": 8.1}, {\"age\": 81, \"variable\": \"(%)lymphocyte\", \"value\": 4.033333333333333}, {\"age\": 80, \"variable\": \"(%)lymphocyte\", \"value\": null}, {\"age\": 41, \"variable\": \"(%)lymphocyte\", \"value\": 6.2}, {\"age\": 57, \"variable\": \"(%)lymphocyte\", \"value\": 3.7}, {\"age\": 55, \"variable\": \"(%)lymphocyte\", \"value\": 3.725}, {\"age\": 68, \"variable\": \"(%)lymphocyte\", \"value\": 5.225}, {\"age\": 78, \"variable\": \"(%)lymphocyte\", \"value\": 4.375}, {\"age\": 61, \"variable\": \"(%)lymphocyte\", \"value\": 6.3}]}}, {\"mode\": \"vega-lite\"});\n",
       "</script>"
      ],
      "text/plain": [
       "alt.LayerChart(...)"
      ]
     },
     "execution_count": 12,
     "metadata": {},
     "output_type": "execute_result"
    }
   ],
   "source": [
    "nearest = alt.selection(type='single', nearest=True, on='mouseover',\n",
    "                        fields=['age'], empty='none')\n",
    "line = alt.Chart().mark_line(interpolate='basis').encode(\n",
    "    alt.X('age:N', axis=alt.Axis(title='Age')),\n",
    "    alt.Y('value:Q',scale=alt.Scale(type='log')),\n",
    "    color='variable:N'\n",
    ")\n",
    "selectors = alt.Chart().mark_point().encode(\n",
    "    x='age:T',\n",
    "    opacity=alt.value(0),\n",
    ").add_selection(\n",
    "    nearest\n",
    ")\n",
    "points = line.mark_point().encode(\n",
    "    opacity=alt.condition(nearest, alt.value(1), alt.value(0))\n",
    ")\n",
    "text = line.mark_text(align='left', dx=5, dy=-5).encode(\n",
    "    text=alt.condition(nearest, 'value:Q', alt.value(' '))\n",
    ")\n",
    "rules = alt.Chart().mark_rule(color='gray').encode(\n",
    "    x='age:T',\n",
    ").transform_filter(\n",
    "    nearest\n",
    ")\n",
    "stockChart = alt.layer(line, selectors, points, rules, text,\n",
    "                       data=x_male, \n",
    "                       width=600, height=300,title='')\n",
    "\n",
    "stockChart"
   ]
  },
  {
   "cell_type": "code",
   "execution_count": null,
   "metadata": {},
   "outputs": [],
   "source": []
  },
  {
   "cell_type": "code",
   "execution_count": null,
   "metadata": {},
   "outputs": [],
   "source": []
  },
  {
   "cell_type": "code",
   "execution_count": null,
   "metadata": {},
   "outputs": [],
   "source": []
  },
  {
   "cell_type": "code",
   "execution_count": 17,
   "metadata": {},
   "outputs": [
    {
     "name": "stderr",
     "output_type": "stream",
     "text": [
      "C:\\Users\\Krul\\Anaconda3\\lib\\site-packages\\plotnine\\layer.py:401: PlotnineWarning: geom_point : Removed 21 rows containing missing values.\n"
     ]
    },
    {
     "data": {
      "image/png": "[encoded data removed]",
      "text/plain": [
       "<Figure size 640x480 with 1 Axes>"
      ]
     },
     "metadata": {},
     "output_type": "display_data"
    },
    {
     "data": {
      "text/plain": [
       "<ggplot: (-9223371905222392092)>"
      ]
     },
     "execution_count": 17,
     "metadata": {},
     "output_type": "execute_result"
    }
   ],
   "source": [
    "from plotnine import ggplot, geom_point, aes, stat_smooth, facet_wrap, xlab, scale_x_log10, theme_bw, theme, element_text, theme_dark\n",
    "\n",
    "(ggplot(data_1, aes('Urea', 'calcium', color = 'outcome'))\n",
    "    + geom_point()\n",
    "    + scale_x_log10()\n",
    "    + theme_bw()\n",
    "    + theme(text=element_text(size=12)))\n",
    "\n",
    "# 21 rows cotain missing values"
   ]
  },
  {
   "cell_type": "code",
   "execution_count": 20,
   "metadata": {},
   "outputs": [
    {
     "data": {
      "text/plain": [
       "PATIENT_ID\n",
       "157.0     Young\n",
       "213.0     Young\n",
       "102.0     Young\n",
       "200.0     Adult\n",
       "195.0     Adult\n",
       "          ...  \n",
       "247.0    Senior\n",
       "313.0    Senior\n",
       "309.0    Senior\n",
       "290.0    Senior\n",
       "212.0    Senior\n",
       "Name: label_age, Length: 375, dtype: category\n",
       "Categories (4, object): ['Young' < 'Adult' < 'Middle Age' < 'Senior']"
      ]
     },
     "execution_count": 20,
     "metadata": {},
     "output_type": "execute_result"
    }
   ],
   "source": [
    "#only to not mess with your data\n",
    "\n",
    "def disc(x):\n",
    "    if x < 25: return 'Young'\n",
    "    elif x < 40: return 'Adult'\n",
    "    elif x < 60: return 'Middle Age'\n",
    "    else: return 'Senior'\n",
    "\n",
    "age_data = data_1.sort_values(by = ['age'])\n",
    "age_data['label_age'] = age_data['age'].apply(lambda x: disc(x))\n",
    "age_data.label_age = pd.Categorical(age_data.label_age, ordered=True, categories = ['Young', 'Adult', 'Middle Age', 'Senior'])\n",
    "age_data.label_age\n"
   ]
  },
  {
   "cell_type": "code",
   "execution_count": 74,
   "metadata": {},
   "outputs": [
    {
     "data": {
      "image/png": "[encoded data removed]",
      "text/plain": [
       "<Figure size 640x480 with 8 Axes>"
      ]
     },
     "metadata": {},
     "output_type": "display_data"
    },
    {
     "data": {
      "text/plain": [
       "<ggplot: (-9223371905222477396)>"
      ]
     },
     "execution_count": 74,
     "metadata": {},
     "output_type": "execute_result"
    }
   ],
   "source": [
    "from plotnine import theme_dark, facet_grid, theme_classic, element_rect, element_line\n",
    "(ggplot(age_data) \n",
    "    + facet_grid(facets = 'label_age ~ gender')\n",
    "    + aes(x = 'serum sodium',\n",
    "          y = 'thrombocytocrit',\n",
    "          color = 'outcome')\n",
    "    + geom_point()\n",
    "    + theme_dark()\n",
    "    + theme(\n",
    "        panel_grid_minor = element_line(colour = \"gray\"),\n",
    "        panel_grid_major = element_line(colour = \"gray\"))\n",
    ") "
   ]
  },
  {
   "cell_type": "code",
   "execution_count": 41,
   "metadata": {},
   "outputs": [
    {
     "data": {
      "text/html": [
       "<div>\n",
       "<style scoped>\n",
       "    .dataframe tbody tr th:only-of-type {\n",
       "        vertical-align: middle;\n",
       "    }\n",
       "\n",
       "    .dataframe tbody tr th {\n",
       "        vertical-align: top;\n",
       "    }\n",
       "\n",
       "    .dataframe thead th {\n",
       "        text-align: right;\n",
       "    }\n",
       "</style>\n",
       "<table border=\"1\" class=\"dataframe\">\n",
       "  <thead>\n",
       "    <tr style=\"text-align: right;\">\n",
       "      <th></th>\n",
       "      <th>age</th>\n",
       "      <th>gender</th>\n",
       "      <th>outcome</th>\n",
       "      <th>Hypersensitive cardiac troponinI</th>\n",
       "      <th>hemoglobin</th>\n",
       "      <th>Serum chloride</th>\n",
       "      <th>Prothrombin time</th>\n",
       "      <th>procalcitonin</th>\n",
       "      <th>eosinophils(%)</th>\n",
       "      <th>Interleukin 2 receptor</th>\n",
       "      <th>...</th>\n",
       "      <th>High sensitivity C-reactive protein</th>\n",
       "      <th>HIV antibody quantification</th>\n",
       "      <th>serum sodium</th>\n",
       "      <th>thrombocytocrit</th>\n",
       "      <th>ESR</th>\n",
       "      <th>glutamic-pyruvic transaminase</th>\n",
       "      <th>eGFR</th>\n",
       "      <th>creatinine</th>\n",
       "      <th>label_age</th>\n",
       "      <th>disc_age</th>\n",
       "    </tr>\n",
       "    <tr>\n",
       "      <th>PATIENT_ID</th>\n",
       "      <th></th>\n",
       "      <th></th>\n",
       "      <th></th>\n",
       "      <th></th>\n",
       "      <th></th>\n",
       "      <th></th>\n",
       "      <th></th>\n",
       "      <th></th>\n",
       "      <th></th>\n",
       "      <th></th>\n",
       "      <th></th>\n",
       "      <th></th>\n",
       "      <th></th>\n",
       "      <th></th>\n",
       "      <th></th>\n",
       "      <th></th>\n",
       "      <th></th>\n",
       "      <th></th>\n",
       "      <th></th>\n",
       "      <th></th>\n",
       "      <th></th>\n",
       "    </tr>\n",
       "  </thead>\n",
       "  <tbody>\n",
       "    <tr>\n",
       "      <th>157.0</th>\n",
       "      <td>18</td>\n",
       "      <td>Male</td>\n",
       "      <td>Recovered</td>\n",
       "      <td>1.900000</td>\n",
       "      <td>127.000000</td>\n",
       "      <td>103.850000</td>\n",
       "      <td>14.600000</td>\n",
       "      <td>0.020000</td>\n",
       "      <td>0.566667</td>\n",
       "      <td>934.595293</td>\n",
       "      <td>...</td>\n",
       "      <td>0.650000</td>\n",
       "      <td>0.090000</td>\n",
       "      <td>143.500000</td>\n",
       "      <td>0.225000</td>\n",
       "      <td>4.500000</td>\n",
       "      <td>41.000000</td>\n",
       "      <td>215.450000</td>\n",
       "      <td>12.500000</td>\n",
       "      <td>Young</td>\n",
       "      <td>15</td>\n",
       "    </tr>\n",
       "    <tr>\n",
       "      <th>213.0</th>\n",
       "      <td>19</td>\n",
       "      <td>Female</td>\n",
       "      <td>Dead</td>\n",
       "      <td>12.800000</td>\n",
       "      <td>108.000000</td>\n",
       "      <td>97.500000</td>\n",
       "      <td>16.900000</td>\n",
       "      <td>0.130000</td>\n",
       "      <td>0.600000</td>\n",
       "      <td>934.595293</td>\n",
       "      <td>...</td>\n",
       "      <td>51.900000</td>\n",
       "      <td>0.070000</td>\n",
       "      <td>134.500000</td>\n",
       "      <td>0.214387</td>\n",
       "      <td>8.000000</td>\n",
       "      <td>11.000000</td>\n",
       "      <td>130.800000</td>\n",
       "      <td>69.000000</td>\n",
       "      <td>Young</td>\n",
       "      <td>15</td>\n",
       "    </tr>\n",
       "    <tr>\n",
       "      <th>102.0</th>\n",
       "      <td>22</td>\n",
       "      <td>Male</td>\n",
       "      <td>Recovered</td>\n",
       "      <td>1.900000</td>\n",
       "      <td>138.000000</td>\n",
       "      <td>100.800000</td>\n",
       "      <td>15.000000</td>\n",
       "      <td>0.030000</td>\n",
       "      <td>0.700000</td>\n",
       "      <td>582.000000</td>\n",
       "      <td>...</td>\n",
       "      <td>22.600000</td>\n",
       "      <td>0.099745</td>\n",
       "      <td>140.600000</td>\n",
       "      <td>0.200000</td>\n",
       "      <td>16.000000</td>\n",
       "      <td>19.000000</td>\n",
       "      <td>127.900000</td>\n",
       "      <td>55.500000</td>\n",
       "      <td>Young</td>\n",
       "      <td>20</td>\n",
       "    </tr>\n",
       "    <tr>\n",
       "      <th>200.0</th>\n",
       "      <td>25</td>\n",
       "      <td>Female</td>\n",
       "      <td>Recovered</td>\n",
       "      <td>765.964278</td>\n",
       "      <td>125.219553</td>\n",
       "      <td>102.412216</td>\n",
       "      <td>15.607362</td>\n",
       "      <td>0.880558</td>\n",
       "      <td>0.680637</td>\n",
       "      <td>934.595293</td>\n",
       "      <td>...</td>\n",
       "      <td>70.413724</td>\n",
       "      <td>0.099745</td>\n",
       "      <td>140.737974</td>\n",
       "      <td>0.214387</td>\n",
       "      <td>33.867593</td>\n",
       "      <td>38.709738</td>\n",
       "      <td>84.037712</td>\n",
       "      <td>106.298131</td>\n",
       "      <td>Adult</td>\n",
       "      <td>20</td>\n",
       "    </tr>\n",
       "    <tr>\n",
       "      <th>195.0</th>\n",
       "      <td>26</td>\n",
       "      <td>Male</td>\n",
       "      <td>Recovered</td>\n",
       "      <td>1.900000</td>\n",
       "      <td>136.000000</td>\n",
       "      <td>98.200000</td>\n",
       "      <td>13.900000</td>\n",
       "      <td>0.020000</td>\n",
       "      <td>0.500000</td>\n",
       "      <td>447.000000</td>\n",
       "      <td>...</td>\n",
       "      <td>1.100000</td>\n",
       "      <td>0.150000</td>\n",
       "      <td>138.200000</td>\n",
       "      <td>0.300000</td>\n",
       "      <td>4.000000</td>\n",
       "      <td>16.000000</td>\n",
       "      <td>130.400000</td>\n",
       "      <td>48.000000</td>\n",
       "      <td>Adult</td>\n",
       "      <td>25</td>\n",
       "    </tr>\n",
       "    <tr>\n",
       "      <th>...</th>\n",
       "      <td>...</td>\n",
       "      <td>...</td>\n",
       "      <td>...</td>\n",
       "      <td>...</td>\n",
       "      <td>...</td>\n",
       "      <td>...</td>\n",
       "      <td>...</td>\n",
       "      <td>...</td>\n",
       "      <td>...</td>\n",
       "      <td>...</td>\n",
       "      <td>...</td>\n",
       "      <td>...</td>\n",
       "      <td>...</td>\n",
       "      <td>...</td>\n",
       "      <td>...</td>\n",
       "      <td>...</td>\n",
       "      <td>...</td>\n",
       "      <td>...</td>\n",
       "      <td>...</td>\n",
       "      <td>...</td>\n",
       "      <td>...</td>\n",
       "    </tr>\n",
       "    <tr>\n",
       "      <th>247.0</th>\n",
       "      <td>90</td>\n",
       "      <td>Female</td>\n",
       "      <td>Dead</td>\n",
       "      <td>1382.400000</td>\n",
       "      <td>110.250000</td>\n",
       "      <td>105.800000</td>\n",
       "      <td>20.300000</td>\n",
       "      <td>0.183333</td>\n",
       "      <td>0.100000</td>\n",
       "      <td>934.595293</td>\n",
       "      <td>...</td>\n",
       "      <td>79.150000</td>\n",
       "      <td>0.070000</td>\n",
       "      <td>138.850000</td>\n",
       "      <td>0.072500</td>\n",
       "      <td>47.000000</td>\n",
       "      <td>12.333333</td>\n",
       "      <td>76.666667</td>\n",
       "      <td>72.666667</td>\n",
       "      <td>Senior</td>\n",
       "      <td>85</td>\n",
       "    </tr>\n",
       "    <tr>\n",
       "      <th>313.0</th>\n",
       "      <td>91</td>\n",
       "      <td>Female</td>\n",
       "      <td>Dead</td>\n",
       "      <td>15.900000</td>\n",
       "      <td>104.500000</td>\n",
       "      <td>105.566667</td>\n",
       "      <td>15.150000</td>\n",
       "      <td>0.115000</td>\n",
       "      <td>0.000000</td>\n",
       "      <td>1190.000000</td>\n",
       "      <td>...</td>\n",
       "      <td>140.700000</td>\n",
       "      <td>0.060000</td>\n",
       "      <td>144.566667</td>\n",
       "      <td>0.160000</td>\n",
       "      <td>60.000000</td>\n",
       "      <td>20.000000</td>\n",
       "      <td>87.100000</td>\n",
       "      <td>54.333333</td>\n",
       "      <td>Senior</td>\n",
       "      <td>90</td>\n",
       "    </tr>\n",
       "    <tr>\n",
       "      <th>309.0</th>\n",
       "      <td>92</td>\n",
       "      <td>Female</td>\n",
       "      <td>Dead</td>\n",
       "      <td>141.600000</td>\n",
       "      <td>119.750000</td>\n",
       "      <td>116.533333</td>\n",
       "      <td>22.400000</td>\n",
       "      <td>1.010000</td>\n",
       "      <td>0.000000</td>\n",
       "      <td>513.000000</td>\n",
       "      <td>...</td>\n",
       "      <td>154.633333</td>\n",
       "      <td>0.090000</td>\n",
       "      <td>151.533333</td>\n",
       "      <td>0.130000</td>\n",
       "      <td>39.000000</td>\n",
       "      <td>42.666667</td>\n",
       "      <td>43.675000</td>\n",
       "      <td>132.750000</td>\n",
       "      <td>Senior</td>\n",
       "      <td>90</td>\n",
       "    </tr>\n",
       "    <tr>\n",
       "      <th>290.0</th>\n",
       "      <td>94</td>\n",
       "      <td>Male</td>\n",
       "      <td>Dead</td>\n",
       "      <td>9.900000</td>\n",
       "      <td>121.500000</td>\n",
       "      <td>97.800000</td>\n",
       "      <td>15.400000</td>\n",
       "      <td>0.485000</td>\n",
       "      <td>0.000000</td>\n",
       "      <td>934.595293</td>\n",
       "      <td>...</td>\n",
       "      <td>83.400000</td>\n",
       "      <td>0.099745</td>\n",
       "      <td>137.900000</td>\n",
       "      <td>0.155000</td>\n",
       "      <td>47.000000</td>\n",
       "      <td>12.000000</td>\n",
       "      <td>66.200000</td>\n",
       "      <td>69.000000</td>\n",
       "      <td>Senior</td>\n",
       "      <td>90</td>\n",
       "    </tr>\n",
       "    <tr>\n",
       "      <th>212.0</th>\n",
       "      <td>95</td>\n",
       "      <td>Female</td>\n",
       "      <td>Dead</td>\n",
       "      <td>280.700000</td>\n",
       "      <td>108.000000</td>\n",
       "      <td>109.250000</td>\n",
       "      <td>17.800000</td>\n",
       "      <td>0.600000</td>\n",
       "      <td>1.600000</td>\n",
       "      <td>2161.000000</td>\n",
       "      <td>...</td>\n",
       "      <td>78.000000</td>\n",
       "      <td>0.070000</td>\n",
       "      <td>142.100000</td>\n",
       "      <td>0.190000</td>\n",
       "      <td>80.000000</td>\n",
       "      <td>18.000000</td>\n",
       "      <td>26.300000</td>\n",
       "      <td>184.000000</td>\n",
       "      <td>Senior</td>\n",
       "      <td>90</td>\n",
       "    </tr>\n",
       "  </tbody>\n",
       "</table>\n",
       "<p>375 rows × 79 columns</p>\n",
       "</div>"
      ],
      "text/plain": [
       "            age  gender    outcome  Hypersensitive cardiac troponinI  \\\n",
       "PATIENT_ID                                                             \n",
       "157.0        18    Male  Recovered                          1.900000   \n",
       "213.0        19  Female       Dead                         12.800000   \n",
       "102.0        22    Male  Recovered                          1.900000   \n",
       "200.0        25  Female  Recovered                        765.964278   \n",
       "195.0        26    Male  Recovered                          1.900000   \n",
       "...         ...     ...        ...                               ...   \n",
       "247.0        90  Female       Dead                       1382.400000   \n",
       "313.0        91  Female       Dead                         15.900000   \n",
       "309.0        92  Female       Dead                        141.600000   \n",
       "290.0        94    Male       Dead                          9.900000   \n",
       "212.0        95  Female       Dead                        280.700000   \n",
       "\n",
       "            hemoglobin  Serum chloride  Prothrombin time  procalcitonin  \\\n",
       "PATIENT_ID                                                                \n",
       "157.0       127.000000      103.850000         14.600000       0.020000   \n",
       "213.0       108.000000       97.500000         16.900000       0.130000   \n",
       "102.0       138.000000      100.800000         15.000000       0.030000   \n",
       "200.0       125.219553      102.412216         15.607362       0.880558   \n",
       "195.0       136.000000       98.200000         13.900000       0.020000   \n",
       "...                ...             ...               ...            ...   \n",
       "247.0       110.250000      105.800000         20.300000       0.183333   \n",
       "313.0       104.500000      105.566667         15.150000       0.115000   \n",
       "309.0       119.750000      116.533333         22.400000       1.010000   \n",
       "290.0       121.500000       97.800000         15.400000       0.485000   \n",
       "212.0       108.000000      109.250000         17.800000       0.600000   \n",
       "\n",
       "            eosinophils(%)  Interleukin 2 receptor  ...  \\\n",
       "PATIENT_ID                                          ...   \n",
       "157.0             0.566667              934.595293  ...   \n",
       "213.0             0.600000              934.595293  ...   \n",
       "102.0             0.700000              582.000000  ...   \n",
       "200.0             0.680637              934.595293  ...   \n",
       "195.0             0.500000              447.000000  ...   \n",
       "...                    ...                     ...  ...   \n",
       "247.0             0.100000              934.595293  ...   \n",
       "313.0             0.000000             1190.000000  ...   \n",
       "309.0             0.000000              513.000000  ...   \n",
       "290.0             0.000000              934.595293  ...   \n",
       "212.0             1.600000             2161.000000  ...   \n",
       "\n",
       "            High sensitivity C-reactive protein  HIV antibody quantification  \\\n",
       "PATIENT_ID                                                                     \n",
       "157.0                                  0.650000                     0.090000   \n",
       "213.0                                 51.900000                     0.070000   \n",
       "102.0                                 22.600000                     0.099745   \n",
       "200.0                                 70.413724                     0.099745   \n",
       "195.0                                  1.100000                     0.150000   \n",
       "...                                         ...                          ...   \n",
       "247.0                                 79.150000                     0.070000   \n",
       "313.0                                140.700000                     0.060000   \n",
       "309.0                                154.633333                     0.090000   \n",
       "290.0                                 83.400000                     0.099745   \n",
       "212.0                                 78.000000                     0.070000   \n",
       "\n",
       "            serum sodium  thrombocytocrit        ESR  \\\n",
       "PATIENT_ID                                             \n",
       "157.0         143.500000         0.225000   4.500000   \n",
       "213.0         134.500000         0.214387   8.000000   \n",
       "102.0         140.600000         0.200000  16.000000   \n",
       "200.0         140.737974         0.214387  33.867593   \n",
       "195.0         138.200000         0.300000   4.000000   \n",
       "...                  ...              ...        ...   \n",
       "247.0         138.850000         0.072500  47.000000   \n",
       "313.0         144.566667         0.160000  60.000000   \n",
       "309.0         151.533333         0.130000  39.000000   \n",
       "290.0         137.900000         0.155000  47.000000   \n",
       "212.0         142.100000         0.190000  80.000000   \n",
       "\n",
       "            glutamic-pyruvic transaminase        eGFR  creatinine  label_age  \\\n",
       "PATIENT_ID                                                                     \n",
       "157.0                           41.000000  215.450000   12.500000      Young   \n",
       "213.0                           11.000000  130.800000   69.000000      Young   \n",
       "102.0                           19.000000  127.900000   55.500000      Young   \n",
       "200.0                           38.709738   84.037712  106.298131      Adult   \n",
       "195.0                           16.000000  130.400000   48.000000      Adult   \n",
       "...                                   ...         ...         ...        ...   \n",
       "247.0                           12.333333   76.666667   72.666667     Senior   \n",
       "313.0                           20.000000   87.100000   54.333333     Senior   \n",
       "309.0                           42.666667   43.675000  132.750000     Senior   \n",
       "290.0                           12.000000   66.200000   69.000000     Senior   \n",
       "212.0                           18.000000   26.300000  184.000000     Senior   \n",
       "\n",
       "            disc_age  \n",
       "PATIENT_ID            \n",
       "157.0             15  \n",
       "213.0             15  \n",
       "102.0             20  \n",
       "200.0             20  \n",
       "195.0             25  \n",
       "...              ...  \n",
       "247.0             85  \n",
       "313.0             90  \n",
       "309.0             90  \n",
       "290.0             90  \n",
       "212.0             90  \n",
       "\n",
       "[375 rows x 79 columns]"
      ]
     },
     "execution_count": 41,
     "metadata": {},
     "output_type": "execute_result"
    }
   ],
   "source": [
    "def disc(x):\n",
    "    for i in range(16):\n",
    "        if x > bins[i][0] and x <= bins[i][1]:\n",
    "            return bins[i][0]\n",
    "            \n",
    "bins = [[i, i+5] for i in range(15, 95, 5)]\n",
    "\n",
    "age_data['disc_age'] = age_data['age'].apply(lambda x: disc(x))\n",
    "\n",
    "names = age_data.columns\n",
    "for name in names[3:-3]:\n",
    "    age_data[name].fillna(age_data[name].mean(), inplace = True)\n",
    "age_data"
   ]
  },
  {
   "cell_type": "code",
   "execution_count": 54,
   "metadata": {},
   "outputs": [
    {
     "data": {
      "application/vnd.plotly.v1+json": {
       "config": {
        "plotlyServerURL": "https://plot.ly"
       },
       "data": [
        {
         "customdata": [
          [
           "Male"
          ]
         ],
         "hoverlabel": {
          "namelength": 0
         },
         "hovertemplate": "outcome=Recovered<br>disc_age=15<br>hemoglobin=%{x}<br>eosinophils(%)=%{y}<br>Interleukin 2 receptor=%{marker.size}<br>gender=%{customdata[0]}",
         "legendgroup": "Recovered",
         "marker": {
          "color": "#636efa",
          "size": [
           934.5952932098767
          ],
          "sizemode": "area",
          "sizeref": 4.6875,
          "symbol": "square"
         },
         "mode": "markers",
         "name": "Recovered",
         "showlegend": true,
         "type": "scatter",
         "x": [
          127
         ],
         "xaxis": "x",
         "y": [
          0.5666666666666667
         ],
         "yaxis": "y"
        },
        {
         "customdata": [
          [
           "Female"
          ]
         ],
         "hoverlabel": {
          "namelength": 0
         },
         "hovertemplate": "outcome=Dead<br>disc_age=15<br>hemoglobin=%{x}<br>eosinophils(%)=%{y}<br>Interleukin 2 receptor=%{marker.size}<br>gender=%{customdata[0]}",
         "legendgroup": "Dead",
         "marker": {
          "color": "#636efa",
          "size": [
           934.5952932098767
          ],
          "sizemode": "area",
          "sizeref": 4.6875,
          "symbol": "x"
         },
         "mode": "markers",
         "name": "Dead",
         "showlegend": true,
         "type": "scatter",
         "x": [
          108
         ],
         "xaxis": "x",
         "y": [
          0.6
         ],
         "yaxis": "y"
        }
       ],
       "frames": [
        {
         "data": [
          {
           "customdata": [
            [
             "Male"
            ]
           ],
           "hoverlabel": {
            "namelength": 0
           },
           "hovertemplate": "outcome=Recovered<br>disc_age=15<br>hemoglobin=%{x}<br>eosinophils(%)=%{y}<br>Interleukin 2 receptor=%{marker.size}<br>gender=%{customdata[0]}",
           "legendgroup": "Recovered",
           "marker": {
            "color": "#636efa",
            "size": [
             934.5952932098767
            ],
            "sizemode": "area",
            "sizeref": 4.6875,
            "symbol": "square"
           },
           "mode": "markers",
           "name": "Recovered",
           "showlegend": true,
           "type": "scatter",
           "x": [
            127
           ],
           "xaxis": "x",
           "y": [
            0.5666666666666667
           ],
           "yaxis": "y"
          },
          {
           "customdata": [
            [
             "Female"
            ]
           ],
           "hoverlabel": {
            "namelength": 0
           },
           "hovertemplate": "outcome=Dead<br>disc_age=15<br>hemoglobin=%{x}<br>eosinophils(%)=%{y}<br>Interleukin 2 receptor=%{marker.size}<br>gender=%{customdata[0]}",
           "legendgroup": "Dead",
           "marker": {
            "color": "#636efa",
            "size": [
             934.5952932098767
            ],
            "sizemode": "area",
            "sizeref": 4.6875,
            "symbol": "x"
           },
           "mode": "markers",
           "name": "Dead",
           "showlegend": true,
           "type": "scatter",
           "x": [
            108
           ],
           "xaxis": "x",
           "y": [
            0.6
           ],
           "yaxis": "y"
          }
         ],
         "name": "15"
        },
        {
         "data": [
          {
           "customdata": [
            [
             "Male"
            ],
            [
             "Female"
            ]
           ],
           "hoverlabel": {
            "namelength": 0
           },
           "hovertemplate": "outcome=Recovered<br>disc_age=20<br>hemoglobin=%{x}<br>eosinophils(%)=%{y}<br>Interleukin 2 receptor=%{marker.size}<br>gender=%{customdata[0]}",
           "legendgroup": "Recovered",
           "marker": {
            "color": "#636efa",
            "size": [
             582,
             934.5952932098767
            ],
            "sizemode": "area",
            "sizeref": 4.6875,
            "symbol": "square"
           },
           "mode": "markers",
           "name": "Recovered",
           "showlegend": true,
           "type": "scatter",
           "x": [
            138,
            125.21955256821822
           ],
           "xaxis": "x",
           "y": [
            0.7,
            0.6806374843945067
           ],
           "yaxis": "y"
          }
         ],
         "name": "20"
        },
        {
         "data": [
          {
           "customdata": [
            [
             "Male"
            ],
            [
             "Female"
            ],
            [
             "Male"
            ],
            [
             "Female"
            ],
            [
             "Female"
            ],
            [
             "Male"
            ],
            [
             "Male"
            ],
            [
             "Male"
            ],
            [
             "Male"
            ],
            [
             "Male"
            ],
            [
             "Male"
            ],
            [
             "Female"
            ],
            [
             "Male"
            ],
            [
             "Female"
            ],
            [
             "Female"
            ],
            [
             "Male"
            ],
            [
             "Male"
            ],
            [
             "Female"
            ]
           ],
           "hoverlabel": {
            "namelength": 0
           },
           "hovertemplate": "outcome=Recovered<br>disc_age=25<br>hemoglobin=%{x}<br>eosinophils(%)=%{y}<br>Interleukin 2 receptor=%{marker.size}<br>gender=%{customdata[0]}",
           "legendgroup": "Recovered",
           "marker": {
            "color": "#636efa",
            "size": [
             447,
             412,
             451,
             934.5952932098767,
             293,
             517,
             426,
             934.5952932098767,
             377,
             258,
             321,
             409,
             520,
             934.5952932098767,
             934.5952932098767,
             722,
             460,
             618
            ],
            "sizemode": "area",
            "sizeref": 4.6875,
            "symbol": "square"
           },
           "mode": "markers",
           "name": "Recovered",
           "showlegend": true,
           "type": "scatter",
           "x": [
            136,
            135.5,
            131,
            134,
            154.5,
            121,
            118.5,
            112.5,
            129.5,
            128,
            82.63333333333334,
            135,
            94.66666666666667,
            143.5,
            132,
            141,
            111,
            129
           ],
           "xaxis": "x",
           "y": [
            0.5,
            0.35,
            2.766666666666667,
            1.2,
            1.6,
            1.5999999999999999,
            1.35,
            0.75,
            0.75,
            2.1666666666666665,
            0.1,
            1.2,
            0.6999999999999998,
            0.9666666666666667,
            0.25,
            1.9,
            0.9,
            0
           ],
           "yaxis": "y"
          }
         ],
         "name": "25"
        },
        {
         "data": [
          {
           "customdata": [
            [
             "Male"
            ],
            [
             "Male"
            ],
            [
             "Male"
            ],
            [
             "Male"
            ],
            [
             "Male"
            ],
            [
             "Male"
            ],
            [
             "Female"
            ],
            [
             "Female"
            ],
            [
             "Male"
            ],
            [
             "Female"
            ],
            [
             "Female"
            ],
            [
             "Male"
            ],
            [
             "Female"
            ],
            [
             "Male"
            ],
            [
             "Male"
            ],
            [
             "Female"
            ],
            [
             "Male"
            ],
            [
             "Female"
            ],
            [
             "Male"
            ],
            [
             "Female"
            ],
            [
             "Female"
            ],
            [
             "Male"
            ],
            [
             "Male"
            ]
           ],
           "hoverlabel": {
            "namelength": 0
           },
           "hovertemplate": "outcome=Recovered<br>disc_age=30<br>hemoglobin=%{x}<br>eosinophils(%)=%{y}<br>Interleukin 2 receptor=%{marker.size}<br>gender=%{customdata[0]}",
           "legendgroup": "Recovered",
           "marker": {
            "color": "#636efa",
            "size": [
             257,
             934.5952932098767,
             518,
             502,
             934.5952932098767,
             319.5,
             934.5952932098767,
             544,
             934.5952932098767,
             509.75,
             934.5952932098767,
             642.8,
             886,
             934.5952932098767,
             381,
             661,
             860,
             934.5952932098767,
             331.5,
             524,
             125,
             293,
             329
            ],
            "sizemode": "area",
            "sizeref": 4.6875,
            "symbol": "square"
           },
           "mode": "markers",
           "name": "Recovered",
           "showlegend": true,
           "type": "scatter",
           "x": [
            122.5,
            114,
            120.25,
            125,
            138.33333333333334,
            117,
            140,
            148,
            106.5,
            150,
            133.75,
            124.71428571428571,
            162,
            152,
            122.33333333333333,
            127,
            106.75,
            125.21955256821822,
            128,
            138.25,
            123,
            118.16666666666667,
            118.5
           ],
           "xaxis": "x",
           "y": [
            0.3,
            1.86,
            2.3499999999999996,
            0.6,
            0.4666666666666666,
            0.8,
            0.6999999999999998,
            0.5,
            0,
            0.1,
            0.8,
            0.21428571428571427,
            0.46666666666666673,
            1.4,
            1.7333333333333334,
            1.0666666666666667,
            1.55,
            0.6806374843945067,
            0.65,
            1.725,
            0.8,
            0.8500000000000001,
            4.55
           ],
           "yaxis": "y"
          },
          {
           "customdata": [
            [
             "Female"
            ]
           ],
           "hoverlabel": {
            "namelength": 0
           },
           "hovertemplate": "outcome=Dead<br>disc_age=30<br>hemoglobin=%{x}<br>eosinophils(%)=%{y}<br>Interleukin 2 receptor=%{marker.size}<br>gender=%{customdata[0]}",
           "legendgroup": "Dead",
           "marker": {
            "color": "#636efa",
            "size": [
             2634
            ],
            "sizemode": "area",
            "sizeref": 4.6875,
            "symbol": "x"
           },
           "mode": "markers",
           "name": "Dead",
           "showlegend": true,
           "type": "scatter",
           "x": [
            119
           ],
           "xaxis": "x",
           "y": [
            0
           ],
           "yaxis": "y"
          }
         ],
         "name": "30"
        },
        {
         "data": [
          {
           "customdata": [
            [
             "Female"
            ],
            [
             "Male"
            ],
            [
             "Female"
            ],
            [
             "Male"
            ],
            [
             "Male"
            ],
            [
             "Male"
            ],
            [
             "Male"
            ],
            [
             "Male"
            ],
            [
             "Female"
            ],
            [
             "Male"
            ],
            [
             "Male"
            ],
            [
             "Male"
            ],
            [
             "Male"
            ],
            [
             "Male"
            ],
            [
             "Male"
            ],
            [
             "Female"
            ],
            [
             "Female"
            ],
            [
             "Female"
            ],
            [
             "Female"
            ],
            [
             "Male"
            ],
            [
             "Female"
            ],
            [
             "Male"
            ]
           ],
           "hoverlabel": {
            "namelength": 0
           },
           "hovertemplate": "outcome=Recovered<br>disc_age=35<br>hemoglobin=%{x}<br>eosinophils(%)=%{y}<br>Interleukin 2 receptor=%{marker.size}<br>gender=%{customdata[0]}",
           "legendgroup": "Recovered",
           "marker": {
            "color": "#636efa",
            "size": [
             716,
             344,
             934.5952932098767,
             455,
             456,
             934.5952932098767,
             695,
             934.5952932098767,
             529,
             934.5952932098767,
             533,
             546,
             934.5952932098767,
             518,
             934.5952932098767,
             456,
             934.5952932098767,
             696,
             535,
             934.5952932098767,
             521,
             934.5952932098767
            ],
            "sizemode": "area",
            "sizeref": 4.6875,
            "symbol": "square"
           },
           "mode": "markers",
           "name": "Recovered",
           "showlegend": true,
           "type": "scatter",
           "x": [
            128.5,
            119.5,
            146.5,
            99.36666666666667,
            125,
            115.5,
            126,
            91.66666666666667,
            119,
            147.33333333333334,
            124.66666666666667,
            82.83333333333333,
            130,
            124.4,
            113.4,
            143,
            125.21955256821822,
            152,
            137,
            137,
            109.275,
            140.5
           ],
           "xaxis": "x",
           "y": [
            0,
            1.65,
            0.22499999999999998,
            0.25,
            0.2,
            0.5,
            0.15,
            0.3,
            1.1,
            0.8333333333333334,
            1.3,
            0,
            0.7,
            1.9600000000000002,
            0.76,
            2,
            0.6806374843945067,
            3.15,
            0.75,
            1.3,
            0,
            1.2
           ],
           "yaxis": "y"
          }
         ],
         "name": "35"
        },
        {
         "data": [
          {
           "customdata": [
            [
             "Male"
            ],
            [
             "Male"
            ],
            [
             "Male"
            ],
            [
             "Male"
            ],
            [
             "Male"
            ],
            [
             "Female"
            ],
            [
             "Male"
            ],
            [
             "Female"
            ],
            [
             "Female"
            ],
            [
             "Female"
            ],
            [
             "Female"
            ],
            [
             "Female"
            ],
            [
             "Female"
            ],
            [
             "Male"
            ],
            [
             "Male"
            ],
            [
             "Male"
            ],
            [
             "Male"
            ],
            [
             "Male"
            ],
            [
             "Female"
            ]
           ],
           "hoverlabel": {
            "namelength": 0
           },
           "hovertemplate": "outcome=Recovered<br>disc_age=40<br>hemoglobin=%{x}<br>eosinophils(%)=%{y}<br>Interleukin 2 receptor=%{marker.size}<br>gender=%{customdata[0]}",
           "legendgroup": "Recovered",
           "marker": {
            "color": "#636efa",
            "size": [
             577,
             399,
             934.5952932098767,
             562,
             934.5952932098767,
             526,
             244,
             536,
             934.5952932098767,
             513.5,
             387,
             814.5,
             934.5952932098767,
             611,
             934.5952932098767,
             934.5952932098767,
             934.5952932098767,
             434,
             934.5952932098767
            ],
            "sizemode": "area",
            "sizeref": 4.6875,
            "symbol": "square"
           },
           "mode": "markers",
           "name": "Recovered",
           "showlegend": true,
           "type": "scatter",
           "x": [
            107,
            138.66666666666666,
            125.33333333333333,
            118.2,
            116,
            129.5,
            120,
            146,
            125.21955256821822,
            95.95714285714287,
            122.5,
            146.66666666666666,
            140.5,
            118,
            110,
            131.16666666666666,
            127,
            109.4,
            155.5
           ],
           "xaxis": "x",
           "y": [
            0.35,
            0.43333333333333335,
            0.3666666666666667,
            1.06,
            1.8,
            0,
            0.6,
            0.46666666666666673,
            0.6806374843945067,
            0.125,
            2.7,
            0,
            1,
            2.3333333333333335,
            1.1333333333333333,
            0.03333333333333333,
            2.5,
            1.86,
            0.6000000000000001
           ],
           "yaxis": "y"
          },
          {
           "customdata": [
            [
             "Female"
            ],
            [
             "Male"
            ],
            [
             "Male"
            ],
            [
             "Male"
            ]
           ],
           "hoverlabel": {
            "namelength": 0
           },
           "hovertemplate": "outcome=Dead<br>disc_age=40<br>hemoglobin=%{x}<br>eosinophils(%)=%{y}<br>Interleukin 2 receptor=%{marker.size}<br>gender=%{customdata[0]}",
           "legendgroup": "Dead",
           "marker": {
            "color": "#636efa",
            "size": [
             7500,
             934.5952932098767,
             934.5952932098767,
             934.5952932098767
            ],
            "sizemode": "area",
            "sizeref": 4.6875,
            "symbol": "x"
           },
           "mode": "markers",
           "name": "Dead",
           "showlegend": true,
           "type": "scatter",
           "x": [
            61.8,
            110,
            88,
            142
           ],
           "xaxis": "x",
           "y": [
            0,
            0,
            0,
            0
           ],
           "yaxis": "y"
          }
         ],
         "name": "40"
        },
        {
         "data": [
          {
           "customdata": [
            [
             "Male"
            ],
            [
             "Female"
            ],
            [
             "Female"
            ],
            [
             "Male"
            ],
            [
             "Female"
            ],
            [
             "Female"
            ],
            [
             "Female"
            ],
            [
             "Female"
            ],
            [
             "Male"
            ],
            [
             "Female"
            ],
            [
             "Male"
            ],
            [
             "Male"
            ]
           ],
           "hoverlabel": {
            "namelength": 0
           },
           "hovertemplate": "outcome=Recovered<br>disc_age=45<br>hemoglobin=%{x}<br>eosinophils(%)=%{y}<br>Interleukin 2 receptor=%{marker.size}<br>gender=%{customdata[0]}",
           "legendgroup": "Recovered",
           "marker": {
            "color": "#636efa",
            "size": [
             474,
             974.5,
             715.5,
             661,
             934.5952932098767,
             254,
             460,
             783,
             221,
             758,
             934.5952932098767,
             934.5952932098767
            ],
            "sizemode": "area",
            "sizeref": 4.6875,
            "symbol": "square"
           },
           "mode": "markers",
           "name": "Recovered",
           "showlegend": true,
           "type": "scatter",
           "x": [
            118.75,
            139,
            133,
            109,
            141,
            137.2,
            137.25,
            144.5,
            126.5,
            140.25,
            104,
            112.33333333333333
           ],
           "xaxis": "x",
           "y": [
            0.8749999999999999,
            0.05,
            0.9,
            2.2,
            1.9,
            2.3,
            0.075,
            2.3,
            0.5,
            0.575,
            5.550000000000001,
            1.0999999999999999
           ],
           "yaxis": "y"
          },
          {
           "customdata": [
            [
             "Female"
            ],
            [
             "Female"
            ],
            [
             "Female"
            ]
           ],
           "hoverlabel": {
            "namelength": 0
           },
           "hovertemplate": "outcome=Dead<br>disc_age=45<br>hemoglobin=%{x}<br>eosinophils(%)=%{y}<br>Interleukin 2 receptor=%{marker.size}<br>gender=%{customdata[0]}",
           "legendgroup": "Dead",
           "marker": {
            "color": "#636efa",
            "size": [
             692,
             934.5952932098767,
             934.5952932098767
            ],
            "sizemode": "area",
            "sizeref": 4.6875,
            "symbol": "x"
           },
           "mode": "markers",
           "name": "Dead",
           "showlegend": true,
           "type": "scatter",
           "x": [
            141,
            136,
            96
           ],
           "xaxis": "x",
           "y": [
            0.5750000000000001,
            0.2,
            0
           ],
           "yaxis": "y"
          }
         ],
         "name": "45"
        },
        {
         "data": [
          {
           "customdata": [
            [
             "Male"
            ],
            [
             "Female"
            ],
            [
             "Male"
            ],
            [
             "Female"
            ],
            [
             "Female"
            ],
            [
             "Female"
            ],
            [
             "Female"
            ],
            [
             "Male"
            ],
            [
             "Female"
            ],
            [
             "Female"
            ],
            [
             "Male"
            ],
            [
             "Male"
            ],
            [
             "Female"
            ],
            [
             "Female"
            ],
            [
             "Male"
            ],
            [
             "Male"
            ],
            [
             "Female"
            ],
            [
             "Female"
            ]
           ],
           "hoverlabel": {
            "namelength": 0
           },
           "hovertemplate": "outcome=Recovered<br>disc_age=50<br>hemoglobin=%{x}<br>eosinophils(%)=%{y}<br>Interleukin 2 receptor=%{marker.size}<br>gender=%{customdata[0]}",
           "legendgroup": "Recovered",
           "marker": {
            "color": "#636efa",
            "size": [
             934.5952932098767,
             934.5952932098767,
             934.5952932098767,
             467,
             1210,
             934.5952932098767,
             934.5952932098767,
             934.5952932098767,
             863,
             585,
             184.5,
             934.5952932098767,
             915,
             934.5952932098767,
             298,
             934.5952932098767,
             500.6666666666667,
             354
            ],
            "sizemode": "area",
            "sizeref": 4.6875,
            "symbol": "square"
           },
           "mode": "markers",
           "name": "Recovered",
           "showlegend": true,
           "type": "scatter",
           "x": [
            134.5,
            98,
            129.5,
            146.5,
            149.66666666666666,
            143,
            143,
            128,
            132.75,
            153,
            121.25,
            126.5,
            156,
            128,
            122.5,
            103.5,
            143,
            152.66666666666666
           ],
           "xaxis": "x",
           "y": [
            0.25,
            0.25,
            2.25,
            0.05,
            0.6333333333333333,
            2,
            0.58,
            0.7,
            0.05,
            0.1,
            0.45,
            0.5,
            1.25,
            2,
            0.15,
            1.8,
            0.15,
            1.8
           ],
           "yaxis": "y"
          },
          {
           "customdata": [
            [
             "Female"
            ],
            [
             "Female"
            ],
            [
             "Female"
            ],
            [
             "Female"
            ],
            [
             "Female"
            ],
            [
             "Female"
            ],
            [
             "Male"
            ],
            [
             "Female"
            ],
            [
             "Female"
            ],
            [
             "Female"
            ],
            [
             "Female"
            ],
            [
             "Male"
            ]
           ],
           "hoverlabel": {
            "namelength": 0
           },
           "hovertemplate": "outcome=Dead<br>disc_age=50<br>hemoglobin=%{x}<br>eosinophils(%)=%{y}<br>Interleukin 2 receptor=%{marker.size}<br>gender=%{customdata[0]}",
           "legendgroup": "Dead",
           "marker": {
            "color": "#636efa",
            "size": [
             934.5952932098767,
             225,
             589,
             446,
             955,
             1228,
             934.5952932098767,
             1211.5,
             934.5952932098767,
             934.5952932098767,
             934.5952932098767,
             778
            ],
            "sizemode": "area",
            "sizeref": 4.6875,
            "symbol": "x"
           },
           "mode": "markers",
           "name": "Dead",
           "showlegend": true,
           "type": "scatter",
           "x": [
            125.21955256821822,
            103,
            117,
            129,
            131,
            75.83333333333333,
            113,
            119.5,
            111,
            122,
            125.21955256821822,
            112
           ],
           "xaxis": "x",
           "y": [
            0.6806374843945067,
            0.6599999999999999,
            0.06666666666666667,
            0,
            0,
            0,
            0,
            0,
            0,
            0,
            0.6806374843945067,
            0.025
           ],
           "yaxis": "y"
          }
         ],
         "name": "50"
        },
        {
         "data": [
          {
           "customdata": [
            [
             "Female"
            ],
            [
             "Female"
            ],
            [
             "Male"
            ],
            [
             "Male"
            ],
            [
             "Male"
            ],
            [
             "Male"
            ],
            [
             "Female"
            ],
            [
             "Female"
            ],
            [
             "Female"
            ],
            [
             "Male"
            ],
            [
             "Female"
            ],
            [
             "Female"
            ],
            [
             "Male"
            ],
            [
             "Male"
            ],
            [
             "Female"
            ],
            [
             "Male"
            ],
            [
             "Male"
            ],
            [
             "Male"
            ],
            [
             "Female"
            ],
            [
             "Female"
            ],
            [
             "Female"
            ],
            [
             "Male"
            ],
            [
             "Female"
            ],
            [
             "Female"
            ],
            [
             "Female"
            ]
           ],
           "hoverlabel": {
            "namelength": 0
           },
           "hovertemplate": "outcome=Recovered<br>disc_age=55<br>hemoglobin=%{x}<br>eosinophils(%)=%{y}<br>Interleukin 2 receptor=%{marker.size}<br>gender=%{customdata[0]}",
           "legendgroup": "Recovered",
           "marker": {
            "color": "#636efa",
            "size": [
             834,
             247,
             934.5952932098767,
             934.5952932098767,
             934.5952932098767,
             966,
             789,
             668,
             384,
             407,
             934.5952932098767,
             732.5,
             934.5952932098767,
             2613,
             739,
             458,
             934.5952932098767,
             620,
             500,
             954,
             313,
             934.5952932098767,
             65.5,
             347,
             596
            ],
            "sizemode": "area",
            "sizeref": 4.6875,
            "symbol": "square"
           },
           "mode": "markers",
           "name": "Recovered",
           "showlegend": true,
           "type": "scatter",
           "x": [
            133.5,
            163,
            129,
            103,
            147,
            106.33333333333333,
            101.92,
            147.5,
            131.33333333333334,
            110.33333333333333,
            138,
            118.66666666666667,
            129,
            98,
            147,
            128,
            102,
            133,
            143.5,
            137.5,
            129,
            119.5,
            102.125,
            136.5,
            133
           ],
           "xaxis": "x",
           "y": [
            3,
            1.2,
            0.7,
            2.3,
            0.6,
            0.6,
            0.5,
            1.45,
            2.3666666666666667,
            1,
            0.4,
            0.03333333333333333,
            1.7,
            0.2,
            0.1,
            0,
            2.4,
            1.7,
            3.9000000000000004,
            0,
            0.8333333333333334,
            0.875,
            2.6,
            1.6,
            0.5
           ],
           "yaxis": "y"
          },
          {
           "customdata": [
            [
             "Female"
            ],
            [
             "Female"
            ],
            [
             "Female"
            ],
            [
             "Female"
            ],
            [
             "Female"
            ],
            [
             "Male"
            ],
            [
             "Female"
            ],
            [
             "Male"
            ],
            [
             "Female"
            ],
            [
             "Female"
            ],
            [
             "Female"
            ],
            [
             "Female"
            ],
            [
             "Female"
            ]
           ],
           "hoverlabel": {
            "namelength": 0
           },
           "hovertemplate": "outcome=Dead<br>disc_age=55<br>hemoglobin=%{x}<br>eosinophils(%)=%{y}<br>Interleukin 2 receptor=%{marker.size}<br>gender=%{customdata[0]}",
           "legendgroup": "Dead",
           "marker": {
            "color": "#636efa",
            "size": [
             934.5952932098767,
             934.5952932098767,
             1147,
             1522,
             1026,
             934.5952932098767,
             934.5952932098767,
             934.5952932098767,
             1631,
             934.5952932098767,
             659,
             996,
             800
            ],
            "sizemode": "area",
            "sizeref": 4.6875,
            "symbol": "x"
           },
           "mode": "markers",
           "name": "Dead",
           "showlegend": true,
           "type": "scatter",
           "x": [
            95,
            151,
            113.5,
            125.85714285714286,
            132.75,
            125.5,
            125.21955256821822,
            131,
            119,
            119,
            114.25,
            108.5,
            131.5
           ],
           "xaxis": "x",
           "y": [
            0,
            0,
            0.55,
            0.1285714285714286,
            0.55,
            0,
            0.6806374843945067,
            0.1,
            0.26666666666666666,
            0,
            0.1,
            0.07500000000000001,
            0.3
           ],
           "yaxis": "y"
          }
         ],
         "name": "55"
        },
        {
         "data": [
          {
           "customdata": [
            [
             "Female"
            ],
            [
             "Female"
            ],
            [
             "Male"
            ],
            [
             "Male"
            ],
            [
             "Male"
            ],
            [
             "Female"
            ],
            [
             "Male"
            ],
            [
             "Female"
            ],
            [
             "Female"
            ],
            [
             "Female"
            ],
            [
             "Female"
            ],
            [
             "Female"
            ],
            [
             "Male"
            ],
            [
             "Female"
            ],
            [
             "Male"
            ],
            [
             "Male"
            ],
            [
             "Male"
            ],
            [
             "Male"
            ],
            [
             "Female"
            ]
           ],
           "hoverlabel": {
            "namelength": 0
           },
           "hovertemplate": "outcome=Recovered<br>disc_age=60<br>hemoglobin=%{x}<br>eosinophils(%)=%{y}<br>Interleukin 2 receptor=%{marker.size}<br>gender=%{customdata[0]}",
           "legendgroup": "Recovered",
           "marker": {
            "color": "#636efa",
            "size": [
             1166,
             934.5952932098767,
             846,
             881,
             709,
             796.5,
             934.5952932098767,
             934.5952932098767,
             938,
             549,
             934.5952932098767,
             397,
             666,
             350,
             934.5952932098767,
             297,
             934.5952932098767,
             129,
             1150
            ],
            "sizemode": "area",
            "sizeref": 4.6875,
            "symbol": "square"
           },
           "mode": "markers",
           "name": "Recovered",
           "showlegend": true,
           "type": "scatter",
           "x": [
            171.33333333333334,
            125.21955256821822,
            117.75,
            141,
            111,
            145.75,
            131,
            125.21955256821822,
            144.66666666666666,
            144,
            120.75,
            140,
            120,
            149,
            128.5,
            131.5,
            110,
            121,
            134
           ],
           "xaxis": "x",
           "y": [
            0.3333333333333333,
            0.6806374843945067,
            0.925,
            0.34,
            0.3666666666666667,
            0.05,
            1.5,
            0.6806374843945067,
            1.0666666666666667,
            0.65,
            0.1,
            4.75,
            1.35,
            1.5,
            0.7,
            2.1500000000000004,
            2.9,
            1,
            3.9333333333333336
           ],
           "yaxis": "y"
          },
          {
           "customdata": [
            [
             "Female"
            ],
            [
             "Male"
            ],
            [
             "Male"
            ],
            [
             "Male"
            ],
            [
             "Female"
            ],
            [
             "Male"
            ],
            [
             "Male"
            ],
            [
             "Male"
            ],
            [
             "Female"
            ],
            [
             "Female"
            ],
            [
             "Female"
            ],
            [
             "Female"
            ],
            [
             "Male"
            ],
            [
             "Female"
            ],
            [
             "Female"
            ],
            [
             "Male"
            ],
            [
             "Female"
            ],
            [
             "Female"
            ],
            [
             "Female"
            ],
            [
             "Female"
            ],
            [
             "Female"
            ],
            [
             "Female"
            ],
            [
             "Female"
            ],
            [
             "Female"
            ],
            [
             "Female"
            ],
            [
             "Female"
            ],
            [
             "Female"
            ],
            [
             "Female"
            ],
            [
             "Female"
            ],
            [
             "Female"
            ],
            [
             "Female"
            ]
           ],
           "hoverlabel": {
            "namelength": 0
           },
           "hovertemplate": "outcome=Dead<br>disc_age=60<br>hemoglobin=%{x}<br>eosinophils(%)=%{y}<br>Interleukin 2 receptor=%{marker.size}<br>gender=%{customdata[0]}",
           "legendgroup": "Dead",
           "marker": {
            "color": "#636efa",
            "size": [
             934.5952932098767,
             934.5952932098767,
             1504,
             2099,
             1263,
             625,
             934.5952932098767,
             934.5952932098767,
             612,
             1336,
             934.5952932098767,
             758,
             1482,
             734,
             934.5952932098767,
             2692,
             1231,
             934.5952932098767,
             934.5952932098767,
             934.5952932098767,
             934.5952932098767,
             934.5952932098767,
             1063,
             966,
             934.5952932098767,
             934.5952932098767,
             3516,
             934.5952932098767,
             934.5952932098767,
             934.5952932098767,
             934.5952932098767
            ],
            "sizemode": "area",
            "sizeref": 4.6875,
            "symbol": "x"
           },
           "mode": "markers",
           "name": "Dead",
           "showlegend": true,
           "type": "scatter",
           "x": [
            71,
            100,
            136,
            100,
            134.66666666666666,
            115,
            116,
            73,
            96,
            122.25,
            125.21955256821822,
            143,
            112,
            107.83333333333333,
            125.21955256821822,
            102,
            124.6,
            140.22222222222223,
            153,
            123.5,
            145,
            129,
            116.91666666666667,
            132.2,
            163,
            125.21955256821822,
            145,
            110.5,
            140,
            137.5,
            125.21955256821822
           ],
           "xaxis": "x",
           "y": [
            0.3,
            0.1,
            0,
            0,
            0,
            0,
            0,
            0.21428571428571433,
            0,
            0,
            0.6806374843945067,
            0,
            0.43333333333333335,
            0.18,
            0.6806374843945067,
            0,
            0.08,
            0.08888888888888888,
            0,
            0.05,
            0.6,
            0,
            0.3333333333333333,
            0.22000000000000003,
            0,
            0.6806374843945067,
            0.1,
            0.15,
            0.2,
            0.05,
            0.6806374843945067
           ],
           "yaxis": "y"
          }
         ],
         "name": "60"
        },
        {
         "data": [
          {
           "customdata": [
            [
             "Male"
            ],
            [
             "Female"
            ],
            [
             "Female"
            ],
            [
             "Male"
            ],
            [
             "Female"
            ],
            [
             "Female"
            ],
            [
             "Female"
            ],
            [
             "Male"
            ],
            [
             "Male"
            ],
            [
             "Male"
            ],
            [
             "Female"
            ],
            [
             "Male"
            ],
            [
             "Female"
            ],
            [
             "Female"
            ],
            [
             "Female"
            ],
            [
             "Male"
            ],
            [
             "Male"
            ],
            [
             "Male"
            ],
            [
             "Female"
            ],
            [
             "Male"
            ],
            [
             "Female"
            ],
            [
             "Male"
            ],
            [
             "Male"
            ],
            [
             "Male"
            ],
            [
             "Male"
            ],
            [
             "Female"
            ],
            [
             "Male"
            ],
            [
             "Female"
            ],
            [
             "Female"
            ],
            [
             "Female"
            ],
            [
             "Female"
            ]
           ],
           "hoverlabel": {
            "namelength": 0
           },
           "hovertemplate": "outcome=Recovered<br>disc_age=65<br>hemoglobin=%{x}<br>eosinophils(%)=%{y}<br>Interleukin 2 receptor=%{marker.size}<br>gender=%{customdata[0]}",
           "legendgroup": "Recovered",
           "marker": {
            "color": "#636efa",
            "size": [
             671.6666666666666,
             348,
             520,
             934.5952932098767,
             934.5952932098767,
             249,
             1299,
             934.5952932098767,
             934.5952932098767,
             934.5952932098767,
             942,
             934.5952932098767,
             934.5952932098767,
             2121,
             934.5952932098767,
             597.5,
             934.5952932098767,
             336,
             934.5952932098767,
             472,
             934.5952932098767,
             934.5952932098767,
             457,
             746,
             934.5952932098767,
             328.5,
             591,
             892,
             1348,
             934.5952932098767,
             701
            ],
            "sizemode": "area",
            "sizeref": 4.6875,
            "symbol": "square"
           },
           "mode": "markers",
           "name": "Recovered",
           "showlegend": true,
           "type": "scatter",
           "x": [
            127,
            138.5,
            75.475,
            101.5,
            106,
            134,
            125.66666666666667,
            122,
            114.33333333333333,
            118.5,
            129.8,
            131,
            140,
            106.75,
            125.21955256821822,
            134,
            121.66666666666667,
            86.2,
            137,
            117.66666666666667,
            126,
            114,
            122.5,
            97,
            112.5,
            129.75,
            115.66666666666667,
            126,
            127.5,
            122,
            116.5
           ],
           "xaxis": "x",
           "y": [
            0,
            0.15,
            0.5333333333333333,
            1.15,
            2.8499999999999996,
            2,
            2.1666666666666665,
            2.2,
            0.8333333333333334,
            0.375,
            1.26,
            0.9,
            0.25,
            0.175,
            0.6806374843945067,
            0.06666666666666667,
            1.2333333333333334,
            2.45,
            1.8,
            2.9333333333333336,
            0,
            0,
            0.35,
            4.05,
            2.1,
            0.1,
            0.10000000000000002,
            3.2,
            0.65,
            3.7,
            1
           ],
           "yaxis": "y"
          },
          {
           "customdata": [
            [
             "Female"
            ],
            [
             "Female"
            ],
            [
             "Female"
            ],
            [
             "Male"
            ],
            [
             "Female"
            ],
            [
             "Female"
            ],
            [
             "Female"
            ],
            [
             "Female"
            ],
            [
             "Female"
            ],
            [
             "Female"
            ],
            [
             "Male"
            ],
            [
             "Female"
            ],
            [
             "Female"
            ],
            [
             "Female"
            ],
            [
             "Female"
            ],
            [
             "Male"
            ],
            [
             "Female"
            ],
            [
             "Female"
            ],
            [
             "Female"
            ],
            [
             "Female"
            ],
            [
             "Female"
            ],
            [
             "Female"
            ],
            [
             "Female"
            ],
            [
             "Male"
            ],
            [
             "Female"
            ],
            [
             "Female"
            ],
            [
             "Female"
            ],
            [
             "Female"
            ],
            [
             "Female"
            ],
            [
             "Female"
            ],
            [
             "Male"
            ],
            [
             "Female"
            ],
            [
             "Female"
            ]
           ],
           "hoverlabel": {
            "namelength": 0
           },
           "hovertemplate": "outcome=Dead<br>disc_age=65<br>hemoglobin=%{x}<br>eosinophils(%)=%{y}<br>Interleukin 2 receptor=%{marker.size}<br>gender=%{customdata[0]}",
           "legendgroup": "Dead",
           "marker": {
            "color": "#636efa",
            "size": [
             934.5952932098767,
             934.5952932098767,
             934.5952932098767,
             667,
             537,
             306,
             934.5952932098767,
             934.5952932098767,
             1603,
             934.5952932098767,
             393,
             1177,
             1648,
             1480,
             934.5952932098767,
             934.5952932098767,
             934.5952932098767,
             1524,
             934.5952932098767,
             609,
             1087,
             934.5952932098767,
             934.5952932098767,
             1258,
             2182,
             934.5952932098767,
             1931,
             568,
             934.5952932098767,
             1538,
             934.5952932098767,
             941,
             934.5952932098767
            ],
            "sizemode": "area",
            "sizeref": 4.6875,
            "symbol": "x"
           },
           "mode": "markers",
           "name": "Dead",
           "showlegend": true,
           "type": "scatter",
           "x": [
            146,
            138.6,
            155.5,
            114,
            149,
            97.1,
            167,
            158,
            117,
            146,
            99,
            142,
            129,
            115.11111111111111,
            178,
            95,
            124,
            163,
            101,
            123,
            123.8,
            126,
            125.21955256821822,
            143,
            133.5,
            109,
            104.5,
            118,
            123,
            124.33333333333333,
            125.25,
            126.5,
            124
           ],
           "xaxis": "x",
           "y": [
            0,
            0,
            0,
            0,
            3.7,
            0,
            0,
            0,
            0.016666666666666666,
            0,
            0,
            0,
            0,
            0.14444444444444446,
            0,
            0.025,
            0,
            0,
            0,
            0,
            0.1,
            0,
            0.6806374843945067,
            0.05,
            0,
            0.2,
            0.9500000000000001,
            0,
            0,
            0,
            0.375,
            0,
            0.09999999999999999
           ],
           "yaxis": "y"
          }
         ],
         "name": "65"
        },
        {
         "data": [
          {
           "customdata": [
            [
             "Male"
            ],
            [
             "Female"
            ],
            [
             "Female"
            ],
            [
             "Male"
            ],
            [
             "Female"
            ],
            [
             "Female"
            ]
           ],
           "hoverlabel": {
            "namelength": 0
           },
           "hovertemplate": "outcome=Recovered<br>disc_age=70<br>hemoglobin=%{x}<br>eosinophils(%)=%{y}<br>Interleukin 2 receptor=%{marker.size}<br>gender=%{customdata[0]}",
           "legendgroup": "Recovered",
           "marker": {
            "color": "#636efa",
            "size": [
             934.5952932098767,
             934.5952932098767,
             934.5952932098767,
             2774,
             285,
             934.5952932098767
            ],
            "sizemode": "area",
            "sizeref": 4.6875,
            "symbol": "square"
           },
           "mode": "markers",
           "name": "Recovered",
           "showlegend": true,
           "type": "scatter",
           "x": [
            102,
            133.2,
            98,
            125,
            123.75,
            141
           ],
           "xaxis": "x",
           "y": [
            1.55,
            0.78,
            2.1,
            0,
            2,
            1.7
           ],
           "yaxis": "y"
          },
          {
           "customdata": [
            [
             "Male"
            ],
            [
             "Female"
            ],
            [
             "Female"
            ],
            [
             "Male"
            ],
            [
             "Female"
            ],
            [
             "Male"
            ],
            [
             "Female"
            ],
            [
             "Male"
            ],
            [
             "Male"
            ],
            [
             "Female"
            ],
            [
             "Female"
            ],
            [
             "Male"
            ],
            [
             "Male"
            ],
            [
             "Female"
            ],
            [
             "Female"
            ],
            [
             "Female"
            ],
            [
             "Male"
            ],
            [
             "Female"
            ],
            [
             "Female"
            ],
            [
             "Female"
            ],
            [
             "Female"
            ],
            [
             "Female"
            ],
            [
             "Male"
            ],
            [
             "Female"
            ],
            [
             "Female"
            ],
            [
             "Female"
            ]
           ],
           "hoverlabel": {
            "namelength": 0
           },
           "hovertemplate": "outcome=Dead<br>disc_age=70<br>hemoglobin=%{x}<br>eosinophils(%)=%{y}<br>Interleukin 2 receptor=%{marker.size}<br>gender=%{customdata[0]}",
           "legendgroup": "Dead",
           "marker": {
            "color": "#636efa",
            "size": [
             901,
             934.5952932098767,
             2709,
             934.5952932098767,
             1049,
             934.5952932098767,
             934.5952932098767,
             1881,
             1006,
             934.5952932098767,
             1853.5,
             968,
             934.5952932098767,
             3638,
             934.5952932098767,
             934.5952932098767,
             934.5952932098767,
             934.5952932098767,
             1247,
             934.5952932098767,
             934.5952932098767,
             934.5952932098767,
             558,
             1845,
             1333.5,
             1341
            ],
            "sizemode": "area",
            "sizeref": 4.6875,
            "symbol": "x"
           },
           "mode": "markers",
           "name": "Dead",
           "showlegend": true,
           "type": "scatter",
           "x": [
            127,
            140.5,
            102.28571428571429,
            108,
            118.9,
            112,
            93,
            137.2,
            101.75,
            143,
            123.83333333333333,
            112,
            114,
            162,
            146,
            148,
            136,
            166,
            148,
            149,
            157.25,
            137.57142857142858,
            122.5,
            125,
            137.4,
            126
           ],
           "xaxis": "x",
           "y": [
            0,
            0.05,
            0.014285714285714287,
            0.03333333333333333,
            0.38,
            0,
            0,
            0.04,
            0,
            0,
            0.18333333333333335,
            0.6,
            0,
            0,
            0,
            0.6,
            0.1,
            0,
            0.39999999999999997,
            0,
            0.11249999999999999,
            0.6285714285714284,
            0,
            0.9666666666666667,
            0.3,
            0
           ],
           "yaxis": "y"
          }
         ],
         "name": "70"
        },
        {
         "data": [
          {
           "customdata": [
            [
             "Female"
            ]
           ],
           "hoverlabel": {
            "namelength": 0
           },
           "hovertemplate": "outcome=Recovered<br>disc_age=75<br>hemoglobin=%{x}<br>eosinophils(%)=%{y}<br>Interleukin 2 receptor=%{marker.size}<br>gender=%{customdata[0]}",
           "legendgroup": "Recovered",
           "marker": {
            "color": "#636efa",
            "size": [
             1341.2
            ],
            "sizemode": "area",
            "sizeref": 4.6875,
            "symbol": "square"
           },
           "mode": "markers",
           "name": "Recovered",
           "showlegend": true,
           "type": "scatter",
           "x": [
            130.83333333333334
           ],
           "xaxis": "x",
           "y": [
            0.13333333333333333
           ],
           "yaxis": "y"
          },
          {
           "customdata": [
            [
             "Female"
            ],
            [
             "Male"
            ],
            [
             "Female"
            ],
            [
             "Male"
            ],
            [
             "Male"
            ],
            [
             "Male"
            ],
            [
             "Female"
            ],
            [
             "Male"
            ],
            [
             "Female"
            ],
            [
             "Male"
            ],
            [
             "Male"
            ],
            [
             "Female"
            ],
            [
             "Female"
            ],
            [
             "Female"
            ],
            [
             "Female"
            ],
            [
             "Female"
            ],
            [
             "Female"
            ],
            [
             "Female"
            ],
            [
             "Male"
            ],
            [
             "Male"
            ],
            [
             "Female"
            ],
            [
             "Female"
            ],
            [
             "Male"
            ]
           ],
           "hoverlabel": {
            "namelength": 0
           },
           "hovertemplate": "outcome=Dead<br>disc_age=75<br>hemoglobin=%{x}<br>eosinophils(%)=%{y}<br>Interleukin 2 receptor=%{marker.size}<br>gender=%{customdata[0]}",
           "legendgroup": "Dead",
           "marker": {
            "color": "#636efa",
            "size": [
             934.5952932098767,
             1054,
             934.5952932098767,
             1124,
             934.5952932098767,
             1149,
             807,
             934.5952932098767,
             1643,
             635,
             934.5952932098767,
             4201,
             934.5952932098767,
             2023,
             1774,
             934.5952932098767,
             1833,
             934.5952932098767,
             934.5952932098767,
             1180,
             470.5,
             934.5952932098767,
             934.5952932098767
            ],
            "sizemode": "area",
            "sizeref": 4.6875,
            "symbol": "x"
           },
           "mode": "markers",
           "name": "Dead",
           "showlegend": true,
           "type": "scatter",
           "x": [
            126,
            128.4,
            137,
            107.66666666666667,
            120,
            123.5,
            88,
            125.21955256821822,
            147.5,
            114.16666666666667,
            108,
            145.5,
            160.33333333333334,
            164,
            98,
            141,
            118.7,
            93,
            133.66666666666666,
            113.5,
            109,
            84.5,
            125.21955256821822
           ],
           "xaxis": "x",
           "y": [
            0.2,
            0.42000000000000004,
            0,
            0.03333333333333333,
            0,
            0.45,
            0,
            0.6806374843945067,
            0,
            0.06666666666666667,
            0.075,
            0.025,
            0.13333333333333333,
            0.2,
            0.2,
            0.03333333333333333,
            0.24000000000000005,
            0,
            0,
            0.05,
            0.19999999999999998,
            0,
            0.6806374843945067
           ],
           "yaxis": "y"
          }
         ],
         "name": "75"
        },
        {
         "data": [
          {
           "customdata": [
            [
             "Female"
            ],
            [
             "Male"
            ],
            [
             "Female"
            ]
           ],
           "hoverlabel": {
            "namelength": 0
           },
           "hovertemplate": "outcome=Recovered<br>disc_age=80<br>hemoglobin=%{x}<br>eosinophils(%)=%{y}<br>Interleukin 2 receptor=%{marker.size}<br>gender=%{customdata[0]}",
           "legendgroup": "Recovered",
           "marker": {
            "color": "#636efa",
            "size": [
             322,
             934.5952932098767,
             934.5952932098767
            ],
            "sizemode": "area",
            "sizeref": 4.6875,
            "symbol": "square"
           },
           "mode": "markers",
           "name": "Recovered",
           "showlegend": true,
           "type": "scatter",
           "x": [
            89.78,
            70.2,
            124
           ],
           "xaxis": "x",
           "y": [
            2.8,
            1.5499999999999998,
            1.6
           ],
           "yaxis": "y"
          },
          {
           "customdata": [
            [
             "Male"
            ],
            [
             "Female"
            ],
            [
             "Male"
            ],
            [
             "Male"
            ],
            [
             "Male"
            ],
            [
             "Female"
            ],
            [
             "Female"
            ],
            [
             "Male"
            ],
            [
             "Female"
            ],
            [
             "Female"
            ],
            [
             "Female"
            ],
            [
             "Female"
            ],
            [
             "Female"
            ],
            [
             "Female"
            ],
            [
             "Female"
            ]
           ],
           "hoverlabel": {
            "namelength": 0
           },
           "hovertemplate": "outcome=Dead<br>disc_age=80<br>hemoglobin=%{x}<br>eosinophils(%)=%{y}<br>Interleukin 2 receptor=%{marker.size}<br>gender=%{customdata[0]}",
           "legendgroup": "Dead",
           "marker": {
            "color": "#636efa",
            "size": [
             934.5952932098767,
             934.5952932098767,
             1455,
             3382,
             934.5952932098767,
             599,
             1807,
             1113.5,
             934.5952932098767,
             1179,
             1171,
             934.5952932098767,
             1189,
             934.5952932098767,
             1681
            ],
            "sizemode": "area",
            "sizeref": 4.6875,
            "symbol": "x"
           },
           "mode": "markers",
           "name": "Dead",
           "showlegend": true,
           "type": "scatter",
           "x": [
            125.21955256821822,
            141.5,
            119.66666666666667,
            123.2,
            147,
            165,
            115,
            115,
            116,
            98.6,
            129,
            124.66666666666667,
            125.21955256821822,
            154.5,
            128
           ],
           "xaxis": "x",
           "y": [
            0.6806374843945067,
            0,
            0.03333333333333333,
            0,
            0,
            0.05,
            0,
            0.03333333333333333,
            0,
            0.1,
            0,
            0.044444444444444446,
            0.6806374843945067,
            0.35,
            0
           ],
           "yaxis": "y"
          }
         ],
         "name": "80"
        },
        {
         "data": [
          {
           "customdata": [
            [
             "Male"
            ]
           ],
           "hoverlabel": {
            "namelength": 0
           },
           "hovertemplate": "outcome=Recovered<br>disc_age=85<br>hemoglobin=%{x}<br>eosinophils(%)=%{y}<br>Interleukin 2 receptor=%{marker.size}<br>gender=%{customdata[0]}",
           "legendgroup": "Recovered",
           "marker": {
            "color": "#636efa",
            "size": [
             204
            ],
            "sizemode": "area",
            "sizeref": 4.6875,
            "symbol": "square"
           },
           "mode": "markers",
           "name": "Recovered",
           "showlegend": true,
           "type": "scatter",
           "x": [
            110
           ],
           "xaxis": "x",
           "y": [
            0.4
           ],
           "yaxis": "y"
          },
          {
           "customdata": [
            [
             "Female"
            ],
            [
             "Male"
            ],
            [
             "Female"
            ],
            [
             "Female"
            ],
            [
             "Male"
            ],
            [
             "Male"
            ],
            [
             "Female"
            ],
            [
             "Female"
            ]
           ],
           "hoverlabel": {
            "namelength": 0
           },
           "hovertemplate": "outcome=Dead<br>disc_age=85<br>hemoglobin=%{x}<br>eosinophils(%)=%{y}<br>Interleukin 2 receptor=%{marker.size}<br>gender=%{customdata[0]}",
           "legendgroup": "Dead",
           "marker": {
            "color": "#636efa",
            "size": [
             1288,
             902,
             682,
             934.5952932098767,
             870,
             2665,
             934.5952932098767,
             934.5952932098767
            ],
            "sizemode": "area",
            "sizeref": 4.6875,
            "symbol": "x"
           },
           "mode": "markers",
           "name": "Dead",
           "showlegend": true,
           "type": "scatter",
           "x": [
            132.2,
            130,
            156,
            103,
            97,
            130.33333333333334,
            156,
            110.25
           ],
           "xaxis": "x",
           "y": [
            0.02,
            0,
            0.07500000000000001,
            0,
            0,
            0.06666666666666667,
            0,
            0.1
           ],
           "yaxis": "y"
          }
         ],
         "name": "85"
        },
        {
         "data": [
          {
           "customdata": [
            [
             "Female"
            ],
            [
             "Female"
            ],
            [
             "Male"
            ],
            [
             "Female"
            ]
           ],
           "hoverlabel": {
            "namelength": 0
           },
           "hovertemplate": "outcome=Dead<br>disc_age=90<br>hemoglobin=%{x}<br>eosinophils(%)=%{y}<br>Interleukin 2 receptor=%{marker.size}<br>gender=%{customdata[0]}",
           "legendgroup": "Dead",
           "marker": {
            "color": "#636efa",
            "size": [
             1190,
             513,
             934.5952932098767,
             2161
            ],
            "sizemode": "area",
            "sizeref": 4.6875,
            "symbol": "x"
           },
           "mode": "markers",
           "name": "Dead",
           "showlegend": true,
           "type": "scatter",
           "x": [
            104.5,
            119.75,
            121.5,
            108
           ],
           "xaxis": "x",
           "y": [
            0,
            0,
            0,
            1.6
           ],
           "yaxis": "y"
          }
         ],
         "name": "90"
        }
       ],
       "layout": {
        "legend": {
         "itemsizing": "constant",
         "title": {
          "text": "    Outcome:"
         },
         "tracegroupgap": 0
        },
        "plot_bgcolor": "rgba(224, 236, 244, 0.3)",
        "sliders": [
         {
          "active": 0,
          "currentvalue": {
           "prefix": "disc_age="
          },
          "len": 0.9,
          "pad": {
           "b": 10,
           "t": 60
          },
          "steps": [
           {
            "args": [
             [
              "15"
             ],
             {
              "frame": {
               "duration": 0,
               "redraw": false
              },
              "fromcurrent": true,
              "mode": "immediate",
              "transition": {
               "duration": 0,
               "easing": "linear"
              }
             }
            ],
            "label": "15",
            "method": "animate"
           },
           {
            "args": [
             [
              "20"
             ],
             {
              "frame": {
               "duration": 0,
               "redraw": false
              },
              "fromcurrent": true,
              "mode": "immediate",
              "transition": {
               "duration": 0,
               "easing": "linear"
              }
             }
            ],
            "label": "20",
            "method": "animate"
           },
           {
            "args": [
             [
              "25"
             ],
             {
              "frame": {
               "duration": 0,
               "redraw": false
              },
              "fromcurrent": true,
              "mode": "immediate",
              "transition": {
               "duration": 0,
               "easing": "linear"
              }
             }
            ],
            "label": "25",
            "method": "animate"
           },
           {
            "args": [
             [
              "30"
             ],
             {
              "frame": {
               "duration": 0,
               "redraw": false
              },
              "fromcurrent": true,
              "mode": "immediate",
              "transition": {
               "duration": 0,
               "easing": "linear"
              }
             }
            ],
            "label": "30",
            "method": "animate"
           },
           {
            "args": [
             [
              "35"
             ],
             {
              "frame": {
               "duration": 0,
               "redraw": false
              },
              "fromcurrent": true,
              "mode": "immediate",
              "transition": {
               "duration": 0,
               "easing": "linear"
              }
             }
            ],
            "label": "35",
            "method": "animate"
           },
           {
            "args": [
             [
              "40"
             ],
             {
              "frame": {
               "duration": 0,
               "redraw": false
              },
              "fromcurrent": true,
              "mode": "immediate",
              "transition": {
               "duration": 0,
               "easing": "linear"
              }
             }
            ],
            "label": "40",
            "method": "animate"
           },
           {
            "args": [
             [
              "45"
             ],
             {
              "frame": {
               "duration": 0,
               "redraw": false
              },
              "fromcurrent": true,
              "mode": "immediate",
              "transition": {
               "duration": 0,
               "easing": "linear"
              }
             }
            ],
            "label": "45",
            "method": "animate"
           },
           {
            "args": [
             [
              "50"
             ],
             {
              "frame": {
               "duration": 0,
               "redraw": false
              },
              "fromcurrent": true,
              "mode": "immediate",
              "transition": {
               "duration": 0,
               "easing": "linear"
              }
             }
            ],
            "label": "50",
            "method": "animate"
           },
           {
            "args": [
             [
              "55"
             ],
             {
              "frame": {
               "duration": 0,
               "redraw": false
              },
              "fromcurrent": true,
              "mode": "immediate",
              "transition": {
               "duration": 0,
               "easing": "linear"
              }
             }
            ],
            "label": "55",
            "method": "animate"
           },
           {
            "args": [
             [
              "60"
             ],
             {
              "frame": {
               "duration": 0,
               "redraw": false
              },
              "fromcurrent": true,
              "mode": "immediate",
              "transition": {
               "duration": 0,
               "easing": "linear"
              }
             }
            ],
            "label": "60",
            "method": "animate"
           },
           {
            "args": [
             [
              "65"
             ],
             {
              "frame": {
               "duration": 0,
               "redraw": false
              },
              "fromcurrent": true,
              "mode": "immediate",
              "transition": {
               "duration": 0,
               "easing": "linear"
              }
             }
            ],
            "label": "65",
            "method": "animate"
           },
           {
            "args": [
             [
              "70"
             ],
             {
              "frame": {
               "duration": 0,
               "redraw": false
              },
              "fromcurrent": true,
              "mode": "immediate",
              "transition": {
               "duration": 0,
               "easing": "linear"
              }
             }
            ],
            "label": "70",
            "method": "animate"
           },
           {
            "args": [
             [
              "75"
             ],
             {
              "frame": {
               "duration": 0,
               "redraw": false
              },
              "fromcurrent": true,
              "mode": "immediate",
              "transition": {
               "duration": 0,
               "easing": "linear"
              }
             }
            ],
            "label": "75",
            "method": "animate"
           },
           {
            "args": [
             [
              "80"
             ],
             {
              "frame": {
               "duration": 0,
               "redraw": false
              },
              "fromcurrent": true,
              "mode": "immediate",
              "transition": {
               "duration": 0,
               "easing": "linear"
              }
             }
            ],
            "label": "80",
            "method": "animate"
           },
           {
            "args": [
             [
              "85"
             ],
             {
              "frame": {
               "duration": 0,
               "redraw": false
              },
              "fromcurrent": true,
              "mode": "immediate",
              "transition": {
               "duration": 0,
               "easing": "linear"
              }
             }
            ],
            "label": "85",
            "method": "animate"
           },
           {
            "args": [
             [
              "90"
             ],
             {
              "frame": {
               "duration": 0,
               "redraw": false
              },
              "fromcurrent": true,
              "mode": "immediate",
              "transition": {
               "duration": 0,
               "easing": "linear"
              }
             }
            ],
            "label": "90",
            "method": "animate"
           }
          ],
          "x": 0.1,
          "xanchor": "left",
          "y": 0,
          "yanchor": "top"
         }
        ],
        "template": {
         "data": {
          "bar": [
           {
            "error_x": {
             "color": "#2a3f5f"
            },
            "error_y": {
             "color": "#2a3f5f"
            },
            "marker": {
             "line": {
              "color": "#E5ECF6",
              "width": 0.5
             }
            },
            "type": "bar"
           }
          ],
          "barpolar": [
           {
            "marker": {
             "line": {
              "color": "#E5ECF6",
              "width": 0.5
             }
            },
            "type": "barpolar"
           }
          ],
          "carpet": [
           {
            "aaxis": {
             "endlinecolor": "#2a3f5f",
             "gridcolor": "white",
             "linecolor": "white",
             "minorgridcolor": "white",
             "startlinecolor": "#2a3f5f"
            },
            "baxis": {
             "endlinecolor": "#2a3f5f",
             "gridcolor": "white",
             "linecolor": "white",
             "minorgridcolor": "white",
             "startlinecolor": "#2a3f5f"
            },
            "type": "carpet"
           }
          ],
          "choropleth": [
           {
            "colorbar": {
             "outlinewidth": 0,
             "ticks": ""
            },
            "type": "choropleth"
           }
          ],
          "contour": [
           {
            "colorbar": {
             "outlinewidth": 0,
             "ticks": ""
            },
            "colorscale": [
             [
              0,
              "#0d0887"
             ],
             [
              0.1111111111111111,
              "#46039f"
             ],
             [
              0.2222222222222222,
              "#7201a8"
             ],
             [
              0.3333333333333333,
              "#9c179e"
             ],
             [
              0.4444444444444444,
              "#bd3786"
             ],
             [
              0.5555555555555556,
              "#d8576b"
             ],
             [
              0.6666666666666666,
              "#ed7953"
             ],
             [
              0.7777777777777778,
              "#fb9f3a"
             ],
             [
              0.8888888888888888,
              "#fdca26"
             ],
             [
              1,
              "#f0f921"
             ]
            ],
            "type": "contour"
           }
          ],
          "contourcarpet": [
           {
            "colorbar": {
             "outlinewidth": 0,
             "ticks": ""
            },
            "type": "contourcarpet"
           }
          ],
          "heatmap": [
           {
            "colorbar": {
             "outlinewidth": 0,
             "ticks": ""
            },
            "colorscale": [
             [
              0,
              "#0d0887"
             ],
             [
              0.1111111111111111,
              "#46039f"
             ],
             [
              0.2222222222222222,
              "#7201a8"
             ],
             [
              0.3333333333333333,
              "#9c179e"
             ],
             [
              0.4444444444444444,
              "#bd3786"
             ],
             [
              0.5555555555555556,
              "#d8576b"
             ],
             [
              0.6666666666666666,
              "#ed7953"
             ],
             [
              0.7777777777777778,
              "#fb9f3a"
             ],
             [
              0.8888888888888888,
              "#fdca26"
             ],
             [
              1,
              "#f0f921"
             ]
            ],
            "type": "heatmap"
           }
          ],
          "heatmapgl": [
           {
            "colorbar": {
             "outlinewidth": 0,
             "ticks": ""
            },
            "colorscale": [
             [
              0,
              "#0d0887"
             ],
             [
              0.1111111111111111,
              "#46039f"
             ],
             [
              0.2222222222222222,
              "#7201a8"
             ],
             [
              0.3333333333333333,
              "#9c179e"
             ],
             [
              0.4444444444444444,
              "#bd3786"
             ],
             [
              0.5555555555555556,
              "#d8576b"
             ],
             [
              0.6666666666666666,
              "#ed7953"
             ],
             [
              0.7777777777777778,
              "#fb9f3a"
             ],
             [
              0.8888888888888888,
              "#fdca26"
             ],
             [
              1,
              "#f0f921"
             ]
            ],
            "type": "heatmapgl"
           }
          ],
          "histogram": [
           {
            "marker": {
             "colorbar": {
              "outlinewidth": 0,
              "ticks": ""
             }
            },
            "type": "histogram"
           }
          ],
          "histogram2d": [
           {
            "colorbar": {
             "outlinewidth": 0,
             "ticks": ""
            },
            "colorscale": [
             [
              0,
              "#0d0887"
             ],
             [
              0.1111111111111111,
              "#46039f"
             ],
             [
              0.2222222222222222,
              "#7201a8"
             ],
             [
              0.3333333333333333,
              "#9c179e"
             ],
             [
              0.4444444444444444,
              "#bd3786"
             ],
             [
              0.5555555555555556,
              "#d8576b"
             ],
             [
              0.6666666666666666,
              "#ed7953"
             ],
             [
              0.7777777777777778,
              "#fb9f3a"
             ],
             [
              0.8888888888888888,
              "#fdca26"
             ],
             [
              1,
              "#f0f921"
             ]
            ],
            "type": "histogram2d"
           }
          ],
          "histogram2dcontour": [
           {
            "colorbar": {
             "outlinewidth": 0,
             "ticks": ""
            },
            "colorscale": [
             [
              0,
              "#0d0887"
             ],
             [
              0.1111111111111111,
              "#46039f"
             ],
             [
              0.2222222222222222,
              "#7201a8"
             ],
             [
              0.3333333333333333,
              "#9c179e"
             ],
             [
              0.4444444444444444,
              "#bd3786"
             ],
             [
              0.5555555555555556,
              "#d8576b"
             ],
             [
              0.6666666666666666,
              "#ed7953"
             ],
             [
              0.7777777777777778,
              "#fb9f3a"
             ],
             [
              0.8888888888888888,
              "#fdca26"
             ],
             [
              1,
              "#f0f921"
             ]
            ],
            "type": "histogram2dcontour"
           }
          ],
          "mesh3d": [
           {
            "colorbar": {
             "outlinewidth": 0,
             "ticks": ""
            },
            "type": "mesh3d"
           }
          ],
          "parcoords": [
           {
            "line": {
             "colorbar": {
              "outlinewidth": 0,
              "ticks": ""
             }
            },
            "type": "parcoords"
           }
          ],
          "pie": [
           {
            "automargin": true,
            "type": "pie"
           }
          ],
          "scatter": [
           {
            "marker": {
             "colorbar": {
              "outlinewidth": 0,
              "ticks": ""
             }
            },
            "type": "scatter"
           }
          ],
          "scatter3d": [
           {
            "line": {
             "colorbar": {
              "outlinewidth": 0,
              "ticks": ""
             }
            },
            "marker": {
             "colorbar": {
              "outlinewidth": 0,
              "ticks": ""
             }
            },
            "type": "scatter3d"
           }
          ],
          "scattercarpet": [
           {
            "marker": {
             "colorbar": {
              "outlinewidth": 0,
              "ticks": ""
             }
            },
            "type": "scattercarpet"
           }
          ],
          "scattergeo": [
           {
            "marker": {
             "colorbar": {
              "outlinewidth": 0,
              "ticks": ""
             }
            },
            "type": "scattergeo"
           }
          ],
          "scattergl": [
           {
            "marker": {
             "colorbar": {
              "outlinewidth": 0,
              "ticks": ""
             }
            },
            "type": "scattergl"
           }
          ],
          "scattermapbox": [
           {
            "marker": {
             "colorbar": {
              "outlinewidth": 0,
              "ticks": ""
             }
            },
            "type": "scattermapbox"
           }
          ],
          "scatterpolar": [
           {
            "marker": {
             "colorbar": {
              "outlinewidth": 0,
              "ticks": ""
             }
            },
            "type": "scatterpolar"
           }
          ],
          "scatterpolargl": [
           {
            "marker": {
             "colorbar": {
              "outlinewidth": 0,
              "ticks": ""
             }
            },
            "type": "scatterpolargl"
           }
          ],
          "scatterternary": [
           {
            "marker": {
             "colorbar": {
              "outlinewidth": 0,
              "ticks": ""
             }
            },
            "type": "scatterternary"
           }
          ],
          "surface": [
           {
            "colorbar": {
             "outlinewidth": 0,
             "ticks": ""
            },
            "colorscale": [
             [
              0,
              "#0d0887"
             ],
             [
              0.1111111111111111,
              "#46039f"
             ],
             [
              0.2222222222222222,
              "#7201a8"
             ],
             [
              0.3333333333333333,
              "#9c179e"
             ],
             [
              0.4444444444444444,
              "#bd3786"
             ],
             [
              0.5555555555555556,
              "#d8576b"
             ],
             [
              0.6666666666666666,
              "#ed7953"
             ],
             [
              0.7777777777777778,
              "#fb9f3a"
             ],
             [
              0.8888888888888888,
              "#fdca26"
             ],
             [
              1,
              "#f0f921"
             ]
            ],
            "type": "surface"
           }
          ],
          "table": [
           {
            "cells": {
             "fill": {
              "color": "#EBF0F8"
             },
             "line": {
              "color": "white"
             }
            },
            "header": {
             "fill": {
              "color": "#C8D4E3"
             },
             "line": {
              "color": "white"
             }
            },
            "type": "table"
           }
          ]
         },
         "layout": {
          "annotationdefaults": {
           "arrowcolor": "#2a3f5f",
           "arrowhead": 0,
           "arrowwidth": 1
          },
          "coloraxis": {
           "colorbar": {
            "outlinewidth": 0,
            "ticks": ""
           }
          },
          "colorscale": {
           "diverging": [
            [
             0,
             "#8e0152"
            ],
            [
             0.1,
             "#c51b7d"
            ],
            [
             0.2,
             "#de77ae"
            ],
            [
             0.3,
             "#f1b6da"
            ],
            [
             0.4,
             "#fde0ef"
            ],
            [
             0.5,
             "#f7f7f7"
            ],
            [
             0.6,
             "#e6f5d0"
            ],
            [
             0.7,
             "#b8e186"
            ],
            [
             0.8,
             "#7fbc41"
            ],
            [
             0.9,
             "#4d9221"
            ],
            [
             1,
             "#276419"
            ]
           ],
           "sequential": [
            [
             0,
             "#0d0887"
            ],
            [
             0.1111111111111111,
             "#46039f"
            ],
            [
             0.2222222222222222,
             "#7201a8"
            ],
            [
             0.3333333333333333,
             "#9c179e"
            ],
            [
             0.4444444444444444,
             "#bd3786"
            ],
            [
             0.5555555555555556,
             "#d8576b"
            ],
            [
             0.6666666666666666,
             "#ed7953"
            ],
            [
             0.7777777777777778,
             "#fb9f3a"
            ],
            [
             0.8888888888888888,
             "#fdca26"
            ],
            [
             1,
             "#f0f921"
            ]
           ],
           "sequentialminus": [
            [
             0,
             "#0d0887"
            ],
            [
             0.1111111111111111,
             "#46039f"
            ],
            [
             0.2222222222222222,
             "#7201a8"
            ],
            [
             0.3333333333333333,
             "#9c179e"
            ],
            [
             0.4444444444444444,
             "#bd3786"
            ],
            [
             0.5555555555555556,
             "#d8576b"
            ],
            [
             0.6666666666666666,
             "#ed7953"
            ],
            [
             0.7777777777777778,
             "#fb9f3a"
            ],
            [
             0.8888888888888888,
             "#fdca26"
            ],
            [
             1,
             "#f0f921"
            ]
           ]
          },
          "colorway": [
           "#636efa",
           "#EF553B",
           "#00cc96",
           "#ab63fa",
           "#FFA15A",
           "#19d3f3",
           "#FF6692",
           "#B6E880",
           "#FF97FF",
           "#FECB52"
          ],
          "font": {
           "color": "#2a3f5f"
          },
          "geo": {
           "bgcolor": "white",
           "lakecolor": "white",
           "landcolor": "#E5ECF6",
           "showlakes": true,
           "showland": true,
           "subunitcolor": "white"
          },
          "hoverlabel": {
           "align": "left"
          },
          "hovermode": "closest",
          "mapbox": {
           "style": "light"
          },
          "paper_bgcolor": "white",
          "plot_bgcolor": "#E5ECF6",
          "polar": {
           "angularaxis": {
            "gridcolor": "white",
            "linecolor": "white",
            "ticks": ""
           },
           "bgcolor": "#E5ECF6",
           "radialaxis": {
            "gridcolor": "white",
            "linecolor": "white",
            "ticks": ""
           }
          },
          "scene": {
           "xaxis": {
            "backgroundcolor": "#E5ECF6",
            "gridcolor": "white",
            "gridwidth": 2,
            "linecolor": "white",
            "showbackground": true,
            "ticks": "",
            "zerolinecolor": "white"
           },
           "yaxis": {
            "backgroundcolor": "#E5ECF6",
            "gridcolor": "white",
            "gridwidth": 2,
            "linecolor": "white",
            "showbackground": true,
            "ticks": "",
            "zerolinecolor": "white"
           },
           "zaxis": {
            "backgroundcolor": "#E5ECF6",
            "gridcolor": "white",
            "gridwidth": 2,
            "linecolor": "white",
            "showbackground": true,
            "ticks": "",
            "zerolinecolor": "white"
           }
          },
          "shapedefaults": {
           "line": {
            "color": "#2a3f5f"
           }
          },
          "ternary": {
           "aaxis": {
            "gridcolor": "white",
            "linecolor": "white",
            "ticks": ""
           },
           "baxis": {
            "gridcolor": "white",
            "linecolor": "white",
            "ticks": ""
           },
           "bgcolor": "#E5ECF6",
           "caxis": {
            "gridcolor": "white",
            "linecolor": "white",
            "ticks": ""
           }
          },
          "title": {
           "x": 0.05
          },
          "xaxis": {
           "automargin": true,
           "gridcolor": "white",
           "linecolor": "white",
           "ticks": "",
           "title": {
            "standoff": 15
           },
           "zerolinecolor": "white",
           "zerolinewidth": 2
          },
          "yaxis": {
           "automargin": true,
           "gridcolor": "white",
           "linecolor": "white",
           "ticks": "",
           "title": {
            "standoff": 15
           },
           "zerolinecolor": "white",
           "zerolinewidth": 2
          }
         }
        },
        "title": {
         "text": "title"
        },
        "updatemenus": [
         {
          "buttons": [
           {
            "args": [
             null,
             {
              "frame": {
               "duration": 500,
               "redraw": false
              },
              "fromcurrent": true,
              "mode": "immediate",
              "transition": {
               "duration": 500,
               "easing": "linear"
              }
             }
            ],
            "label": "&#9654;",
            "method": "animate"
           },
           {
            "args": [
             [
              null
             ],
             {
              "frame": {
               "duration": 0,
               "redraw": false
              },
              "fromcurrent": true,
              "mode": "immediate",
              "transition": {
               "duration": 0,
               "easing": "linear"
              }
             }
            ],
            "label": "&#9724;",
            "method": "animate"
           }
          ],
          "direction": "left",
          "pad": {
           "r": 10,
           "t": 70
          },
          "showactive": false,
          "type": "buttons",
          "x": 0.1,
          "xanchor": "right",
          "y": 0,
          "yanchor": "top"
         }
        ],
        "xaxis": {
         "anchor": "y",
         "domain": [
          0,
          1
         ],
         "linecolor": "black",
         "linewidth": 2,
         "mirror": true,
         "range": [
          60,
          180
         ],
         "showline": true,
         "title": {
          "text": "hemoglobin"
         }
        },
        "yaxis": {
         "anchor": "x",
         "domain": [
          0,
          1
         ],
         "linecolor": "black",
         "linewidth": 2,
         "mirror": true,
         "range": [
          -1,
          6
         ],
         "showline": true,
         "title": {
          "text": "eosinophils(%)"
         }
        }
       }
      },
      "text/html": [
       "<div>\n",
       "        \n",
       "        \n",
       "            <div id=\"b500f35e-f02a-4990-8857-f621da62f3f4\" class=\"plotly-graph-div\" style=\"height:525px; width:100%;\"></div>\n",
       "            <script type=\"text/javascript\">\n",
       "                require([\"plotly\"], function(Plotly) {\n",
       "                    window.PLOTLYENV=window.PLOTLYENV || {};\n",
       "                    \n",
       "                if (document.getElementById(\"b500f35e-f02a-4990-8857-f621da62f3f4\")) {\n",
       "                    Plotly.newPlot(\n",
       "                        'b500f35e-f02a-4990-8857-f621da62f3f4',\n",
       "                        [{\"customdata\": [[\"Male\"]], \"hoverlabel\": {\"namelength\": 0}, \"hovertemplate\": \"outcome=Recovered<br>disc_age=15<br>hemoglobin=%{x}<br>eosinophils(%)=%{y}<br>Interleukin 2 receptor=%{marker.size}<br>gender=%{customdata[0]}\", \"legendgroup\": \"Recovered\", \"marker\": {\"color\": \"#636efa\", \"size\": [934.5952932098767], \"sizemode\": \"area\", \"sizeref\": 4.6875, \"symbol\": \"square\"}, \"mode\": \"markers\", \"name\": \"Recovered\", \"showlegend\": true, \"type\": \"scatter\", \"x\": [127.0], \"xaxis\": \"x\", \"y\": [0.5666666666666667], \"yaxis\": \"y\"}, {\"customdata\": [[\"Female\"]], \"hoverlabel\": {\"namelength\": 0}, \"hovertemplate\": \"outcome=Dead<br>disc_age=15<br>hemoglobin=%{x}<br>eosinophils(%)=%{y}<br>Interleukin 2 receptor=%{marker.size}<br>gender=%{customdata[0]}\", \"legendgroup\": \"Dead\", \"marker\": {\"color\": \"#636efa\", \"size\": [934.5952932098767], \"sizemode\": \"area\", \"sizeref\": 4.6875, \"symbol\": \"x\"}, \"mode\": \"markers\", \"name\": \"Dead\", \"showlegend\": true, \"type\": \"scatter\", \"x\": [108.0], \"xaxis\": \"x\", \"y\": [0.6], \"yaxis\": \"y\"}],\n",
       "                        {\"legend\": {\"itemsizing\": \"constant\", \"title\": {\"text\": \"    Outcome:\"}, \"tracegroupgap\": 0}, \"plot_bgcolor\": \"rgba(224, 236, 244, 0.3)\", \"sliders\": [{\"active\": 0, \"currentvalue\": {\"prefix\": \"disc_age=\"}, \"len\": 0.9, \"pad\": {\"b\": 10, \"t\": 60}, \"steps\": [{\"args\": [[\"15\"], {\"frame\": {\"duration\": 0, \"redraw\": false}, \"fromcurrent\": true, \"mode\": \"immediate\", \"transition\": {\"duration\": 0, \"easing\": \"linear\"}}], \"label\": \"15\", \"method\": \"animate\"}, {\"args\": [[\"20\"], {\"frame\": {\"duration\": 0, \"redraw\": false}, \"fromcurrent\": true, \"mode\": \"immediate\", \"transition\": {\"duration\": 0, \"easing\": \"linear\"}}], \"label\": \"20\", \"method\": \"animate\"}, {\"args\": [[\"25\"], {\"frame\": {\"duration\": 0, \"redraw\": false}, \"fromcurrent\": true, \"mode\": \"immediate\", \"transition\": {\"duration\": 0, \"easing\": \"linear\"}}], \"label\": \"25\", \"method\": \"animate\"}, {\"args\": [[\"30\"], {\"frame\": {\"duration\": 0, \"redraw\": false}, \"fromcurrent\": true, \"mode\": \"immediate\", \"transition\": {\"duration\": 0, \"easing\": \"linear\"}}], \"label\": \"30\", \"method\": \"animate\"}, {\"args\": [[\"35\"], {\"frame\": {\"duration\": 0, \"redraw\": false}, \"fromcurrent\": true, \"mode\": \"immediate\", \"transition\": {\"duration\": 0, \"easing\": \"linear\"}}], \"label\": \"35\", \"method\": \"animate\"}, {\"args\": [[\"40\"], {\"frame\": {\"duration\": 0, \"redraw\": false}, \"fromcurrent\": true, \"mode\": \"immediate\", \"transition\": {\"duration\": 0, \"easing\": \"linear\"}}], \"label\": \"40\", \"method\": \"animate\"}, {\"args\": [[\"45\"], {\"frame\": {\"duration\": 0, \"redraw\": false}, \"fromcurrent\": true, \"mode\": \"immediate\", \"transition\": {\"duration\": 0, \"easing\": \"linear\"}}], \"label\": \"45\", \"method\": \"animate\"}, {\"args\": [[\"50\"], {\"frame\": {\"duration\": 0, \"redraw\": false}, \"fromcurrent\": true, \"mode\": \"immediate\", \"transition\": {\"duration\": 0, \"easing\": \"linear\"}}], \"label\": \"50\", \"method\": \"animate\"}, {\"args\": [[\"55\"], {\"frame\": {\"duration\": 0, \"redraw\": false}, \"fromcurrent\": true, \"mode\": \"immediate\", \"transition\": {\"duration\": 0, \"easing\": \"linear\"}}], \"label\": \"55\", \"method\": \"animate\"}, {\"args\": [[\"60\"], {\"frame\": {\"duration\": 0, \"redraw\": false}, \"fromcurrent\": true, \"mode\": \"immediate\", \"transition\": {\"duration\": 0, \"easing\": \"linear\"}}], \"label\": \"60\", \"method\": \"animate\"}, {\"args\": [[\"65\"], {\"frame\": {\"duration\": 0, \"redraw\": false}, \"fromcurrent\": true, \"mode\": \"immediate\", \"transition\": {\"duration\": 0, \"easing\": \"linear\"}}], \"label\": \"65\", \"method\": \"animate\"}, {\"args\": [[\"70\"], {\"frame\": {\"duration\": 0, \"redraw\": false}, \"fromcurrent\": true, \"mode\": \"immediate\", \"transition\": {\"duration\": 0, \"easing\": \"linear\"}}], \"label\": \"70\", \"method\": \"animate\"}, {\"args\": [[\"75\"], {\"frame\": {\"duration\": 0, \"redraw\": false}, \"fromcurrent\": true, \"mode\": \"immediate\", \"transition\": {\"duration\": 0, \"easing\": \"linear\"}}], \"label\": \"75\", \"method\": \"animate\"}, {\"args\": [[\"80\"], {\"frame\": {\"duration\": 0, \"redraw\": false}, \"fromcurrent\": true, \"mode\": \"immediate\", \"transition\": {\"duration\": 0, \"easing\": \"linear\"}}], \"label\": \"80\", \"method\": \"animate\"}, {\"args\": [[\"85\"], {\"frame\": {\"duration\": 0, \"redraw\": false}, \"fromcurrent\": true, \"mode\": \"immediate\", \"transition\": {\"duration\": 0, \"easing\": \"linear\"}}], \"label\": \"85\", \"method\": \"animate\"}, {\"args\": [[\"90\"], {\"frame\": {\"duration\": 0, \"redraw\": false}, \"fromcurrent\": true, \"mode\": \"immediate\", \"transition\": {\"duration\": 0, \"easing\": \"linear\"}}], \"label\": \"90\", \"method\": \"animate\"}], \"x\": 0.1, \"xanchor\": \"left\", \"y\": 0, \"yanchor\": \"top\"}], \"template\": {\"data\": {\"bar\": [{\"error_x\": {\"color\": \"#2a3f5f\"}, \"error_y\": {\"color\": \"#2a3f5f\"}, \"marker\": {\"line\": {\"color\": \"#E5ECF6\", \"width\": 0.5}}, \"type\": \"bar\"}], \"barpolar\": [{\"marker\": {\"line\": {\"color\": \"#E5ECF6\", \"width\": 0.5}}, \"type\": \"barpolar\"}], \"carpet\": [{\"aaxis\": {\"endlinecolor\": \"#2a3f5f\", \"gridcolor\": \"white\", \"linecolor\": \"white\", \"minorgridcolor\": \"white\", \"startlinecolor\": \"#2a3f5f\"}, \"baxis\": {\"endlinecolor\": \"#2a3f5f\", \"gridcolor\": \"white\", \"linecolor\": \"white\", \"minorgridcolor\": \"white\", \"startlinecolor\": \"#2a3f5f\"}, \"type\": \"carpet\"}], \"choropleth\": [{\"colorbar\": {\"outlinewidth\": 0, \"ticks\": \"\"}, \"type\": \"choropleth\"}], \"contour\": [{\"colorbar\": {\"outlinewidth\": 0, \"ticks\": \"\"}, \"colorscale\": [[0.0, \"#0d0887\"], [0.1111111111111111, \"#46039f\"], [0.2222222222222222, \"#7201a8\"], [0.3333333333333333, \"#9c179e\"], [0.4444444444444444, \"#bd3786\"], [0.5555555555555556, \"#d8576b\"], [0.6666666666666666, \"#ed7953\"], [0.7777777777777778, \"#fb9f3a\"], [0.8888888888888888, \"#fdca26\"], [1.0, \"#f0f921\"]], \"type\": \"contour\"}], \"contourcarpet\": [{\"colorbar\": {\"outlinewidth\": 0, \"ticks\": \"\"}, \"type\": \"contourcarpet\"}], \"heatmap\": [{\"colorbar\": {\"outlinewidth\": 0, \"ticks\": \"\"}, \"colorscale\": [[0.0, \"#0d0887\"], [0.1111111111111111, \"#46039f\"], [0.2222222222222222, \"#7201a8\"], [0.3333333333333333, \"#9c179e\"], [0.4444444444444444, \"#bd3786\"], [0.5555555555555556, \"#d8576b\"], [0.6666666666666666, \"#ed7953\"], [0.7777777777777778, \"#fb9f3a\"], [0.8888888888888888, \"#fdca26\"], [1.0, \"#f0f921\"]], \"type\": \"heatmap\"}], \"heatmapgl\": [{\"colorbar\": {\"outlinewidth\": 0, \"ticks\": \"\"}, \"colorscale\": [[0.0, \"#0d0887\"], [0.1111111111111111, \"#46039f\"], [0.2222222222222222, \"#7201a8\"], [0.3333333333333333, \"#9c179e\"], [0.4444444444444444, \"#bd3786\"], [0.5555555555555556, \"#d8576b\"], [0.6666666666666666, \"#ed7953\"], [0.7777777777777778, \"#fb9f3a\"], [0.8888888888888888, \"#fdca26\"], [1.0, \"#f0f921\"]], \"type\": \"heatmapgl\"}], \"histogram\": [{\"marker\": {\"colorbar\": {\"outlinewidth\": 0, \"ticks\": \"\"}}, \"type\": \"histogram\"}], \"histogram2d\": [{\"colorbar\": {\"outlinewidth\": 0, \"ticks\": \"\"}, \"colorscale\": [[0.0, \"#0d0887\"], [0.1111111111111111, \"#46039f\"], [0.2222222222222222, \"#7201a8\"], [0.3333333333333333, \"#9c179e\"], [0.4444444444444444, \"#bd3786\"], [0.5555555555555556, \"#d8576b\"], [0.6666666666666666, \"#ed7953\"], [0.7777777777777778, \"#fb9f3a\"], [0.8888888888888888, \"#fdca26\"], [1.0, \"#f0f921\"]], \"type\": \"histogram2d\"}], \"histogram2dcontour\": [{\"colorbar\": {\"outlinewidth\": 0, \"ticks\": \"\"}, \"colorscale\": [[0.0, \"#0d0887\"], [0.1111111111111111, \"#46039f\"], [0.2222222222222222, \"#7201a8\"], [0.3333333333333333, \"#9c179e\"], [0.4444444444444444, \"#bd3786\"], [0.5555555555555556, \"#d8576b\"], [0.6666666666666666, \"#ed7953\"], [0.7777777777777778, \"#fb9f3a\"], [0.8888888888888888, \"#fdca26\"], [1.0, \"#f0f921\"]], \"type\": \"histogram2dcontour\"}], \"mesh3d\": [{\"colorbar\": {\"outlinewidth\": 0, \"ticks\": \"\"}, \"type\": \"mesh3d\"}], \"parcoords\": [{\"line\": {\"colorbar\": {\"outlinewidth\": 0, \"ticks\": \"\"}}, \"type\": \"parcoords\"}], \"pie\": [{\"automargin\": true, \"type\": \"pie\"}], \"scatter\": [{\"marker\": {\"colorbar\": {\"outlinewidth\": 0, \"ticks\": \"\"}}, \"type\": \"scatter\"}], \"scatter3d\": [{\"line\": {\"colorbar\": {\"outlinewidth\": 0, \"ticks\": \"\"}}, \"marker\": {\"colorbar\": {\"outlinewidth\": 0, \"ticks\": \"\"}}, \"type\": \"scatter3d\"}], \"scattercarpet\": [{\"marker\": {\"colorbar\": {\"outlinewidth\": 0, \"ticks\": \"\"}}, \"type\": \"scattercarpet\"}], \"scattergeo\": [{\"marker\": {\"colorbar\": {\"outlinewidth\": 0, \"ticks\": \"\"}}, \"type\": \"scattergeo\"}], \"scattergl\": [{\"marker\": {\"colorbar\": {\"outlinewidth\": 0, \"ticks\": \"\"}}, \"type\": \"scattergl\"}], \"scattermapbox\": [{\"marker\": {\"colorbar\": {\"outlinewidth\": 0, \"ticks\": \"\"}}, \"type\": \"scattermapbox\"}], \"scatterpolar\": [{\"marker\": {\"colorbar\": {\"outlinewidth\": 0, \"ticks\": \"\"}}, \"type\": \"scatterpolar\"}], \"scatterpolargl\": [{\"marker\": {\"colorbar\": {\"outlinewidth\": 0, \"ticks\": \"\"}}, \"type\": \"scatterpolargl\"}], \"scatterternary\": [{\"marker\": {\"colorbar\": {\"outlinewidth\": 0, \"ticks\": \"\"}}, \"type\": \"scatterternary\"}], \"surface\": [{\"colorbar\": {\"outlinewidth\": 0, \"ticks\": \"\"}, \"colorscale\": [[0.0, \"#0d0887\"], [0.1111111111111111, \"#46039f\"], [0.2222222222222222, \"#7201a8\"], [0.3333333333333333, \"#9c179e\"], [0.4444444444444444, \"#bd3786\"], [0.5555555555555556, \"#d8576b\"], [0.6666666666666666, \"#ed7953\"], [0.7777777777777778, \"#fb9f3a\"], [0.8888888888888888, \"#fdca26\"], [1.0, \"#f0f921\"]], \"type\": \"surface\"}], \"table\": [{\"cells\": {\"fill\": {\"color\": \"#EBF0F8\"}, \"line\": {\"color\": \"white\"}}, \"header\": {\"fill\": {\"color\": \"#C8D4E3\"}, \"line\": {\"color\": \"white\"}}, \"type\": \"table\"}]}, \"layout\": {\"annotationdefaults\": {\"arrowcolor\": \"#2a3f5f\", \"arrowhead\": 0, \"arrowwidth\": 1}, \"coloraxis\": {\"colorbar\": {\"outlinewidth\": 0, \"ticks\": \"\"}}, \"colorscale\": {\"diverging\": [[0, \"#8e0152\"], [0.1, \"#c51b7d\"], [0.2, \"#de77ae\"], [0.3, \"#f1b6da\"], [0.4, \"#fde0ef\"], [0.5, \"#f7f7f7\"], [0.6, \"#e6f5d0\"], [0.7, \"#b8e186\"], [0.8, \"#7fbc41\"], [0.9, \"#4d9221\"], [1, \"#276419\"]], \"sequential\": [[0.0, \"#0d0887\"], [0.1111111111111111, \"#46039f\"], [0.2222222222222222, \"#7201a8\"], [0.3333333333333333, \"#9c179e\"], [0.4444444444444444, \"#bd3786\"], [0.5555555555555556, \"#d8576b\"], [0.6666666666666666, \"#ed7953\"], [0.7777777777777778, \"#fb9f3a\"], [0.8888888888888888, \"#fdca26\"], [1.0, \"#f0f921\"]], \"sequentialminus\": [[0.0, \"#0d0887\"], [0.1111111111111111, \"#46039f\"], [0.2222222222222222, \"#7201a8\"], [0.3333333333333333, \"#9c179e\"], [0.4444444444444444, \"#bd3786\"], [0.5555555555555556, \"#d8576b\"], [0.6666666666666666, \"#ed7953\"], [0.7777777777777778, \"#fb9f3a\"], [0.8888888888888888, \"#fdca26\"], [1.0, \"#f0f921\"]]}, \"colorway\": [\"#636efa\", \"#EF553B\", \"#00cc96\", \"#ab63fa\", \"#FFA15A\", \"#19d3f3\", \"#FF6692\", \"#B6E880\", \"#FF97FF\", \"#FECB52\"], \"font\": {\"color\": \"#2a3f5f\"}, \"geo\": {\"bgcolor\": \"white\", \"lakecolor\": \"white\", \"landcolor\": \"#E5ECF6\", \"showlakes\": true, \"showland\": true, \"subunitcolor\": \"white\"}, \"hoverlabel\": {\"align\": \"left\"}, \"hovermode\": \"closest\", \"mapbox\": {\"style\": \"light\"}, \"paper_bgcolor\": \"white\", \"plot_bgcolor\": \"#E5ECF6\", \"polar\": {\"angularaxis\": {\"gridcolor\": \"white\", \"linecolor\": \"white\", \"ticks\": \"\"}, \"bgcolor\": \"#E5ECF6\", \"radialaxis\": {\"gridcolor\": \"white\", \"linecolor\": \"white\", \"ticks\": \"\"}}, \"scene\": {\"xaxis\": {\"backgroundcolor\": \"#E5ECF6\", \"gridcolor\": \"white\", \"gridwidth\": 2, \"linecolor\": \"white\", \"showbackground\": true, \"ticks\": \"\", \"zerolinecolor\": \"white\"}, \"yaxis\": {\"backgroundcolor\": \"#E5ECF6\", \"gridcolor\": \"white\", \"gridwidth\": 2, \"linecolor\": \"white\", \"showbackground\": true, \"ticks\": \"\", \"zerolinecolor\": \"white\"}, \"zaxis\": {\"backgroundcolor\": \"#E5ECF6\", \"gridcolor\": \"white\", \"gridwidth\": 2, \"linecolor\": \"white\", \"showbackground\": true, \"ticks\": \"\", \"zerolinecolor\": \"white\"}}, \"shapedefaults\": {\"line\": {\"color\": \"#2a3f5f\"}}, \"ternary\": {\"aaxis\": {\"gridcolor\": \"white\", \"linecolor\": \"white\", \"ticks\": \"\"}, \"baxis\": {\"gridcolor\": \"white\", \"linecolor\": \"white\", \"ticks\": \"\"}, \"bgcolor\": \"#E5ECF6\", \"caxis\": {\"gridcolor\": \"white\", \"linecolor\": \"white\", \"ticks\": \"\"}}, \"title\": {\"x\": 0.05}, \"xaxis\": {\"automargin\": true, \"gridcolor\": \"white\", \"linecolor\": \"white\", \"ticks\": \"\", \"title\": {\"standoff\": 15}, \"zerolinecolor\": \"white\", \"zerolinewidth\": 2}, \"yaxis\": {\"automargin\": true, \"gridcolor\": \"white\", \"linecolor\": \"white\", \"ticks\": \"\", \"title\": {\"standoff\": 15}, \"zerolinecolor\": \"white\", \"zerolinewidth\": 2}}}, \"title\": {\"text\": \"title\"}, \"updatemenus\": [{\"buttons\": [{\"args\": [null, {\"frame\": {\"duration\": 500, \"redraw\": false}, \"fromcurrent\": true, \"mode\": \"immediate\", \"transition\": {\"duration\": 500, \"easing\": \"linear\"}}], \"label\": \"&#9654;\", \"method\": \"animate\"}, {\"args\": [[null], {\"frame\": {\"duration\": 0, \"redraw\": false}, \"fromcurrent\": true, \"mode\": \"immediate\", \"transition\": {\"duration\": 0, \"easing\": \"linear\"}}], \"label\": \"&#9724;\", \"method\": \"animate\"}], \"direction\": \"left\", \"pad\": {\"r\": 10, \"t\": 70}, \"showactive\": false, \"type\": \"buttons\", \"x\": 0.1, \"xanchor\": \"right\", \"y\": 0, \"yanchor\": \"top\"}], \"xaxis\": {\"anchor\": \"y\", \"domain\": [0.0, 1.0], \"linecolor\": \"black\", \"linewidth\": 2, \"mirror\": true, \"range\": [60, 180], \"showline\": true, \"title\": {\"text\": \"hemoglobin\"}}, \"yaxis\": {\"anchor\": \"x\", \"domain\": [0.0, 1.0], \"linecolor\": \"black\", \"linewidth\": 2, \"mirror\": true, \"range\": [-1, 6], \"showline\": true, \"title\": {\"text\": \"eosinophils(%)\"}}},\n",
       "                        {\"responsive\": true}\n",
       "                    ).then(function(){\n",
       "                            Plotly.addFrames('b500f35e-f02a-4990-8857-f621da62f3f4', [{\"data\": [{\"customdata\": [[\"Male\"]], \"hoverlabel\": {\"namelength\": 0}, \"hovertemplate\": \"outcome=Recovered<br>disc_age=15<br>hemoglobin=%{x}<br>eosinophils(%)=%{y}<br>Interleukin 2 receptor=%{marker.size}<br>gender=%{customdata[0]}\", \"legendgroup\": \"Recovered\", \"marker\": {\"color\": \"#636efa\", \"size\": [934.5952932098767], \"sizemode\": \"area\", \"sizeref\": 4.6875, \"symbol\": \"square\"}, \"mode\": \"markers\", \"name\": \"Recovered\", \"showlegend\": true, \"x\": [127.0], \"xaxis\": \"x\", \"y\": [0.5666666666666667], \"yaxis\": \"y\", \"type\": \"scatter\"}, {\"customdata\": [[\"Female\"]], \"hoverlabel\": {\"namelength\": 0}, \"hovertemplate\": \"outcome=Dead<br>disc_age=15<br>hemoglobin=%{x}<br>eosinophils(%)=%{y}<br>Interleukin 2 receptor=%{marker.size}<br>gender=%{customdata[0]}\", \"legendgroup\": \"Dead\", \"marker\": {\"color\": \"#636efa\", \"size\": [934.5952932098767], \"sizemode\": \"area\", \"sizeref\": 4.6875, \"symbol\": \"x\"}, \"mode\": \"markers\", \"name\": \"Dead\", \"showlegend\": true, \"x\": [108.0], \"xaxis\": \"x\", \"y\": [0.6], \"yaxis\": \"y\", \"type\": \"scatter\"}], \"name\": \"15\"}, {\"data\": [{\"customdata\": [[\"Male\"], [\"Female\"]], \"hoverlabel\": {\"namelength\": 0}, \"hovertemplate\": \"outcome=Recovered<br>disc_age=20<br>hemoglobin=%{x}<br>eosinophils(%)=%{y}<br>Interleukin 2 receptor=%{marker.size}<br>gender=%{customdata[0]}\", \"legendgroup\": \"Recovered\", \"marker\": {\"color\": \"#636efa\", \"size\": [582.0, 934.5952932098767], \"sizemode\": \"area\", \"sizeref\": 4.6875, \"symbol\": \"square\"}, \"mode\": \"markers\", \"name\": \"Recovered\", \"showlegend\": true, \"x\": [138.0, 125.21955256821822], \"xaxis\": \"x\", \"y\": [0.7, 0.6806374843945067], \"yaxis\": \"y\", \"type\": \"scatter\"}], \"name\": \"20\"}, {\"data\": [{\"customdata\": [[\"Male\"], [\"Female\"], [\"Male\"], [\"Female\"], [\"Female\"], [\"Male\"], [\"Male\"], [\"Male\"], [\"Male\"], [\"Male\"], [\"Male\"], [\"Female\"], [\"Male\"], [\"Female\"], [\"Female\"], [\"Male\"], [\"Male\"], [\"Female\"]], \"hoverlabel\": {\"namelength\": 0}, \"hovertemplate\": \"outcome=Recovered<br>disc_age=25<br>hemoglobin=%{x}<br>eosinophils(%)=%{y}<br>Interleukin 2 receptor=%{marker.size}<br>gender=%{customdata[0]}\", \"legendgroup\": \"Recovered\", \"marker\": {\"color\": \"#636efa\", \"size\": [447.0, 412.0, 451.0, 934.5952932098767, 293.0, 517.0, 426.0, 934.5952932098767, 377.0, 258.0, 321.0, 409.0, 520.0, 934.5952932098767, 934.5952932098767, 722.0, 460.0, 618.0], \"sizemode\": \"area\", \"sizeref\": 4.6875, \"symbol\": \"square\"}, \"mode\": \"markers\", \"name\": \"Recovered\", \"showlegend\": true, \"x\": [136.0, 135.5, 131.0, 134.0, 154.5, 121.0, 118.5, 112.5, 129.5, 128.0, 82.63333333333334, 135.0, 94.66666666666667, 143.5, 132.0, 141.0, 111.0, 129.0], \"xaxis\": \"x\", \"y\": [0.5, 0.35, 2.766666666666667, 1.2, 1.6, 1.5999999999999999, 1.35, 0.75, 0.75, 2.1666666666666665, 0.1, 1.2, 0.6999999999999998, 0.9666666666666667, 0.25, 1.9, 0.9, 0.0], \"yaxis\": \"y\", \"type\": \"scatter\"}], \"name\": \"25\"}, {\"data\": [{\"customdata\": [[\"Male\"], [\"Male\"], [\"Male\"], [\"Male\"], [\"Male\"], [\"Male\"], [\"Female\"], [\"Female\"], [\"Male\"], [\"Female\"], [\"Female\"], [\"Male\"], [\"Female\"], [\"Male\"], [\"Male\"], [\"Female\"], [\"Male\"], [\"Female\"], [\"Male\"], [\"Female\"], [\"Female\"], [\"Male\"], [\"Male\"]], \"hoverlabel\": {\"namelength\": 0}, \"hovertemplate\": \"outcome=Recovered<br>disc_age=30<br>hemoglobin=%{x}<br>eosinophils(%)=%{y}<br>Interleukin 2 receptor=%{marker.size}<br>gender=%{customdata[0]}\", \"legendgroup\": \"Recovered\", \"marker\": {\"color\": \"#636efa\", \"size\": [257.0, 934.5952932098767, 518.0, 502.0, 934.5952932098767, 319.5, 934.5952932098767, 544.0, 934.5952932098767, 509.75, 934.5952932098767, 642.8, 886.0, 934.5952932098767, 381.0, 661.0, 860.0, 934.5952932098767, 331.5, 524.0, 125.0, 293.0, 329.0], \"sizemode\": \"area\", \"sizeref\": 4.6875, \"symbol\": \"square\"}, \"mode\": \"markers\", \"name\": \"Recovered\", \"showlegend\": true, \"x\": [122.5, 114.0, 120.25, 125.0, 138.33333333333334, 117.0, 140.0, 148.0, 106.5, 150.0, 133.75, 124.71428571428571, 162.0, 152.0, 122.33333333333333, 127.0, 106.75, 125.21955256821822, 128.0, 138.25, 123.0, 118.16666666666667, 118.5], \"xaxis\": \"x\", \"y\": [0.3, 1.86, 2.3499999999999996, 0.6, 0.4666666666666666, 0.8, 0.6999999999999998, 0.5, 0.0, 0.1, 0.8, 0.21428571428571427, 0.46666666666666673, 1.4, 1.7333333333333334, 1.0666666666666667, 1.55, 0.6806374843945067, 0.65, 1.725, 0.8, 0.8500000000000001, 4.55], \"yaxis\": \"y\", \"type\": \"scatter\"}, {\"customdata\": [[\"Female\"]], \"hoverlabel\": {\"namelength\": 0}, \"hovertemplate\": \"outcome=Dead<br>disc_age=30<br>hemoglobin=%{x}<br>eosinophils(%)=%{y}<br>Interleukin 2 receptor=%{marker.size}<br>gender=%{customdata[0]}\", \"legendgroup\": \"Dead\", \"marker\": {\"color\": \"#636efa\", \"size\": [2634.0], \"sizemode\": \"area\", \"sizeref\": 4.6875, \"symbol\": \"x\"}, \"mode\": \"markers\", \"name\": \"Dead\", \"showlegend\": true, \"x\": [119.0], \"xaxis\": \"x\", \"y\": [0.0], \"yaxis\": \"y\", \"type\": \"scatter\"}], \"name\": \"30\"}, {\"data\": [{\"customdata\": [[\"Female\"], [\"Male\"], [\"Female\"], [\"Male\"], [\"Male\"], [\"Male\"], [\"Male\"], [\"Male\"], [\"Female\"], [\"Male\"], [\"Male\"], [\"Male\"], [\"Male\"], [\"Male\"], [\"Male\"], [\"Female\"], [\"Female\"], [\"Female\"], [\"Female\"], [\"Male\"], [\"Female\"], [\"Male\"]], \"hoverlabel\": {\"namelength\": 0}, \"hovertemplate\": \"outcome=Recovered<br>disc_age=35<br>hemoglobin=%{x}<br>eosinophils(%)=%{y}<br>Interleukin 2 receptor=%{marker.size}<br>gender=%{customdata[0]}\", \"legendgroup\": \"Recovered\", \"marker\": {\"color\": \"#636efa\", \"size\": [716.0, 344.0, 934.5952932098767, 455.0, 456.0, 934.5952932098767, 695.0, 934.5952932098767, 529.0, 934.5952932098767, 533.0, 546.0, 934.5952932098767, 518.0, 934.5952932098767, 456.0, 934.5952932098767, 696.0, 535.0, 934.5952932098767, 521.0, 934.5952932098767], \"sizemode\": \"area\", \"sizeref\": 4.6875, \"symbol\": \"square\"}, \"mode\": \"markers\", \"name\": \"Recovered\", \"showlegend\": true, \"x\": [128.5, 119.5, 146.5, 99.36666666666667, 125.0, 115.5, 126.0, 91.66666666666667, 119.0, 147.33333333333334, 124.66666666666667, 82.83333333333333, 130.0, 124.4, 113.4, 143.0, 125.21955256821822, 152.0, 137.0, 137.0, 109.275, 140.5], \"xaxis\": \"x\", \"y\": [0.0, 1.65, 0.22499999999999998, 0.25, 0.2, 0.5, 0.15, 0.3, 1.1, 0.8333333333333334, 1.3, 0.0, 0.7, 1.9600000000000002, 0.76, 2.0, 0.6806374843945067, 3.15, 0.75, 1.3, 0.0, 1.2], \"yaxis\": \"y\", \"type\": \"scatter\"}], \"name\": \"35\"}, {\"data\": [{\"customdata\": [[\"Male\"], [\"Male\"], [\"Male\"], [\"Male\"], [\"Male\"], [\"Female\"], [\"Male\"], [\"Female\"], [\"Female\"], [\"Female\"], [\"Female\"], [\"Female\"], [\"Female\"], [\"Male\"], [\"Male\"], [\"Male\"], [\"Male\"], [\"Male\"], [\"Female\"]], \"hoverlabel\": {\"namelength\": 0}, \"hovertemplate\": \"outcome=Recovered<br>disc_age=40<br>hemoglobin=%{x}<br>eosinophils(%)=%{y}<br>Interleukin 2 receptor=%{marker.size}<br>gender=%{customdata[0]}\", \"legendgroup\": \"Recovered\", \"marker\": {\"color\": \"#636efa\", \"size\": [577.0, 399.0, 934.5952932098767, 562.0, 934.5952932098767, 526.0, 244.0, 536.0, 934.5952932098767, 513.5, 387.0, 814.5, 934.5952932098767, 611.0, 934.5952932098767, 934.5952932098767, 934.5952932098767, 434.0, 934.5952932098767], \"sizemode\": \"area\", \"sizeref\": 4.6875, \"symbol\": \"square\"}, \"mode\": \"markers\", \"name\": \"Recovered\", \"showlegend\": true, \"x\": [107.0, 138.66666666666666, 125.33333333333333, 118.2, 116.0, 129.5, 120.0, 146.0, 125.21955256821822, 95.95714285714287, 122.5, 146.66666666666666, 140.5, 118.0, 110.0, 131.16666666666666, 127.0, 109.4, 155.5], \"xaxis\": \"x\", \"y\": [0.35, 0.43333333333333335, 0.3666666666666667, 1.06, 1.8, 0.0, 0.6, 0.46666666666666673, 0.6806374843945067, 0.125, 2.7, 0.0, 1.0, 2.3333333333333335, 1.1333333333333333, 0.03333333333333333, 2.5, 1.86, 0.6000000000000001], \"yaxis\": \"y\", \"type\": \"scatter\"}, {\"customdata\": [[\"Female\"], [\"Male\"], [\"Male\"], [\"Male\"]], \"hoverlabel\": {\"namelength\": 0}, \"hovertemplate\": \"outcome=Dead<br>disc_age=40<br>hemoglobin=%{x}<br>eosinophils(%)=%{y}<br>Interleukin 2 receptor=%{marker.size}<br>gender=%{customdata[0]}\", \"legendgroup\": \"Dead\", \"marker\": {\"color\": \"#636efa\", \"size\": [7500.0, 934.5952932098767, 934.5952932098767, 934.5952932098767], \"sizemode\": \"area\", \"sizeref\": 4.6875, \"symbol\": \"x\"}, \"mode\": \"markers\", \"name\": \"Dead\", \"showlegend\": true, \"x\": [61.8, 110.0, 88.0, 142.0], \"xaxis\": \"x\", \"y\": [0.0, 0.0, 0.0, 0.0], \"yaxis\": \"y\", \"type\": \"scatter\"}], \"name\": \"40\"}, {\"data\": [{\"customdata\": [[\"Male\"], [\"Female\"], [\"Female\"], [\"Male\"], [\"Female\"], [\"Female\"], [\"Female\"], [\"Female\"], [\"Male\"], [\"Female\"], [\"Male\"], [\"Male\"]], \"hoverlabel\": {\"namelength\": 0}, \"hovertemplate\": \"outcome=Recovered<br>disc_age=45<br>hemoglobin=%{x}<br>eosinophils(%)=%{y}<br>Interleukin 2 receptor=%{marker.size}<br>gender=%{customdata[0]}\", \"legendgroup\": \"Recovered\", \"marker\": {\"color\": \"#636efa\", \"size\": [474.0, 974.5, 715.5, 661.0, 934.5952932098767, 254.0, 460.0, 783.0, 221.0, 758.0, 934.5952932098767, 934.5952932098767], \"sizemode\": \"area\", \"sizeref\": 4.6875, \"symbol\": \"square\"}, \"mode\": \"markers\", \"name\": \"Recovered\", \"showlegend\": true, \"x\": [118.75, 139.0, 133.0, 109.0, 141.0, 137.2, 137.25, 144.5, 126.5, 140.25, 104.0, 112.33333333333333], \"xaxis\": \"x\", \"y\": [0.8749999999999999, 0.05, 0.9, 2.2, 1.9, 2.3, 0.075, 2.3, 0.5, 0.575, 5.550000000000001, 1.0999999999999999], \"yaxis\": \"y\", \"type\": \"scatter\"}, {\"customdata\": [[\"Female\"], [\"Female\"], [\"Female\"]], \"hoverlabel\": {\"namelength\": 0}, \"hovertemplate\": \"outcome=Dead<br>disc_age=45<br>hemoglobin=%{x}<br>eosinophils(%)=%{y}<br>Interleukin 2 receptor=%{marker.size}<br>gender=%{customdata[0]}\", \"legendgroup\": \"Dead\", \"marker\": {\"color\": \"#636efa\", \"size\": [692.0, 934.5952932098767, 934.5952932098767], \"sizemode\": \"area\", \"sizeref\": 4.6875, \"symbol\": \"x\"}, \"mode\": \"markers\", \"name\": \"Dead\", \"showlegend\": true, \"x\": [141.0, 136.0, 96.0], \"xaxis\": \"x\", \"y\": [0.5750000000000001, 0.2, 0.0], \"yaxis\": \"y\", \"type\": \"scatter\"}], \"name\": \"45\"}, {\"data\": [{\"customdata\": [[\"Male\"], [\"Female\"], [\"Male\"], [\"Female\"], [\"Female\"], [\"Female\"], [\"Female\"], [\"Male\"], [\"Female\"], [\"Female\"], [\"Male\"], [\"Male\"], [\"Female\"], [\"Female\"], [\"Male\"], [\"Male\"], [\"Female\"], [\"Female\"]], \"hoverlabel\": {\"namelength\": 0}, \"hovertemplate\": \"outcome=Recovered<br>disc_age=50<br>hemoglobin=%{x}<br>eosinophils(%)=%{y}<br>Interleukin 2 receptor=%{marker.size}<br>gender=%{customdata[0]}\", \"legendgroup\": \"Recovered\", \"marker\": {\"color\": \"#636efa\", \"size\": [934.5952932098767, 934.5952932098767, 934.5952932098767, 467.0, 1210.0, 934.5952932098767, 934.5952932098767, 934.5952932098767, 863.0, 585.0, 184.5, 934.5952932098767, 915.0, 934.5952932098767, 298.0, 934.5952932098767, 500.6666666666667, 354.0], \"sizemode\": \"area\", \"sizeref\": 4.6875, \"symbol\": \"square\"}, \"mode\": \"markers\", \"name\": \"Recovered\", \"showlegend\": true, \"x\": [134.5, 98.0, 129.5, 146.5, 149.66666666666666, 143.0, 143.0, 128.0, 132.75, 153.0, 121.25, 126.5, 156.0, 128.0, 122.5, 103.5, 143.0, 152.66666666666666], \"xaxis\": \"x\", \"y\": [0.25, 0.25, 2.25, 0.05, 0.6333333333333333, 2.0, 0.58, 0.7, 0.05, 0.1, 0.45, 0.5, 1.25, 2.0, 0.15, 1.8, 0.15, 1.8], \"yaxis\": \"y\", \"type\": \"scatter\"}, {\"customdata\": [[\"Female\"], [\"Female\"], [\"Female\"], [\"Female\"], [\"Female\"], [\"Female\"], [\"Male\"], [\"Female\"], [\"Female\"], [\"Female\"], [\"Female\"], [\"Male\"]], \"hoverlabel\": {\"namelength\": 0}, \"hovertemplate\": \"outcome=Dead<br>disc_age=50<br>hemoglobin=%{x}<br>eosinophils(%)=%{y}<br>Interleukin 2 receptor=%{marker.size}<br>gender=%{customdata[0]}\", \"legendgroup\": \"Dead\", \"marker\": {\"color\": \"#636efa\", \"size\": [934.5952932098767, 225.0, 589.0, 446.0, 955.0, 1228.0, 934.5952932098767, 1211.5, 934.5952932098767, 934.5952932098767, 934.5952932098767, 778.0], \"sizemode\": \"area\", \"sizeref\": 4.6875, \"symbol\": \"x\"}, \"mode\": \"markers\", \"name\": \"Dead\", \"showlegend\": true, \"x\": [125.21955256821822, 103.0, 117.0, 129.0, 131.0, 75.83333333333333, 113.0, 119.5, 111.0, 122.0, 125.21955256821822, 112.0], \"xaxis\": \"x\", \"y\": [0.6806374843945067, 0.6599999999999999, 0.06666666666666667, 0.0, 0.0, 0.0, 0.0, 0.0, 0.0, 0.0, 0.6806374843945067, 0.025], \"yaxis\": \"y\", \"type\": \"scatter\"}], \"name\": \"50\"}, {\"data\": [{\"customdata\": [[\"Female\"], [\"Female\"], [\"Male\"], [\"Male\"], [\"Male\"], [\"Male\"], [\"Female\"], [\"Female\"], [\"Female\"], [\"Male\"], [\"Female\"], [\"Female\"], [\"Male\"], [\"Male\"], [\"Female\"], [\"Male\"], [\"Male\"], [\"Male\"], [\"Female\"], [\"Female\"], [\"Female\"], [\"Male\"], [\"Female\"], [\"Female\"], [\"Female\"]], \"hoverlabel\": {\"namelength\": 0}, \"hovertemplate\": \"outcome=Recovered<br>disc_age=55<br>hemoglobin=%{x}<br>eosinophils(%)=%{y}<br>Interleukin 2 receptor=%{marker.size}<br>gender=%{customdata[0]}\", \"legendgroup\": \"Recovered\", \"marker\": {\"color\": \"#636efa\", \"size\": [834.0, 247.0, 934.5952932098767, 934.5952932098767, 934.5952932098767, 966.0, 789.0, 668.0, 384.0, 407.0, 934.5952932098767, 732.5, 934.5952932098767, 2613.0, 739.0, 458.0, 934.5952932098767, 620.0, 500.0, 954.0, 313.0, 934.5952932098767, 65.5, 347.0, 596.0], \"sizemode\": \"area\", \"sizeref\": 4.6875, \"symbol\": \"square\"}, \"mode\": \"markers\", \"name\": \"Recovered\", \"showlegend\": true, \"x\": [133.5, 163.0, 129.0, 103.0, 147.0, 106.33333333333333, 101.92, 147.5, 131.33333333333334, 110.33333333333333, 138.0, 118.66666666666667, 129.0, 98.0, 147.0, 128.0, 102.0, 133.0, 143.5, 137.5, 129.0, 119.5, 102.125, 136.5, 133.0], \"xaxis\": \"x\", \"y\": [3.0, 1.2, 0.7, 2.3, 0.6, 0.6, 0.5, 1.45, 2.3666666666666667, 1.0, 0.4, 0.03333333333333333, 1.7, 0.2, 0.1, 0.0, 2.4, 1.7, 3.9000000000000004, 0.0, 0.8333333333333334, 0.875, 2.6, 1.6, 0.5], \"yaxis\": \"y\", \"type\": \"scatter\"}, {\"customdata\": [[\"Female\"], [\"Female\"], [\"Female\"], [\"Female\"], [\"Female\"], [\"Male\"], [\"Female\"], [\"Male\"], [\"Female\"], [\"Female\"], [\"Female\"], [\"Female\"], [\"Female\"]], \"hoverlabel\": {\"namelength\": 0}, \"hovertemplate\": \"outcome=Dead<br>disc_age=55<br>hemoglobin=%{x}<br>eosinophils(%)=%{y}<br>Interleukin 2 receptor=%{marker.size}<br>gender=%{customdata[0]}\", \"legendgroup\": \"Dead\", \"marker\": {\"color\": \"#636efa\", \"size\": [934.5952932098767, 934.5952932098767, 1147.0, 1522.0, 1026.0, 934.5952932098767, 934.5952932098767, 934.5952932098767, 1631.0, 934.5952932098767, 659.0, 996.0, 800.0], \"sizemode\": \"area\", \"sizeref\": 4.6875, \"symbol\": \"x\"}, \"mode\": \"markers\", \"name\": \"Dead\", \"showlegend\": true, \"x\": [95.0, 151.0, 113.5, 125.85714285714286, 132.75, 125.5, 125.21955256821822, 131.0, 119.0, 119.0, 114.25, 108.5, 131.5], \"xaxis\": \"x\", \"y\": [0.0, 0.0, 0.55, 0.1285714285714286, 0.55, 0.0, 0.6806374843945067, 0.1, 0.26666666666666666, 0.0, 0.1, 0.07500000000000001, 0.3], \"yaxis\": \"y\", \"type\": \"scatter\"}], \"name\": \"55\"}, {\"data\": [{\"customdata\": [[\"Female\"], [\"Female\"], [\"Male\"], [\"Male\"], [\"Male\"], [\"Female\"], [\"Male\"], [\"Female\"], [\"Female\"], [\"Female\"], [\"Female\"], [\"Female\"], [\"Male\"], [\"Female\"], [\"Male\"], [\"Male\"], [\"Male\"], [\"Male\"], [\"Female\"]], \"hoverlabel\": {\"namelength\": 0}, \"hovertemplate\": \"outcome=Recovered<br>disc_age=60<br>hemoglobin=%{x}<br>eosinophils(%)=%{y}<br>Interleukin 2 receptor=%{marker.size}<br>gender=%{customdata[0]}\", \"legendgroup\": \"Recovered\", \"marker\": {\"color\": \"#636efa\", \"size\": [1166.0, 934.5952932098767, 846.0, 881.0, 709.0, 796.5, 934.5952932098767, 934.5952932098767, 938.0, 549.0, 934.5952932098767, 397.0, 666.0, 350.0, 934.5952932098767, 297.0, 934.5952932098767, 129.0, 1150.0], \"sizemode\": \"area\", \"sizeref\": 4.6875, \"symbol\": \"square\"}, \"mode\": \"markers\", \"name\": \"Recovered\", \"showlegend\": true, \"x\": [171.33333333333334, 125.21955256821822, 117.75, 141.0, 111.0, 145.75, 131.0, 125.21955256821822, 144.66666666666666, 144.0, 120.75, 140.0, 120.0, 149.0, 128.5, 131.5, 110.0, 121.0, 134.0], \"xaxis\": \"x\", \"y\": [0.3333333333333333, 0.6806374843945067, 0.925, 0.34, 0.3666666666666667, 0.05, 1.5, 0.6806374843945067, 1.0666666666666667, 0.65, 0.1, 4.75, 1.35, 1.5, 0.7, 2.1500000000000004, 2.9, 1.0, 3.9333333333333336], \"yaxis\": \"y\", \"type\": \"scatter\"}, {\"customdata\": [[\"Female\"], [\"Male\"], [\"Male\"], [\"Male\"], [\"Female\"], [\"Male\"], [\"Male\"], [\"Male\"], [\"Female\"], [\"Female\"], [\"Female\"], [\"Female\"], [\"Male\"], [\"Female\"], [\"Female\"], [\"Male\"], [\"Female\"], [\"Female\"], [\"Female\"], [\"Female\"], [\"Female\"], [\"Female\"], [\"Female\"], [\"Female\"], [\"Female\"], [\"Female\"], [\"Female\"], [\"Female\"], [\"Female\"], [\"Female\"], [\"Female\"]], \"hoverlabel\": {\"namelength\": 0}, \"hovertemplate\": \"outcome=Dead<br>disc_age=60<br>hemoglobin=%{x}<br>eosinophils(%)=%{y}<br>Interleukin 2 receptor=%{marker.size}<br>gender=%{customdata[0]}\", \"legendgroup\": \"Dead\", \"marker\": {\"color\": \"#636efa\", \"size\": [934.5952932098767, 934.5952932098767, 1504.0, 2099.0, 1263.0, 625.0, 934.5952932098767, 934.5952932098767, 612.0, 1336.0, 934.5952932098767, 758.0, 1482.0, 734.0, 934.5952932098767, 2692.0, 1231.0, 934.5952932098767, 934.5952932098767, 934.5952932098767, 934.5952932098767, 934.5952932098767, 1063.0, 966.0, 934.5952932098767, 934.5952932098767, 3516.0, 934.5952932098767, 934.5952932098767, 934.5952932098767, 934.5952932098767], \"sizemode\": \"area\", \"sizeref\": 4.6875, \"symbol\": \"x\"}, \"mode\": \"markers\", \"name\": \"Dead\", \"showlegend\": true, \"x\": [71.0, 100.0, 136.0, 100.0, 134.66666666666666, 115.0, 116.0, 73.0, 96.0, 122.25, 125.21955256821822, 143.0, 112.0, 107.83333333333333, 125.21955256821822, 102.0, 124.6, 140.22222222222223, 153.0, 123.5, 145.0, 129.0, 116.91666666666667, 132.2, 163.0, 125.21955256821822, 145.0, 110.5, 140.0, 137.5, 125.21955256821822], \"xaxis\": \"x\", \"y\": [0.3, 0.1, 0.0, 0.0, 0.0, 0.0, 0.0, 0.21428571428571433, 0.0, 0.0, 0.6806374843945067, 0.0, 0.43333333333333335, 0.18, 0.6806374843945067, 0.0, 0.08, 0.08888888888888888, 0.0, 0.05, 0.6, 0.0, 0.3333333333333333, 0.22000000000000003, 0.0, 0.6806374843945067, 0.1, 0.15, 0.2, 0.05, 0.6806374843945067], \"yaxis\": \"y\", \"type\": \"scatter\"}], \"name\": \"60\"}, {\"data\": [{\"customdata\": [[\"Male\"], [\"Female\"], [\"Female\"], [\"Male\"], [\"Female\"], [\"Female\"], [\"Female\"], [\"Male\"], [\"Male\"], [\"Male\"], [\"Female\"], [\"Male\"], [\"Female\"], [\"Female\"], [\"Female\"], [\"Male\"], [\"Male\"], [\"Male\"], [\"Female\"], [\"Male\"], [\"Female\"], [\"Male\"], [\"Male\"], [\"Male\"], [\"Male\"], [\"Female\"], [\"Male\"], [\"Female\"], [\"Female\"], [\"Female\"], [\"Female\"]], \"hoverlabel\": {\"namelength\": 0}, \"hovertemplate\": \"outcome=Recovered<br>disc_age=65<br>hemoglobin=%{x}<br>eosinophils(%)=%{y}<br>Interleukin 2 receptor=%{marker.size}<br>gender=%{customdata[0]}\", \"legendgroup\": \"Recovered\", \"marker\": {\"color\": \"#636efa\", \"size\": [671.6666666666666, 348.0, 520.0, 934.5952932098767, 934.5952932098767, 249.0, 1299.0, 934.5952932098767, 934.5952932098767, 934.5952932098767, 942.0, 934.5952932098767, 934.5952932098767, 2121.0, 934.5952932098767, 597.5, 934.5952932098767, 336.0, 934.5952932098767, 472.0, 934.5952932098767, 934.5952932098767, 457.0, 746.0, 934.5952932098767, 328.5, 591.0, 892.0, 1348.0, 934.5952932098767, 701.0], \"sizemode\": \"area\", \"sizeref\": 4.6875, \"symbol\": \"square\"}, \"mode\": \"markers\", \"name\": \"Recovered\", \"showlegend\": true, \"x\": [127.0, 138.5, 75.475, 101.5, 106.0, 134.0, 125.66666666666667, 122.0, 114.33333333333333, 118.5, 129.8, 131.0, 140.0, 106.75, 125.21955256821822, 134.0, 121.66666666666667, 86.2, 137.0, 117.66666666666667, 126.0, 114.0, 122.5, 97.0, 112.5, 129.75, 115.66666666666667, 126.0, 127.5, 122.0, 116.5], \"xaxis\": \"x\", \"y\": [0.0, 0.15, 0.5333333333333333, 1.15, 2.8499999999999996, 2.0, 2.1666666666666665, 2.2, 0.8333333333333334, 0.375, 1.26, 0.9, 0.25, 0.175, 0.6806374843945067, 0.06666666666666667, 1.2333333333333334, 2.45, 1.8, 2.9333333333333336, 0.0, 0.0, 0.35, 4.05, 2.1, 0.1, 0.10000000000000002, 3.2, 0.65, 3.7, 1.0], \"yaxis\": \"y\", \"type\": \"scatter\"}, {\"customdata\": [[\"Female\"], [\"Female\"], [\"Female\"], [\"Male\"], [\"Female\"], [\"Female\"], [\"Female\"], [\"Female\"], [\"Female\"], [\"Female\"], [\"Male\"], [\"Female\"], [\"Female\"], [\"Female\"], [\"Female\"], [\"Male\"], [\"Female\"], [\"Female\"], [\"Female\"], [\"Female\"], [\"Female\"], [\"Female\"], [\"Female\"], [\"Male\"], [\"Female\"], [\"Female\"], [\"Female\"], [\"Female\"], [\"Female\"], [\"Female\"], [\"Male\"], [\"Female\"], [\"Female\"]], \"hoverlabel\": {\"namelength\": 0}, \"hovertemplate\": \"outcome=Dead<br>disc_age=65<br>hemoglobin=%{x}<br>eosinophils(%)=%{y}<br>Interleukin 2 receptor=%{marker.size}<br>gender=%{customdata[0]}\", \"legendgroup\": \"Dead\", \"marker\": {\"color\": \"#636efa\", \"size\": [934.5952932098767, 934.5952932098767, 934.5952932098767, 667.0, 537.0, 306.0, 934.5952932098767, 934.5952932098767, 1603.0, 934.5952932098767, 393.0, 1177.0, 1648.0, 1480.0, 934.5952932098767, 934.5952932098767, 934.5952932098767, 1524.0, 934.5952932098767, 609.0, 1087.0, 934.5952932098767, 934.5952932098767, 1258.0, 2182.0, 934.5952932098767, 1931.0, 568.0, 934.5952932098767, 1538.0, 934.5952932098767, 941.0, 934.5952932098767], \"sizemode\": \"area\", \"sizeref\": 4.6875, \"symbol\": \"x\"}, \"mode\": \"markers\", \"name\": \"Dead\", \"showlegend\": true, \"x\": [146.0, 138.6, 155.5, 114.0, 149.0, 97.1, 167.0, 158.0, 117.0, 146.0, 99.0, 142.0, 129.0, 115.11111111111111, 178.0, 95.0, 124.0, 163.0, 101.0, 123.0, 123.8, 126.0, 125.21955256821822, 143.0, 133.5, 109.0, 104.5, 118.0, 123.0, 124.33333333333333, 125.25, 126.5, 124.0], \"xaxis\": \"x\", \"y\": [0.0, 0.0, 0.0, 0.0, 3.7, 0.0, 0.0, 0.0, 0.016666666666666666, 0.0, 0.0, 0.0, 0.0, 0.14444444444444446, 0.0, 0.025, 0.0, 0.0, 0.0, 0.0, 0.1, 0.0, 0.6806374843945067, 0.05, 0.0, 0.2, 0.9500000000000001, 0.0, 0.0, 0.0, 0.375, 0.0, 0.09999999999999999], \"yaxis\": \"y\", \"type\": \"scatter\"}], \"name\": \"65\"}, {\"data\": [{\"customdata\": [[\"Male\"], [\"Female\"], [\"Female\"], [\"Male\"], [\"Female\"], [\"Female\"]], \"hoverlabel\": {\"namelength\": 0}, \"hovertemplate\": \"outcome=Recovered<br>disc_age=70<br>hemoglobin=%{x}<br>eosinophils(%)=%{y}<br>Interleukin 2 receptor=%{marker.size}<br>gender=%{customdata[0]}\", \"legendgroup\": \"Recovered\", \"marker\": {\"color\": \"#636efa\", \"size\": [934.5952932098767, 934.5952932098767, 934.5952932098767, 2774.0, 285.0, 934.5952932098767], \"sizemode\": \"area\", \"sizeref\": 4.6875, \"symbol\": \"square\"}, \"mode\": \"markers\", \"name\": \"Recovered\", \"showlegend\": true, \"x\": [102.0, 133.2, 98.0, 125.0, 123.75, 141.0], \"xaxis\": \"x\", \"y\": [1.55, 0.78, 2.1, 0.0, 2.0, 1.7], \"yaxis\": \"y\", \"type\": \"scatter\"}, {\"customdata\": [[\"Male\"], [\"Female\"], [\"Female\"], [\"Male\"], [\"Female\"], [\"Male\"], [\"Female\"], [\"Male\"], [\"Male\"], [\"Female\"], [\"Female\"], [\"Male\"], [\"Male\"], [\"Female\"], [\"Female\"], [\"Female\"], [\"Male\"], [\"Female\"], [\"Female\"], [\"Female\"], [\"Female\"], [\"Female\"], [\"Male\"], [\"Female\"], [\"Female\"], [\"Female\"]], \"hoverlabel\": {\"namelength\": 0}, \"hovertemplate\": \"outcome=Dead<br>disc_age=70<br>hemoglobin=%{x}<br>eosinophils(%)=%{y}<br>Interleukin 2 receptor=%{marker.size}<br>gender=%{customdata[0]}\", \"legendgroup\": \"Dead\", \"marker\": {\"color\": \"#636efa\", \"size\": [901.0, 934.5952932098767, 2709.0, 934.5952932098767, 1049.0, 934.5952932098767, 934.5952932098767, 1881.0, 1006.0, 934.5952932098767, 1853.5, 968.0, 934.5952932098767, 3638.0, 934.5952932098767, 934.5952932098767, 934.5952932098767, 934.5952932098767, 1247.0, 934.5952932098767, 934.5952932098767, 934.5952932098767, 558.0, 1845.0, 1333.5, 1341.0], \"sizemode\": \"area\", \"sizeref\": 4.6875, \"symbol\": \"x\"}, \"mode\": \"markers\", \"name\": \"Dead\", \"showlegend\": true, \"x\": [127.0, 140.5, 102.28571428571429, 108.0, 118.9, 112.0, 93.0, 137.2, 101.75, 143.0, 123.83333333333333, 112.0, 114.0, 162.0, 146.0, 148.0, 136.0, 166.0, 148.0, 149.0, 157.25, 137.57142857142858, 122.5, 125.0, 137.4, 126.0], \"xaxis\": \"x\", \"y\": [0.0, 0.05, 0.014285714285714287, 0.03333333333333333, 0.38, 0.0, 0.0, 0.04, 0.0, 0.0, 0.18333333333333335, 0.6, 0.0, 0.0, 0.0, 0.6, 0.1, 0.0, 0.39999999999999997, 0.0, 0.11249999999999999, 0.6285714285714284, 0.0, 0.9666666666666667, 0.3, 0.0], \"yaxis\": \"y\", \"type\": \"scatter\"}], \"name\": \"70\"}, {\"data\": [{\"customdata\": [[\"Female\"]], \"hoverlabel\": {\"namelength\": 0}, \"hovertemplate\": \"outcome=Recovered<br>disc_age=75<br>hemoglobin=%{x}<br>eosinophils(%)=%{y}<br>Interleukin 2 receptor=%{marker.size}<br>gender=%{customdata[0]}\", \"legendgroup\": \"Recovered\", \"marker\": {\"color\": \"#636efa\", \"size\": [1341.2], \"sizemode\": \"area\", \"sizeref\": 4.6875, \"symbol\": \"square\"}, \"mode\": \"markers\", \"name\": \"Recovered\", \"showlegend\": true, \"x\": [130.83333333333334], \"xaxis\": \"x\", \"y\": [0.13333333333333333], \"yaxis\": \"y\", \"type\": \"scatter\"}, {\"customdata\": [[\"Female\"], [\"Male\"], [\"Female\"], [\"Male\"], [\"Male\"], [\"Male\"], [\"Female\"], [\"Male\"], [\"Female\"], [\"Male\"], [\"Male\"], [\"Female\"], [\"Female\"], [\"Female\"], [\"Female\"], [\"Female\"], [\"Female\"], [\"Female\"], [\"Male\"], [\"Male\"], [\"Female\"], [\"Female\"], [\"Male\"]], \"hoverlabel\": {\"namelength\": 0}, \"hovertemplate\": \"outcome=Dead<br>disc_age=75<br>hemoglobin=%{x}<br>eosinophils(%)=%{y}<br>Interleukin 2 receptor=%{marker.size}<br>gender=%{customdata[0]}\", \"legendgroup\": \"Dead\", \"marker\": {\"color\": \"#636efa\", \"size\": [934.5952932098767, 1054.0, 934.5952932098767, 1124.0, 934.5952932098767, 1149.0, 807.0, 934.5952932098767, 1643.0, 635.0, 934.5952932098767, 4201.0, 934.5952932098767, 2023.0, 1774.0, 934.5952932098767, 1833.0, 934.5952932098767, 934.5952932098767, 1180.0, 470.5, 934.5952932098767, 934.5952932098767], \"sizemode\": \"area\", \"sizeref\": 4.6875, \"symbol\": \"x\"}, \"mode\": \"markers\", \"name\": \"Dead\", \"showlegend\": true, \"x\": [126.0, 128.4, 137.0, 107.66666666666667, 120.0, 123.5, 88.0, 125.21955256821822, 147.5, 114.16666666666667, 108.0, 145.5, 160.33333333333334, 164.0, 98.0, 141.0, 118.7, 93.0, 133.66666666666666, 113.5, 109.0, 84.5, 125.21955256821822], \"xaxis\": \"x\", \"y\": [0.2, 0.42000000000000004, 0.0, 0.03333333333333333, 0.0, 0.45, 0.0, 0.6806374843945067, 0.0, 0.06666666666666667, 0.075, 0.025, 0.13333333333333333, 0.2, 0.2, 0.03333333333333333, 0.24000000000000005, 0.0, 0.0, 0.05, 0.19999999999999998, 0.0, 0.6806374843945067], \"yaxis\": \"y\", \"type\": \"scatter\"}], \"name\": \"75\"}, {\"data\": [{\"customdata\": [[\"Female\"], [\"Male\"], [\"Female\"]], \"hoverlabel\": {\"namelength\": 0}, \"hovertemplate\": \"outcome=Recovered<br>disc_age=80<br>hemoglobin=%{x}<br>eosinophils(%)=%{y}<br>Interleukin 2 receptor=%{marker.size}<br>gender=%{customdata[0]}\", \"legendgroup\": \"Recovered\", \"marker\": {\"color\": \"#636efa\", \"size\": [322.0, 934.5952932098767, 934.5952932098767], \"sizemode\": \"area\", \"sizeref\": 4.6875, \"symbol\": \"square\"}, \"mode\": \"markers\", \"name\": \"Recovered\", \"showlegend\": true, \"x\": [89.78, 70.2, 124.0], \"xaxis\": \"x\", \"y\": [2.8, 1.5499999999999998, 1.6], \"yaxis\": \"y\", \"type\": \"scatter\"}, {\"customdata\": [[\"Male\"], [\"Female\"], [\"Male\"], [\"Male\"], [\"Male\"], [\"Female\"], [\"Female\"], [\"Male\"], [\"Female\"], [\"Female\"], [\"Female\"], [\"Female\"], [\"Female\"], [\"Female\"], [\"Female\"]], \"hoverlabel\": {\"namelength\": 0}, \"hovertemplate\": \"outcome=Dead<br>disc_age=80<br>hemoglobin=%{x}<br>eosinophils(%)=%{y}<br>Interleukin 2 receptor=%{marker.size}<br>gender=%{customdata[0]}\", \"legendgroup\": \"Dead\", \"marker\": {\"color\": \"#636efa\", \"size\": [934.5952932098767, 934.5952932098767, 1455.0, 3382.0, 934.5952932098767, 599.0, 1807.0, 1113.5, 934.5952932098767, 1179.0, 1171.0, 934.5952932098767, 1189.0, 934.5952932098767, 1681.0], \"sizemode\": \"area\", \"sizeref\": 4.6875, \"symbol\": \"x\"}, \"mode\": \"markers\", \"name\": \"Dead\", \"showlegend\": true, \"x\": [125.21955256821822, 141.5, 119.66666666666667, 123.2, 147.0, 165.0, 115.0, 115.0, 116.0, 98.6, 129.0, 124.66666666666667, 125.21955256821822, 154.5, 128.0], \"xaxis\": \"x\", \"y\": [0.6806374843945067, 0.0, 0.03333333333333333, 0.0, 0.0, 0.05, 0.0, 0.03333333333333333, 0.0, 0.1, 0.0, 0.044444444444444446, 0.6806374843945067, 0.35, 0.0], \"yaxis\": \"y\", \"type\": \"scatter\"}], \"name\": \"80\"}, {\"data\": [{\"customdata\": [[\"Male\"]], \"hoverlabel\": {\"namelength\": 0}, \"hovertemplate\": \"outcome=Recovered<br>disc_age=85<br>hemoglobin=%{x}<br>eosinophils(%)=%{y}<br>Interleukin 2 receptor=%{marker.size}<br>gender=%{customdata[0]}\", \"legendgroup\": \"Recovered\", \"marker\": {\"color\": \"#636efa\", \"size\": [204.0], \"sizemode\": \"area\", \"sizeref\": 4.6875, \"symbol\": \"square\"}, \"mode\": \"markers\", \"name\": \"Recovered\", \"showlegend\": true, \"x\": [110.0], \"xaxis\": \"x\", \"y\": [0.4], \"yaxis\": \"y\", \"type\": \"scatter\"}, {\"customdata\": [[\"Female\"], [\"Male\"], [\"Female\"], [\"Female\"], [\"Male\"], [\"Male\"], [\"Female\"], [\"Female\"]], \"hoverlabel\": {\"namelength\": 0}, \"hovertemplate\": \"outcome=Dead<br>disc_age=85<br>hemoglobin=%{x}<br>eosinophils(%)=%{y}<br>Interleukin 2 receptor=%{marker.size}<br>gender=%{customdata[0]}\", \"legendgroup\": \"Dead\", \"marker\": {\"color\": \"#636efa\", \"size\": [1288.0, 902.0, 682.0, 934.5952932098767, 870.0, 2665.0, 934.5952932098767, 934.5952932098767], \"sizemode\": \"area\", \"sizeref\": 4.6875, \"symbol\": \"x\"}, \"mode\": \"markers\", \"name\": \"Dead\", \"showlegend\": true, \"x\": [132.2, 130.0, 156.0, 103.0, 97.0, 130.33333333333334, 156.0, 110.25], \"xaxis\": \"x\", \"y\": [0.02, 0.0, 0.07500000000000001, 0.0, 0.0, 0.06666666666666667, 0.0, 0.1], \"yaxis\": \"y\", \"type\": \"scatter\"}], \"name\": \"85\"}, {\"data\": [{\"customdata\": [[\"Female\"], [\"Female\"], [\"Male\"], [\"Female\"]], \"hoverlabel\": {\"namelength\": 0}, \"hovertemplate\": \"outcome=Dead<br>disc_age=90<br>hemoglobin=%{x}<br>eosinophils(%)=%{y}<br>Interleukin 2 receptor=%{marker.size}<br>gender=%{customdata[0]}\", \"legendgroup\": \"Dead\", \"marker\": {\"color\": \"#636efa\", \"size\": [1190.0, 513.0, 934.5952932098767, 2161.0], \"sizemode\": \"area\", \"sizeref\": 4.6875, \"symbol\": \"x\"}, \"mode\": \"markers\", \"name\": \"Dead\", \"showlegend\": true, \"x\": [104.5, 119.75, 121.5, 108.0], \"xaxis\": \"x\", \"y\": [0.0, 0.0, 0.0, 1.6], \"yaxis\": \"y\", \"type\": \"scatter\"}], \"name\": \"90\"}]);\n",
       "                        }).then(function(){\n",
       "                            \n",
       "var gd = document.getElementById('b500f35e-f02a-4990-8857-f621da62f3f4');\n",
       "var x = new MutationObserver(function (mutations, observer) {{\n",
       "        var display = window.getComputedStyle(gd).display;\n",
       "        if (!display || display === 'none') {{\n",
       "            console.log([gd, 'removed!']);\n",
       "            Plotly.purge(gd);\n",
       "            observer.disconnect();\n",
       "        }}\n",
       "}});\n",
       "\n",
       "// Listen for the removal of the full notebook cells\n",
       "var notebookContainer = gd.closest('#notebook-container');\n",
       "if (notebookContainer) {{\n",
       "    x.observe(notebookContainer, {childList: true});\n",
       "}}\n",
       "\n",
       "// Listen for the clearing of the current output cell\n",
       "var outputEl = gd.closest('.output');\n",
       "if (outputEl) {{\n",
       "    x.observe(outputEl, {childList: true});\n",
       "}}\n",
       "\n",
       "                        })\n",
       "                };\n",
       "                });\n",
       "            </script>\n",
       "        </div>"
      ]
     },
     "metadata": {},
     "output_type": "display_data"
    }
   ],
   "source": [
    "import plotly.express as px\n",
    "\n",
    "\n",
    "fig = px.scatter(age_data, x=\"hemoglobin\", y=\"eosinophils(%)\", \n",
    "            animation_frame=\"disc_age\", #animation_group=\"gender\",\n",
    "            size=\"Interleukin 2 receptor\", hover_data = [\"gender\"], \n",
    "            symbol = \"outcome\", symbol_map = {'dead':'x', 'alive':'circle'},\n",
    "            range_x=[60,180], range_y=[-1, 6], size_max = 40, title = 'title')\n",
    "\n",
    "\n",
    "fig.update_layout({'plot_bgcolor' : 'rgba(224, 236, 244, 0.3)'})\n",
    "fig.update_xaxes(showline=True, linewidth=2, linecolor='black', mirror=True)\n",
    "fig.update_yaxes(showline=True, linewidth=2, linecolor='black', mirror=True)\n",
    "#fig[\"layout\"].pop(\"updatemenus\") # optional, drop animation buttons\n",
    "fig.update_layout(legend_title_text='    Outcome:')\n",
    "fig.show()"
   ]
  }
 ],
 "metadata": {
  "kernelspec": {
   "display_name": "Python 3",
   "language": "python",
   "name": "python3"
  },
  "language_info": {
   "codemirror_mode": {
    "name": "ipython",
    "version": 3
   },
   "file_extension": ".py",
   "mimetype": "text/x-python",
   "name": "python",
   "nbconvert_exporter": "python",
   "pygments_lexer": "ipython3",
   "version": "3.7.3"
  },
  "toc": {
   "base_numbering": 1,
   "nav_menu": {},
   "number_sections": true,
   "sideBar": true,
   "skip_h1_title": false,
   "title_cell": "Table of Contents",
   "title_sidebar": "Contents",
   "toc_cell": false,
   "toc_position": {},
   "toc_section_display": true,
   "toc_window_display": false
  }
 },
 "nbformat": 4,
 "nbformat_minor": 4
}
